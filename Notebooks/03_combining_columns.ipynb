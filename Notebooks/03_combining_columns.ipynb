{
 "cells": [
  {
   "cell_type": "code",
   "execution_count": 15,
   "id": "5aafb755-7f20-4371-bf40-791bd529e482",
   "metadata": {},
   "outputs": [],
   "source": [
    "# Imports\n",
    "import pandas as pd\n",
    "import numpy as np\n",
    "pd.set_option('display.max_rows', 400)"
   ]
  },
  {
   "cell_type": "code",
   "execution_count": 2,
   "id": "aef5d4a7-c850-4251-bc57-55792077a88c",
   "metadata": {},
   "outputs": [],
   "source": [
    "# Helper functions from helper_functions.py (couldn't import for some reason)\n",
    "\n",
    "def set_nulls(data, cols):\n",
    "    \"\"\"\n",
    "   @param data: dataframe\n",
    "   @param cols: list of column names that have -99\n",
    "   \n",
    "   @return dataframe with -99 replaced with NaN\n",
    "    \"\"\"\n",
    "    for c in cols:\n",
    "        idx = np.where(data[c] == -99)[0]\n",
    "        if len(idx) > 0:\n",
    "            data[c].loc[idx] = np.nan\n",
    "            \n",
    "    return data\n",
    "\n",
    "def map_cpt(data, column, replace, name):\n",
    "    \"\"\"\n",
    "    @param data: dataframe\n",
    "    @param column: string, column name\n",
    "    @param replace: list of variables holding the values to be replaced by that particular variable name\n",
    "    @ param name: string or integer of what will replace the values in replacements\n",
    "\n",
    "    \"\"\"\n",
    "    for r in replace:\n",
    "        idx = np.where(data[column] == r)[0]\n",
    "        data[column].loc[idx] = name\n",
    "    \n",
    "    return data"
   ]
  },
  {
   "cell_type": "code",
   "execution_count": 6,
   "id": "8f49a656-b41d-4321-bb97-ecd641ab67e1",
   "metadata": {},
   "outputs": [
    {
     "name": "stderr",
     "output_type": "stream",
     "text": [
      "/Users/kpant/.pyenv/versions/3.9.1/envs/cs/lib/python3.9/site-packages/IPython/core/interactiveshell.py:3444: DtypeWarning: Columns (10,17,19,23,25,27,28,29,30,32,33,36,37,38,39,40,41,42,43,50,51,83,86,89,92,94,95,97,100,103,106,110,113,116,121,124,127,130,133,136,188,190,201,212,231,232,242,244,247,249,256,262,267,273,279,280,281,282,283,284,286,287,288,289,290,291,292,293,294,295,296,297,298,299,300,301,305,318,320,333,334) have mixed types.Specify dtype option on import or set low_memory=False.\n",
      "  exec(code_obj, self.user_global_ns, self.user_ns)\n",
      "/Users/kpant/.pyenv/versions/3.9.1/envs/cs/lib/python3.9/site-packages/pandas/core/indexing.py:1732: SettingWithCopyWarning: \n",
      "A value is trying to be set on a copy of a slice from a DataFrame\n",
      "\n",
      "See the caveats in the documentation: https://pandas.pydata.org/pandas-docs/stable/user_guide/indexing.html#returning-a-view-versus-a-copy\n",
      "  self._setitem_single_block(indexer, value, name)\n"
     ]
    }
   ],
   "source": [
    "data = pd.read_csv('../data/monet_output.csv')\n",
    "data.drop(['Unnamed: 0', 'X'], axis = 1, inplace = True)\n",
    "integer_cols = data.dtypes == int\n",
    "int_cols = data.columns[integer_cols]\n",
    "df = set_nulls(data, int_cols)\n",
    "float_flag = df.dtypes == float\n",
    "float_cols = df.columns[float_flag]\n",
    "df_clean = set_nulls(df, float_cols)\n",
    "\n",
    "op1 = ['COLCT TOT ABDL W/O PRCTECT W/CONTINENT ILEOST']\n",
    "op2 = ['COLCT TOT ABDL W/O PRCTECT W/ILEOST/ILEOPXTS', 'LAPS COLECTOMY TOT W/O PRCTECT W/ILEOST/ILEOPXTS']\n",
    "op3 = ['COLECTOMY PARTIAL W/ANASTOMOSIS', 'LAPAROSCOPY COLECTOMY PARTIAL W/ANASTOMOSIS']\n",
    "op4 = ['COLECTOMY PRTL ABDOMINAL & TRANSANAL APPROACH', 'COLECTOMY PRTL ABDOMINAL & TRANSANAL APPR']\n",
    "op5 = ['COLECTOMY PRTL W/COLOPROCTOSTOMY', 'LAPS COLECTOMY PRTL W/COLOPXTSTMY LW ANAST']\n",
    "op6 = ['COLECTOMY PRTL W/COLOPROCTOSTOMY & COLOSTOMY', 'LAPS COLECTMY PRTL W/COLOPXTSTMY LW ANAST W/CLST']\n",
    "op7 = ['COLECTOMY PRTL W/COLOST/ILEOST & MUCOFISTULA']\n",
    "op8 = ['COLECTOMY PRTL W/END COLOSTOMY & CLSR DSTL SGMT', 'COLECTOMY PRTL W/END COLOSTOMY&CLSR DSTL SGMT', 'LAPS COLECTOMY PRTL W/END CLST & CLSR DSTL SGM', 'LAPS COLECTOMY PRTL W/END CLST&CLSR DSTL SGM']\n",
    "op9 = ['COLECTOMY PRTL W/RMVL TERMINAL ILEUM & ILEOCOLOS', 'COLECTOMY PRTL W/RMVL TERMINAL ILEUM&ILEOCOLOST', 'LAPS COLECTOMY PRTL W/RMVL TERMINAL ILEUM', 'COLECTOMY PRTL W/RMVL TERMINAL ILEUM & ILEOCOLOST']\n",
    "op10 = ['COLECTOMY PRTL W/SKIN LEVEL CECOST/COLOSTOMY']\n",
    "num_replacements = [op1, op2, op3, op4, op5, op6, op7, op8, op9, op10]\n",
    "for i in range(len(num_replacements)):\n",
    "    df_clean = map_cpt(df_clean, 'PRNCPTX', num_replacements[i], i+1)\n",
    "\n",
    "MIS = ['Laparoscopic', 'Endoscopic w/ unplanned conversion to open', 'Hybrid', 'Hybrid w/ open assist', 'Laparoscopic Hand Assisted', 'Laparoscopic w/ open assist', 'Laparoscopic w/ unplanned conversion to open', 'Laparoscopic w/ unplanned conversion to Open', 'Other MIS approach', 'Robotic', 'Robotic w/ open assist', 'Robotic w/ unplanned conversion to open', 'SILS', 'SILS w/ open assist', 'SILS w/ unplanned conversion to open', 'Hybrid w/ unplanned conversion to open', 'Endoscopic w/ open assist', 'Other MIS approach w/ open assist', 'Endoscopic', 'NOTES', 'NOTES w/ open assist', 'Other MIS approach w/ unplanned conversion to open', 'NOTES w/ unplanned conversion to open']\n",
    "Open = ['Open', 'Open (planned)']\n",
    "options = [MIS, Open]\n",
    "names = ['MIS', 'open']\n",
    "for i in range(len(options)):\n",
    "    df_clean = map_cpt(df_clean, 'COL_APPROACH', options[i], names[i])\n",
    "\n",
    "#convert unknowns to NAs\n",
    "nulls = np.where(df_clean.COL_APPROACH == 'Unknown')[0]\n",
    "df_clean.COL_APPROACH.loc[nulls] = np.nan\n",
    "\n",
    "droppable =  ['ATTEND', 'ETOH',\n",
    "'CPNEUMON',\n",
    "'DNR',\n",
    "'ESOVAR',\n",
    "'HXMI',\n",
    "'PRVPCI',\n",
    "'PRVPCS',\n",
    "'HXANGINA',\n",
    "'HXPVD',\n",
    "'RESTPAIN',\n",
    "'IMPSENS',\n",
    "'COMA',\n",
    "'HEMI',\n",
    "'HXTIA',\n",
    "'CVA', \n",
    "'CVANO', \n",
    "'TUMORCNS', \n",
    "'QUAD', \n",
    "'CHEMO', \n",
    "'RADIO', \n",
    "'CNSCOMA', \n",
    "'NEURODEF', \n",
    "'OTHGRAFL', \n",
    "'PARA', \n",
    "'PREGNANCY']\n",
    "\n",
    "df_clean.drop(columns=droppable, inplace=True)"
   ]
  },
  {
   "cell_type": "code",
   "execution_count": 19,
   "id": "9731d052-5be2-4733-a45f-2326839214a3",
   "metadata": {},
   "outputs": [],
   "source": [
    "col_df = pd.DataFrame(df_clean.columns)\n",
    "col_df.to_csv(\"columns.csv\", index=False)"
   ]
  },
  {
   "cell_type": "code",
   "execution_count": null,
   "id": "61b89e23-b19c-4a74-bbf7-2bf3f01ba1d2",
   "metadata": {},
   "outputs": [],
   "source": []
  }
 ],
 "metadata": {
  "kernelspec": {
   "display_name": "Python 3 (ipykernel)",
   "language": "python",
   "name": "python3"
  },
  "language_info": {
   "codemirror_mode": {
    "name": "ipython",
    "version": 3
   },
   "file_extension": ".py",
   "mimetype": "text/x-python",
   "name": "python",
   "nbconvert_exporter": "python",
   "pygments_lexer": "ipython3",
   "version": "3.9.1"
  }
 },
 "nbformat": 4,
 "nbformat_minor": 5
}
