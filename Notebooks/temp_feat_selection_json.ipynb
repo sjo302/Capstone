{
 "cells": [
  {
   "cell_type": "code",
   "execution_count": 5,
   "metadata": {},
   "outputs": [],
   "source": [
    "import sys\n",
    "sys.path.append(\"../scripts\")"
   ]
  },
  {
   "cell_type": "code",
   "execution_count": 70,
   "metadata": {},
   "outputs": [],
   "source": [
    "import json\n",
    "\n",
    "## =====================##\n",
    "## Example set up\n",
    "## =====================##\n",
    "## Stand-in for actual features--pretend these are all the features\n",
    "## in the data\n",
    "colnames = [\"a\", \"b\", \"c\", \"d\", \"e\", \"f\", \"g\"]\n",
    "\n",
    "\n",
    "## =====================##\n",
    "## Read json data\n",
    "## =====================##\n",
    "## Read json ('r' is for read-only for now)\n",
    "f = open(\"../data/feature_select.json\", \"r\")\n",
    "feat_dict = json.load(f)\n",
    "## Close the json after reading it in so no shenanigans delete data\n",
    "f.close()\n",
    "\n",
    "\n",
    "## =====================##\n",
    "## Determine what features to start with\n",
    "## =====================##\n",
    "## For simplicity's sake, I'm just going to do this with 'rfe'\n",
    "## I think the same logic should apply for 'correlation'\n",
    "\n",
    "## May be nice to have a simple way to start from scratch if need be\n",
    "start_over = False\n",
    "if start_over:\n",
    "    feat_dict[\"rfe\"] = {}\n",
    "    \n",
    "if len(feat_dict[\"rfe\"]) == 0:\n",
    "    ## This will put the full feature set in the dictionary to start\n",
    "    ## The AUC doesn't matter here, so I made it -1\n",
    "    start_feats = colnames\n",
    "    feat_dict[\"rfe\"][len(colnames)] = {\"auc\": -1, \"features\":colnames}\n",
    "\n",
    "else:\n",
    "    start_feats = feat_dict[\"rfe\"][min(feat_dict[\"rfe\"].keys())][\"features\"]\n",
    "    \n",
    "    \n",
    "\n",
    "## =====================##\n",
    "## Update and write to json\n",
    "## =====================##\n",
    "## Do something to obtain new set of features and associated AUC:\n",
    "## (This part will likely be in some kind of loop)\n",
    "end_feats = colnames[0:len(start_feats)-1]\n",
    "auc = 0.5\n",
    "feat_dict[\"rfe\"][len(end_feats)] = {\"auc\": auc, \"features\":end_feats}\n",
    "\n",
    "## Write to the json file\n",
    "## The existing feat_dict overwrites the previous json file\n",
    "f = open(\"../data/feature_select.json\", \"w+\")\n",
    "f.write(json.dumps(feat_dict))\n",
    "f.close()\n",
    "## Remember to close the file each loop. If things crash while the file\n",
    "## is open, progress will be lost, defeating the whole purpose of this"
   ]
  },
  {
   "cell_type": "code",
   "execution_count": null,
   "metadata": {},
   "outputs": [],
   "source": []
  },
  {
   "cell_type": "code",
   "execution_count": 71,
   "metadata": {},
   "outputs": [
    {
     "data": {
      "text/plain": [
       "{'rfe': {'7': {'auc': -1, 'features': ['a', 'b', 'c', 'd', 'e', 'f', 'g']},\n",
       "  '6': {'auc': 0.5, 'features': ['a', 'b', 'c', 'd', 'e', 'f']}},\n",
       " 'correlation': {}}"
      ]
     },
     "execution_count": 71,
     "metadata": {},
     "output_type": "execute_result"
    }
   ],
   "source": [
    "f = open(\"../data/feature_select.json\", \"r\")\n",
    "feat_dict = json.load(f)\n",
    "## Close the json after reading it in so no shenanigans delete data\n",
    "f.close()\n",
    "feat_dict"
   ]
  },
  {
   "cell_type": "code",
   "execution_count": null,
   "metadata": {},
   "outputs": [],
   "source": []
  },
  {
   "cell_type": "code",
   "execution_count": null,
   "metadata": {},
   "outputs": [],
   "source": []
  },
  {
   "cell_type": "code",
   "execution_count": null,
   "metadata": {},
   "outputs": [],
   "source": []
  },
  {
   "cell_type": "code",
   "execution_count": null,
   "metadata": {},
   "outputs": [],
   "source": []
  },
  {
   "cell_type": "code",
   "execution_count": null,
   "metadata": {},
   "outputs": [],
   "source": []
  }
 ],
 "metadata": {
  "kernelspec": {
   "display_name": "Python 3",
   "language": "python",
   "name": "python3"
  }
 },
 "nbformat": 4,
 "nbformat_minor": 4
}
