{
 "cells": [
  {
   "cell_type": "markdown",
   "id": "a4b06d17-1fd3-4487-a007-bbf701527c94",
   "metadata": {},
   "source": [
    "## Droppable data and target variable exploration"
   ]
  },
  {
   "cell_type": "code",
   "execution_count": 39,
   "id": "7db4bded-e459-4fe8-8fcf-7e89efc00979",
   "metadata": {},
   "outputs": [],
   "source": [
    "# Imports\n",
    "import pandas as pd\n",
    "import numpy as np"
   ]
  },
  {
   "cell_type": "code",
   "execution_count": 40,
   "id": "4018a2d8-b7fc-4b59-8eff-8e4e09b7f7a9",
   "metadata": {},
   "outputs": [],
   "source": [
    "# Helper functions from helper_functions.py (couldn't import for some reason)\n",
    "\n",
    "def set_nulls(data, cols):\n",
    "    \"\"\"\n",
    "   @param data: dataframe\n",
    "   @param cols: list of column names that have -99\n",
    "   \n",
    "   @return dataframe with -99 replaced with NaN\n",
    "    \"\"\"\n",
    "    for c in cols:\n",
    "        idx = np.where(data[c] == -99)[0]\n",
    "        if len(idx) > 0:\n",
    "            data[c].loc[idx] = np.nan\n",
    "            \n",
    "    return data\n",
    "\n",
    "def map_cpt(data, column, replace, name):\n",
    "    \"\"\"\n",
    "    @param data: dataframe\n",
    "    @param column: string, column name\n",
    "    @param replace: list of variables holding the values to be replaced by that particular variable name\n",
    "    @ param name: string or integer of what will replace the values in replacements\n",
    "\n",
    "    \"\"\"\n",
    "    for r in replace:\n",
    "        idx = np.where(data[column] == r)[0]\n",
    "        data[column].loc[idx] = name\n",
    "    \n",
    "    return data"
   ]
  },
  {
   "cell_type": "markdown",
   "id": "858fd5e9-0399-41ce-9493-510e69dc3a2d",
   "metadata": {},
   "source": [
    "First, we're gonna clean data. I pulled the relevant bits from the first notebook. Ideally we should eventually have a single data cleaning function we can import and run on all scripts which cleans, formulates target variables, drops columns etc once we have figured all that out"
   ]
  },
  {
   "cell_type": "code",
   "execution_count": 3,
   "id": "6a4b8f20-0566-43fb-9b88-6174ec153c14",
   "metadata": {},
   "outputs": [
    {
     "name": "stderr",
     "output_type": "stream",
     "text": [
      "/Users/kpant/.pyenv/versions/3.9.1/envs/cs/lib/python3.9/site-packages/IPython/core/interactiveshell.py:3444: DtypeWarning: Columns (10,17,19,23,25,27,28,29,30,32,33,36,37,38,39,40,41,42,43,50,51,83,86,89,92,94,95,97,100,103,106,110,113,116,121,124,127,130,133,136,188,190,201,212,231,232,242,244,247,249,256,262,267,273,279,280,281,282,283,284,286,287,288,289,290,291,292,293,294,295,296,297,298,299,300,301,305,318,320,333,334) have mixed types.Specify dtype option on import or set low_memory=False.\n",
      "  exec(code_obj, self.user_global_ns, self.user_ns)\n",
      "/Users/kpant/.pyenv/versions/3.9.1/envs/cs/lib/python3.9/site-packages/pandas/core/indexing.py:1732: SettingWithCopyWarning: \n",
      "A value is trying to be set on a copy of a slice from a DataFrame\n",
      "\n",
      "See the caveats in the documentation: https://pandas.pydata.org/pandas-docs/stable/user_guide/indexing.html#returning-a-view-versus-a-copy\n",
      "  self._setitem_single_block(indexer, value, name)\n"
     ]
    }
   ],
   "source": [
    "data = pd.read_csv('../data/monet_output.csv')\n",
    "data.drop(['Unnamed: 0', 'X'], axis = 1, inplace = True)\n",
    "integer_cols = data.dtypes == int\n",
    "int_cols = data.columns[integer_cols]\n",
    "df = set_nulls(data, int_cols)\n",
    "float_flag = df.dtypes == float\n",
    "float_cols = df.columns[float_flag]\n",
    "df_clean = set_nulls(df, float_cols)\n",
    "\n",
    "op1 = ['COLCT TOT ABDL W/O PRCTECT W/CONTINENT ILEOST']\n",
    "op2 = ['COLCT TOT ABDL W/O PRCTECT W/ILEOST/ILEOPXTS', 'LAPS COLECTOMY TOT W/O PRCTECT W/ILEOST/ILEOPXTS']\n",
    "op3 = ['COLECTOMY PARTIAL W/ANASTOMOSIS', 'LAPAROSCOPY COLECTOMY PARTIAL W/ANASTOMOSIS']\n",
    "op4 = ['COLECTOMY PRTL ABDOMINAL & TRANSANAL APPROACH', 'COLECTOMY PRTL ABDOMINAL & TRANSANAL APPR']\n",
    "op5 = ['COLECTOMY PRTL W/COLOPROCTOSTOMY', 'LAPS COLECTOMY PRTL W/COLOPXTSTMY LW ANAST']\n",
    "op6 = ['COLECTOMY PRTL W/COLOPROCTOSTOMY & COLOSTOMY', 'LAPS COLECTMY PRTL W/COLOPXTSTMY LW ANAST W/CLST']\n",
    "op7 = ['COLECTOMY PRTL W/COLOST/ILEOST & MUCOFISTULA']\n",
    "op8 = ['COLECTOMY PRTL W/END COLOSTOMY & CLSR DSTL SGMT', 'COLECTOMY PRTL W/END COLOSTOMY&CLSR DSTL SGMT', 'LAPS COLECTOMY PRTL W/END CLST & CLSR DSTL SGM', 'LAPS COLECTOMY PRTL W/END CLST&CLSR DSTL SGM']\n",
    "op9 = ['COLECTOMY PRTL W/RMVL TERMINAL ILEUM & ILEOCOLOS', 'COLECTOMY PRTL W/RMVL TERMINAL ILEUM&ILEOCOLOST', 'LAPS COLECTOMY PRTL W/RMVL TERMINAL ILEUM', 'COLECTOMY PRTL W/RMVL TERMINAL ILEUM & ILEOCOLOST']\n",
    "op10 = ['COLECTOMY PRTL W/SKIN LEVEL CECOST/COLOSTOMY']\n",
    "num_replacements = [op1, op2, op3, op4, op5, op6, op7, op8, op9, op10]\n",
    "for i in range(len(num_replacements)):\n",
    "    df_clean = map_cpt(df_clean, 'PRNCPTX', num_replacements[i], i+1)\n",
    "\n",
    "MIS = ['Laparoscopic', 'Endoscopic w/ unplanned conversion to open', 'Hybrid', 'Hybrid w/ open assist', 'Laparoscopic Hand Assisted', 'Laparoscopic w/ open assist', 'Laparoscopic w/ unplanned conversion to open', 'Laparoscopic w/ unplanned conversion to Open', 'Other MIS approach', 'Robotic', 'Robotic w/ open assist', 'Robotic w/ unplanned conversion to open', 'SILS', 'SILS w/ open assist', 'SILS w/ unplanned conversion to open', 'Hybrid w/ unplanned conversion to open', 'Endoscopic w/ open assist', 'Other MIS approach w/ open assist', 'Endoscopic', 'NOTES', 'NOTES w/ open assist', 'Other MIS approach w/ unplanned conversion to open', 'NOTES w/ unplanned conversion to open']\n",
    "Open = ['Open', 'Open (planned)']\n",
    "options = [MIS, Open]\n",
    "names = ['MIS', 'open']\n",
    "for i in range(len(options)):\n",
    "    df_clean = map_cpt(df_clean, 'COL_APPROACH', options[i], names[i])\n",
    "\n",
    "#convert unknowns to NAs\n",
    "nulls = np.where(df_clean.COL_APPROACH == 'Unknown')[0]\n",
    "df_clean.COL_APPROACH.loc[nulls] = np.nan"
   ]
  },
  {
   "cell_type": "markdown",
   "id": "25432e0c-69d3-413a-b4df-977cfe58bb1c",
   "metadata": {},
   "source": [
    "First thing I wanna look at is the 'ATTEND' field. Seems like most of this is NaN, but we should talk to Zoran before dropping in case we can impute a third \"default\" value into the NaNs, in which case this could end up being a high-impact field"
   ]
  },
  {
   "cell_type": "code",
   "execution_count": 4,
   "id": "d91458ad-18ef-4706-a6bc-36f4b48d7252",
   "metadata": {},
   "outputs": [
    {
     "data": {
      "text/plain": [
       "NaN                           0.998655\n",
       "Attending & Resident in OR    0.000725\n",
       "Attending Alone               0.000620\n",
       "Name: ATTEND, dtype: float64"
      ]
     },
     "execution_count": 4,
     "metadata": {},
     "output_type": "execute_result"
    }
   ],
   "source": [
    "df_clean['ATTEND'].value_counts(dropna=False, normalize=True)"
   ]
  },
  {
   "cell_type": "markdown",
   "id": "8abc7912-e8d2-4fa3-9e3c-76cda53f72ad",
   "metadata": {},
   "source": [
    "Next, I started looking at the value counts for the first few ,no values, saw the breakdown was identical..."
   ]
  },
  {
   "cell_type": "code",
   "execution_count": 5,
   "id": "f46a6721-4f18-4d00-b8d1-0d8ff4be7068",
   "metadata": {},
   "outputs": [
    {
     "data": {
      "text/plain": [
       "NaN    0.999194\n",
       "No     0.000806\n",
       "Name: ETOH, dtype: float64"
      ]
     },
     "execution_count": 5,
     "metadata": {},
     "output_type": "execute_result"
    }
   ],
   "source": [
    "df_clean['ETOH'].value_counts(dropna=False, normalize=True)"
   ]
  },
  {
   "cell_type": "code",
   "execution_count": 6,
   "id": "9cd936b3-e671-495e-a75c-14104b424dbc",
   "metadata": {},
   "outputs": [
    {
     "data": {
      "text/plain": [
       "NaN    0.999194\n",
       "No     0.000806\n",
       "Name: CPNEUMON, dtype: float64"
      ]
     },
     "execution_count": 6,
     "metadata": {},
     "output_type": "execute_result"
    }
   ],
   "source": [
    "df_clean['CPNEUMON'].value_counts(dropna=False, normalize=True)"
   ]
  },
  {
   "cell_type": "markdown",
   "id": "a8c4dc53-17d1-46ee-8fe1-dde6f0d5ffdf",
   "metadata": {},
   "source": [
    "...so I decided to look at all of them at once"
   ]
  },
  {
   "cell_type": "code",
   "execution_count": 7,
   "id": "cf08da1b-ef74-41ed-bc12-9de054801b66",
   "metadata": {},
   "outputs": [],
   "source": [
    "cols = ['ETOH',\n",
    "'CPNEUMON',\n",
    "'DNR',\n",
    "'ESOVAR',\n",
    "'HXMI',\n",
    "'PRVPCI',\n",
    "'PRVPCS',\n",
    "'HXANGINA',\n",
    "'HXPVD',\n",
    "'RESTPAIN',\n",
    "'IMPSENS',\n",
    "'COMA',\n",
    "'HEMI',\n",
    "'HXTIA',\n",
    "'CVA', \n",
    "'CVANO', \n",
    "'TUMORCNS', \n",
    "'QUAD', \n",
    "'CHEMO', \n",
    "'RADIO', \n",
    "'CNSCOMA', \n",
    "'NEURODEF', \n",
    "'OTHGRAFL', \n",
    "'PARA', \n",
    "'PREGNANCY']"
   ]
  },
  {
   "cell_type": "code",
   "execution_count": 8,
   "id": "9d8ce00a-6437-4d0e-bf62-0c1b9492473b",
   "metadata": {},
   "outputs": [
    {
     "data": {
      "text/html": [
       "<div>\n",
       "<style scoped>\n",
       "    .dataframe tbody tr th:only-of-type {\n",
       "        vertical-align: middle;\n",
       "    }\n",
       "\n",
       "    .dataframe tbody tr th {\n",
       "        vertical-align: top;\n",
       "    }\n",
       "\n",
       "    .dataframe thead th {\n",
       "        text-align: right;\n",
       "    }\n",
       "</style>\n",
       "<table border=\"1\" class=\"dataframe\">\n",
       "  <thead>\n",
       "    <tr style=\"text-align: right;\">\n",
       "      <th></th>\n",
       "      <th>ETOH</th>\n",
       "      <th>CPNEUMON</th>\n",
       "      <th>DNR</th>\n",
       "      <th>ESOVAR</th>\n",
       "      <th>HXMI</th>\n",
       "      <th>PRVPCI</th>\n",
       "      <th>PRVPCS</th>\n",
       "      <th>HXANGINA</th>\n",
       "      <th>HXPVD</th>\n",
       "      <th>RESTPAIN</th>\n",
       "      <th>...</th>\n",
       "      <th>CVANO</th>\n",
       "      <th>TUMORCNS</th>\n",
       "      <th>QUAD</th>\n",
       "      <th>CHEMO</th>\n",
       "      <th>RADIO</th>\n",
       "      <th>CNSCOMA</th>\n",
       "      <th>NEURODEF</th>\n",
       "      <th>OTHGRAFL</th>\n",
       "      <th>PARA</th>\n",
       "      <th>PREGNANCY</th>\n",
       "    </tr>\n",
       "  </thead>\n",
       "  <tbody>\n",
       "    <tr>\n",
       "      <th>NaN</th>\n",
       "      <td>0.999194</td>\n",
       "      <td>0.999194</td>\n",
       "      <td>0.999066</td>\n",
       "      <td>0.999194</td>\n",
       "      <td>0.999194</td>\n",
       "      <td>0.999194</td>\n",
       "      <td>0.999194</td>\n",
       "      <td>0.999194</td>\n",
       "      <td>0.999194</td>\n",
       "      <td>0.999194</td>\n",
       "      <td>...</td>\n",
       "      <td>0.999194</td>\n",
       "      <td>0.999194</td>\n",
       "      <td>0.999194</td>\n",
       "      <td>0.999194</td>\n",
       "      <td>0.999376</td>\n",
       "      <td>0.850779</td>\n",
       "      <td>0.850779</td>\n",
       "      <td>0.850779</td>\n",
       "      <td>0.999194</td>\n",
       "      <td>0.999228</td>\n",
       "    </tr>\n",
       "    <tr>\n",
       "      <th>No</th>\n",
       "      <td>0.000806</td>\n",
       "      <td>0.000806</td>\n",
       "      <td>0.000934</td>\n",
       "      <td>0.000806</td>\n",
       "      <td>0.000806</td>\n",
       "      <td>0.000806</td>\n",
       "      <td>0.000806</td>\n",
       "      <td>0.000806</td>\n",
       "      <td>0.000806</td>\n",
       "      <td>0.000806</td>\n",
       "      <td>...</td>\n",
       "      <td>0.000806</td>\n",
       "      <td>0.000806</td>\n",
       "      <td>0.000806</td>\n",
       "      <td>0.000806</td>\n",
       "      <td>0.000624</td>\n",
       "      <td>NaN</td>\n",
       "      <td>NaN</td>\n",
       "      <td>NaN</td>\n",
       "      <td>0.000806</td>\n",
       "      <td>0.000772</td>\n",
       "    </tr>\n",
       "    <tr>\n",
       "      <th>No Complication</th>\n",
       "      <td>NaN</td>\n",
       "      <td>NaN</td>\n",
       "      <td>NaN</td>\n",
       "      <td>NaN</td>\n",
       "      <td>NaN</td>\n",
       "      <td>NaN</td>\n",
       "      <td>NaN</td>\n",
       "      <td>NaN</td>\n",
       "      <td>NaN</td>\n",
       "      <td>NaN</td>\n",
       "      <td>...</td>\n",
       "      <td>NaN</td>\n",
       "      <td>NaN</td>\n",
       "      <td>NaN</td>\n",
       "      <td>NaN</td>\n",
       "      <td>NaN</td>\n",
       "      <td>0.149221</td>\n",
       "      <td>0.149221</td>\n",
       "      <td>0.149221</td>\n",
       "      <td>NaN</td>\n",
       "      <td>NaN</td>\n",
       "    </tr>\n",
       "  </tbody>\n",
       "</table>\n",
       "<p>3 rows × 25 columns</p>\n",
       "</div>"
      ],
      "text/plain": [
       "                     ETOH  CPNEUMON       DNR    ESOVAR      HXMI    PRVPCI  \\\n",
       "NaN              0.999194  0.999194  0.999066  0.999194  0.999194  0.999194   \n",
       "No               0.000806  0.000806  0.000934  0.000806  0.000806  0.000806   \n",
       "No Complication       NaN       NaN       NaN       NaN       NaN       NaN   \n",
       "\n",
       "                   PRVPCS  HXANGINA     HXPVD  RESTPAIN  ...     CVANO  \\\n",
       "NaN              0.999194  0.999194  0.999194  0.999194  ...  0.999194   \n",
       "No               0.000806  0.000806  0.000806  0.000806  ...  0.000806   \n",
       "No Complication       NaN       NaN       NaN       NaN  ...       NaN   \n",
       "\n",
       "                 TUMORCNS      QUAD     CHEMO     RADIO   CNSCOMA  NEURODEF  \\\n",
       "NaN              0.999194  0.999194  0.999194  0.999376  0.850779  0.850779   \n",
       "No               0.000806  0.000806  0.000806  0.000624       NaN       NaN   \n",
       "No Complication       NaN       NaN       NaN       NaN  0.149221  0.149221   \n",
       "\n",
       "                 OTHGRAFL      PARA  PREGNANCY  \n",
       "NaN              0.850779  0.999194   0.999228  \n",
       "No                    NaN  0.000806   0.000772  \n",
       "No Complication  0.149221       NaN        NaN  \n",
       "\n",
       "[3 rows x 25 columns]"
      ]
     },
     "execution_count": 8,
     "metadata": {},
     "output_type": "execute_result"
    }
   ],
   "source": [
    "df_clean[cols].apply(pd.Series.value_counts,dropna=False, normalize=True,)"
   ]
  },
  {
   "cell_type": "code",
   "execution_count": 9,
   "id": "b39a19b2-6b57-4d95-861b-f13576c6ef85",
   "metadata": {},
   "outputs": [
    {
     "name": "stderr",
     "output_type": "stream",
     "text": [
      "/Users/kpant/.pyenv/versions/3.9.1/envs/cs/lib/python3.9/site-packages/pandas/core/indexing.py:1732: SettingWithCopyWarning: \n",
      "A value is trying to be set on a copy of a slice from a DataFrame\n",
      "\n",
      "See the caveats in the documentation: https://pandas.pydata.org/pandas-docs/stable/user_guide/indexing.html#returning-a-view-versus-a-copy\n",
      "  self._setitem_single_block(indexer, value, name)\n"
     ]
    }
   ],
   "source": [
    "# Need to combine no complication with no\n",
    "\n",
    "for c in ['CNSCOMA', 'NEURODEF', 'OTHGRAFL']:\n",
    "    idx = np.where(df_clean[c] == 'No Complication')[0]\n",
    "    df_clean[c].loc[idx] = 'No'"
   ]
  },
  {
   "cell_type": "code",
   "execution_count": 10,
   "id": "713006fe-a973-4926-a9cc-ebced8f45dc7",
   "metadata": {},
   "outputs": [
    {
     "data": {
      "text/html": [
       "<div>\n",
       "<style scoped>\n",
       "    .dataframe tbody tr th:only-of-type {\n",
       "        vertical-align: middle;\n",
       "    }\n",
       "\n",
       "    .dataframe tbody tr th {\n",
       "        vertical-align: top;\n",
       "    }\n",
       "\n",
       "    .dataframe thead th {\n",
       "        text-align: right;\n",
       "    }\n",
       "</style>\n",
       "<table border=\"1\" class=\"dataframe\">\n",
       "  <thead>\n",
       "    <tr style=\"text-align: right;\">\n",
       "      <th></th>\n",
       "      <th>ETOH</th>\n",
       "      <th>CPNEUMON</th>\n",
       "      <th>DNR</th>\n",
       "      <th>ESOVAR</th>\n",
       "      <th>HXMI</th>\n",
       "      <th>PRVPCI</th>\n",
       "      <th>PRVPCS</th>\n",
       "      <th>HXANGINA</th>\n",
       "      <th>HXPVD</th>\n",
       "      <th>RESTPAIN</th>\n",
       "      <th>...</th>\n",
       "      <th>CVANO</th>\n",
       "      <th>TUMORCNS</th>\n",
       "      <th>QUAD</th>\n",
       "      <th>CHEMO</th>\n",
       "      <th>RADIO</th>\n",
       "      <th>CNSCOMA</th>\n",
       "      <th>NEURODEF</th>\n",
       "      <th>OTHGRAFL</th>\n",
       "      <th>PARA</th>\n",
       "      <th>PREGNANCY</th>\n",
       "    </tr>\n",
       "  </thead>\n",
       "  <tbody>\n",
       "    <tr>\n",
       "      <th>NaN</th>\n",
       "      <td>0.999194</td>\n",
       "      <td>0.999194</td>\n",
       "      <td>0.999066</td>\n",
       "      <td>0.999194</td>\n",
       "      <td>0.999194</td>\n",
       "      <td>0.999194</td>\n",
       "      <td>0.999194</td>\n",
       "      <td>0.999194</td>\n",
       "      <td>0.999194</td>\n",
       "      <td>0.999194</td>\n",
       "      <td>...</td>\n",
       "      <td>0.999194</td>\n",
       "      <td>0.999194</td>\n",
       "      <td>0.999194</td>\n",
       "      <td>0.999194</td>\n",
       "      <td>0.999376</td>\n",
       "      <td>0.850779</td>\n",
       "      <td>0.850779</td>\n",
       "      <td>0.850779</td>\n",
       "      <td>0.999194</td>\n",
       "      <td>0.999228</td>\n",
       "    </tr>\n",
       "    <tr>\n",
       "      <th>No</th>\n",
       "      <td>0.000806</td>\n",
       "      <td>0.000806</td>\n",
       "      <td>0.000934</td>\n",
       "      <td>0.000806</td>\n",
       "      <td>0.000806</td>\n",
       "      <td>0.000806</td>\n",
       "      <td>0.000806</td>\n",
       "      <td>0.000806</td>\n",
       "      <td>0.000806</td>\n",
       "      <td>0.000806</td>\n",
       "      <td>...</td>\n",
       "      <td>0.000806</td>\n",
       "      <td>0.000806</td>\n",
       "      <td>0.000806</td>\n",
       "      <td>0.000806</td>\n",
       "      <td>0.000624</td>\n",
       "      <td>0.149221</td>\n",
       "      <td>0.149221</td>\n",
       "      <td>0.149221</td>\n",
       "      <td>0.000806</td>\n",
       "      <td>0.000772</td>\n",
       "    </tr>\n",
       "  </tbody>\n",
       "</table>\n",
       "<p>2 rows × 25 columns</p>\n",
       "</div>"
      ],
      "text/plain": [
       "         ETOH  CPNEUMON       DNR    ESOVAR      HXMI    PRVPCI    PRVPCS  \\\n",
       "NaN  0.999194  0.999194  0.999066  0.999194  0.999194  0.999194  0.999194   \n",
       "No   0.000806  0.000806  0.000934  0.000806  0.000806  0.000806  0.000806   \n",
       "\n",
       "     HXANGINA     HXPVD  RESTPAIN  ...     CVANO  TUMORCNS      QUAD  \\\n",
       "NaN  0.999194  0.999194  0.999194  ...  0.999194  0.999194  0.999194   \n",
       "No   0.000806  0.000806  0.000806  ...  0.000806  0.000806  0.000806   \n",
       "\n",
       "        CHEMO     RADIO   CNSCOMA  NEURODEF  OTHGRAFL      PARA  PREGNANCY  \n",
       "NaN  0.999194  0.999376  0.850779  0.850779  0.850779  0.999194   0.999228  \n",
       "No   0.000806  0.000624  0.149221  0.149221  0.149221  0.000806   0.000772  \n",
       "\n",
       "[2 rows x 25 columns]"
      ]
     },
     "execution_count": 10,
     "metadata": {},
     "output_type": "execute_result"
    }
   ],
   "source": [
    "df_clean[cols].apply(pd.Series.value_counts,dropna=False, normalize=True,)"
   ]
  },
  {
   "cell_type": "code",
   "execution_count": 11,
   "id": "cdf3af95-b42d-4509-80a4-179b34cf1c99",
   "metadata": {},
   "outputs": [
    {
     "data": {
      "text/plain": [
       "ETOH         99.919353\n",
       "CPNEUMON     99.919353\n",
       "DNR          99.906558\n",
       "ESOVAR       99.919353\n",
       "HXMI         99.919353\n",
       "PRVPCI       99.919353\n",
       "PRVPCS       99.919353\n",
       "HXANGINA     99.919353\n",
       "HXPVD        99.919353\n",
       "RESTPAIN     99.919353\n",
       "IMPSENS      99.919353\n",
       "COMA         99.919353\n",
       "HEMI         99.919353\n",
       "HXTIA        99.919353\n",
       "CVA          99.919353\n",
       "CVANO        99.919353\n",
       "TUMORCNS     99.919353\n",
       "QUAD         99.919353\n",
       "CHEMO        99.919353\n",
       "RADIO        99.937576\n",
       "CNSCOMA      85.077914\n",
       "NEURODEF     85.077914\n",
       "OTHGRAFL     85.077914\n",
       "PARA         99.919353\n",
       "PREGNANCY    99.922842\n",
       "dtype: float64"
      ]
     },
     "execution_count": 11,
     "metadata": {},
     "output_type": "execute_result"
    }
   ],
   "source": [
    "df_clean[cols].isnull().mean() * 100"
   ]
  },
  {
   "cell_type": "code",
   "execution_count": 12,
   "id": "515fda40-fca7-42b6-aaca-f34465ea29b1",
   "metadata": {},
   "outputs": [
    {
     "data": {
      "text/plain": [
       "ETOH           208\n",
       "CPNEUMON       208\n",
       "DNR            241\n",
       "ESOVAR         208\n",
       "HXMI           208\n",
       "PRVPCI         208\n",
       "PRVPCS         208\n",
       "HXANGINA       208\n",
       "HXPVD          208\n",
       "RESTPAIN       208\n",
       "IMPSENS        208\n",
       "COMA           208\n",
       "HEMI           208\n",
       "HXTIA          208\n",
       "CVA            208\n",
       "CVANO          208\n",
       "TUMORCNS       208\n",
       "QUAD           208\n",
       "CHEMO          208\n",
       "RADIO          161\n",
       "CNSCOMA      38486\n",
       "NEURODEF     38486\n",
       "OTHGRAFL     38486\n",
       "PARA           208\n",
       "PREGNANCY      199\n",
       "dtype: int64"
      ]
     },
     "execution_count": 12,
     "metadata": {},
     "output_type": "execute_result"
    }
   ],
   "source": [
    "df_clean[cols].count()"
   ]
  },
  {
   "cell_type": "code",
   "execution_count": 13,
   "id": "b8538fac-4d4b-4f4e-ad4f-73c2a31dcb65",
   "metadata": {},
   "outputs": [
    {
     "data": {
      "text/html": [
       "<div>\n",
       "<style scoped>\n",
       "    .dataframe tbody tr th:only-of-type {\n",
       "        vertical-align: middle;\n",
       "    }\n",
       "\n",
       "    .dataframe tbody tr th {\n",
       "        vertical-align: top;\n",
       "    }\n",
       "\n",
       "    .dataframe thead th {\n",
       "        text-align: right;\n",
       "    }\n",
       "</style>\n",
       "<table border=\"1\" class=\"dataframe\">\n",
       "  <thead>\n",
       "    <tr style=\"text-align: right;\">\n",
       "      <th></th>\n",
       "      <th>ETOH</th>\n",
       "      <th>CPNEUMON</th>\n",
       "      <th>DNR</th>\n",
       "      <th>ESOVAR</th>\n",
       "      <th>HXMI</th>\n",
       "      <th>PRVPCI</th>\n",
       "      <th>PRVPCS</th>\n",
       "      <th>HXANGINA</th>\n",
       "      <th>HXPVD</th>\n",
       "      <th>RESTPAIN</th>\n",
       "      <th>...</th>\n",
       "      <th>CVANO</th>\n",
       "      <th>TUMORCNS</th>\n",
       "      <th>QUAD</th>\n",
       "      <th>CHEMO</th>\n",
       "      <th>RADIO</th>\n",
       "      <th>CNSCOMA</th>\n",
       "      <th>NEURODEF</th>\n",
       "      <th>OTHGRAFL</th>\n",
       "      <th>PARA</th>\n",
       "      <th>PREGNANCY</th>\n",
       "    </tr>\n",
       "  </thead>\n",
       "  <tbody>\n",
       "    <tr>\n",
       "      <th>39</th>\n",
       "      <td>No</td>\n",
       "      <td>No</td>\n",
       "      <td>No</td>\n",
       "      <td>No</td>\n",
       "      <td>No</td>\n",
       "      <td>No</td>\n",
       "      <td>No</td>\n",
       "      <td>No</td>\n",
       "      <td>No</td>\n",
       "      <td>No</td>\n",
       "      <td>...</td>\n",
       "      <td>No</td>\n",
       "      <td>No</td>\n",
       "      <td>No</td>\n",
       "      <td>No</td>\n",
       "      <td>No</td>\n",
       "      <td>No</td>\n",
       "      <td>No</td>\n",
       "      <td>No</td>\n",
       "      <td>No</td>\n",
       "      <td>NaN</td>\n",
       "    </tr>\n",
       "    <tr>\n",
       "      <th>40</th>\n",
       "      <td>No</td>\n",
       "      <td>No</td>\n",
       "      <td>No</td>\n",
       "      <td>No</td>\n",
       "      <td>No</td>\n",
       "      <td>No</td>\n",
       "      <td>No</td>\n",
       "      <td>No</td>\n",
       "      <td>No</td>\n",
       "      <td>No</td>\n",
       "      <td>...</td>\n",
       "      <td>No</td>\n",
       "      <td>No</td>\n",
       "      <td>No</td>\n",
       "      <td>No</td>\n",
       "      <td>No</td>\n",
       "      <td>No</td>\n",
       "      <td>No</td>\n",
       "      <td>No</td>\n",
       "      <td>No</td>\n",
       "      <td>NaN</td>\n",
       "    </tr>\n",
       "    <tr>\n",
       "      <th>41</th>\n",
       "      <td>No</td>\n",
       "      <td>No</td>\n",
       "      <td>No</td>\n",
       "      <td>No</td>\n",
       "      <td>No</td>\n",
       "      <td>No</td>\n",
       "      <td>No</td>\n",
       "      <td>No</td>\n",
       "      <td>No</td>\n",
       "      <td>No</td>\n",
       "      <td>...</td>\n",
       "      <td>No</td>\n",
       "      <td>No</td>\n",
       "      <td>No</td>\n",
       "      <td>No</td>\n",
       "      <td>No</td>\n",
       "      <td>No</td>\n",
       "      <td>No</td>\n",
       "      <td>No</td>\n",
       "      <td>No</td>\n",
       "      <td>NaN</td>\n",
       "    </tr>\n",
       "    <tr>\n",
       "      <th>42</th>\n",
       "      <td>No</td>\n",
       "      <td>No</td>\n",
       "      <td>No</td>\n",
       "      <td>No</td>\n",
       "      <td>No</td>\n",
       "      <td>No</td>\n",
       "      <td>No</td>\n",
       "      <td>No</td>\n",
       "      <td>No</td>\n",
       "      <td>No</td>\n",
       "      <td>...</td>\n",
       "      <td>No</td>\n",
       "      <td>No</td>\n",
       "      <td>No</td>\n",
       "      <td>No</td>\n",
       "      <td>No</td>\n",
       "      <td>No</td>\n",
       "      <td>No</td>\n",
       "      <td>No</td>\n",
       "      <td>No</td>\n",
       "      <td>NaN</td>\n",
       "    </tr>\n",
       "    <tr>\n",
       "      <th>43</th>\n",
       "      <td>No</td>\n",
       "      <td>No</td>\n",
       "      <td>No</td>\n",
       "      <td>No</td>\n",
       "      <td>No</td>\n",
       "      <td>No</td>\n",
       "      <td>No</td>\n",
       "      <td>No</td>\n",
       "      <td>No</td>\n",
       "      <td>No</td>\n",
       "      <td>...</td>\n",
       "      <td>No</td>\n",
       "      <td>No</td>\n",
       "      <td>No</td>\n",
       "      <td>No</td>\n",
       "      <td>No</td>\n",
       "      <td>No</td>\n",
       "      <td>No</td>\n",
       "      <td>No</td>\n",
       "      <td>No</td>\n",
       "      <td>NaN</td>\n",
       "    </tr>\n",
       "    <tr>\n",
       "      <th>...</th>\n",
       "      <td>...</td>\n",
       "      <td>...</td>\n",
       "      <td>...</td>\n",
       "      <td>...</td>\n",
       "      <td>...</td>\n",
       "      <td>...</td>\n",
       "      <td>...</td>\n",
       "      <td>...</td>\n",
       "      <td>...</td>\n",
       "      <td>...</td>\n",
       "      <td>...</td>\n",
       "      <td>...</td>\n",
       "      <td>...</td>\n",
       "      <td>...</td>\n",
       "      <td>...</td>\n",
       "      <td>...</td>\n",
       "      <td>...</td>\n",
       "      <td>...</td>\n",
       "      <td>...</td>\n",
       "      <td>...</td>\n",
       "      <td>...</td>\n",
       "    </tr>\n",
       "    <tr>\n",
       "      <th>4251</th>\n",
       "      <td>No</td>\n",
       "      <td>No</td>\n",
       "      <td>No</td>\n",
       "      <td>No</td>\n",
       "      <td>No</td>\n",
       "      <td>No</td>\n",
       "      <td>No</td>\n",
       "      <td>No</td>\n",
       "      <td>No</td>\n",
       "      <td>No</td>\n",
       "      <td>...</td>\n",
       "      <td>No</td>\n",
       "      <td>No</td>\n",
       "      <td>No</td>\n",
       "      <td>No</td>\n",
       "      <td>No</td>\n",
       "      <td>No</td>\n",
       "      <td>No</td>\n",
       "      <td>No</td>\n",
       "      <td>No</td>\n",
       "      <td>No</td>\n",
       "    </tr>\n",
       "    <tr>\n",
       "      <th>4252</th>\n",
       "      <td>No</td>\n",
       "      <td>No</td>\n",
       "      <td>No</td>\n",
       "      <td>No</td>\n",
       "      <td>No</td>\n",
       "      <td>No</td>\n",
       "      <td>No</td>\n",
       "      <td>No</td>\n",
       "      <td>No</td>\n",
       "      <td>No</td>\n",
       "      <td>...</td>\n",
       "      <td>No</td>\n",
       "      <td>No</td>\n",
       "      <td>No</td>\n",
       "      <td>No</td>\n",
       "      <td>No</td>\n",
       "      <td>No</td>\n",
       "      <td>No</td>\n",
       "      <td>No</td>\n",
       "      <td>No</td>\n",
       "      <td>No</td>\n",
       "    </tr>\n",
       "    <tr>\n",
       "      <th>4253</th>\n",
       "      <td>No</td>\n",
       "      <td>No</td>\n",
       "      <td>No</td>\n",
       "      <td>No</td>\n",
       "      <td>No</td>\n",
       "      <td>No</td>\n",
       "      <td>No</td>\n",
       "      <td>No</td>\n",
       "      <td>No</td>\n",
       "      <td>No</td>\n",
       "      <td>...</td>\n",
       "      <td>No</td>\n",
       "      <td>No</td>\n",
       "      <td>No</td>\n",
       "      <td>No</td>\n",
       "      <td>No</td>\n",
       "      <td>No</td>\n",
       "      <td>No</td>\n",
       "      <td>No</td>\n",
       "      <td>No</td>\n",
       "      <td>No</td>\n",
       "    </tr>\n",
       "    <tr>\n",
       "      <th>4254</th>\n",
       "      <td>No</td>\n",
       "      <td>No</td>\n",
       "      <td>No</td>\n",
       "      <td>No</td>\n",
       "      <td>No</td>\n",
       "      <td>No</td>\n",
       "      <td>No</td>\n",
       "      <td>No</td>\n",
       "      <td>No</td>\n",
       "      <td>No</td>\n",
       "      <td>...</td>\n",
       "      <td>No</td>\n",
       "      <td>No</td>\n",
       "      <td>No</td>\n",
       "      <td>No</td>\n",
       "      <td>No</td>\n",
       "      <td>No</td>\n",
       "      <td>No</td>\n",
       "      <td>No</td>\n",
       "      <td>No</td>\n",
       "      <td>No</td>\n",
       "    </tr>\n",
       "    <tr>\n",
       "      <th>4255</th>\n",
       "      <td>No</td>\n",
       "      <td>No</td>\n",
       "      <td>No</td>\n",
       "      <td>No</td>\n",
       "      <td>No</td>\n",
       "      <td>No</td>\n",
       "      <td>No</td>\n",
       "      <td>No</td>\n",
       "      <td>No</td>\n",
       "      <td>No</td>\n",
       "      <td>...</td>\n",
       "      <td>No</td>\n",
       "      <td>No</td>\n",
       "      <td>No</td>\n",
       "      <td>No</td>\n",
       "      <td>No</td>\n",
       "      <td>No</td>\n",
       "      <td>No</td>\n",
       "      <td>No</td>\n",
       "      <td>No</td>\n",
       "      <td>No</td>\n",
       "    </tr>\n",
       "  </tbody>\n",
       "</table>\n",
       "<p>208 rows × 25 columns</p>\n",
       "</div>"
      ],
      "text/plain": [
       "     ETOH CPNEUMON DNR ESOVAR HXMI PRVPCI PRVPCS HXANGINA HXPVD RESTPAIN  ...  \\\n",
       "39     No       No  No     No   No     No     No       No    No       No  ...   \n",
       "40     No       No  No     No   No     No     No       No    No       No  ...   \n",
       "41     No       No  No     No   No     No     No       No    No       No  ...   \n",
       "42     No       No  No     No   No     No     No       No    No       No  ...   \n",
       "43     No       No  No     No   No     No     No       No    No       No  ...   \n",
       "...   ...      ...  ..    ...  ...    ...    ...      ...   ...      ...  ...   \n",
       "4251   No       No  No     No   No     No     No       No    No       No  ...   \n",
       "4252   No       No  No     No   No     No     No       No    No       No  ...   \n",
       "4253   No       No  No     No   No     No     No       No    No       No  ...   \n",
       "4254   No       No  No     No   No     No     No       No    No       No  ...   \n",
       "4255   No       No  No     No   No     No     No       No    No       No  ...   \n",
       "\n",
       "     CVANO TUMORCNS QUAD CHEMO RADIO CNSCOMA NEURODEF OTHGRAFL PARA PREGNANCY  \n",
       "39      No       No   No    No    No      No       No       No   No       NaN  \n",
       "40      No       No   No    No    No      No       No       No   No       NaN  \n",
       "41      No       No   No    No    No      No       No       No   No       NaN  \n",
       "42      No       No   No    No    No      No       No       No   No       NaN  \n",
       "43      No       No   No    No    No      No       No       No   No       NaN  \n",
       "...    ...      ...  ...   ...   ...     ...      ...      ...  ...       ...  \n",
       "4251    No       No   No    No    No      No       No       No   No        No  \n",
       "4252    No       No   No    No    No      No       No       No   No        No  \n",
       "4253    No       No   No    No    No      No       No       No   No        No  \n",
       "4254    No       No   No    No    No      No       No       No   No        No  \n",
       "4255    No       No   No    No    No      No       No       No   No        No  \n",
       "\n",
       "[208 rows x 25 columns]"
      ]
     },
     "execution_count": 13,
     "metadata": {},
     "output_type": "execute_result"
    }
   ],
   "source": [
    "df[df['ETOH'].notnull()][cols]"
   ]
  },
  {
   "cell_type": "markdown",
   "id": "a571aa88-560a-4cb0-817e-d1b612ffd5b7",
   "metadata": {},
   "source": [
    "The above shows a few things: firstly, most of the data is actually missing. Secondly, whatver data we do have is all in the same 200ish rows for most of these fields, leading me to believe that this was added from another dataset. Finally, none of these fields have any Yes values, and all of these fields are highly specific conditions (meaning that \"Yes\" would be the rare term and cannot be imputed). As a result, what we end up having is a bunch of fields with no data whatsoever to affect any of our models. I believe these columns should be dropped"
   ]
  },
  {
   "cell_type": "markdown",
   "id": "fc55e869-999e-419e-892b-c59789fb79df",
   "metadata": {},
   "source": [
    "Next let us look at the readmission related reasons with mostly null values"
   ]
  },
  {
   "cell_type": "code",
   "execution_count": 14,
   "id": "c27869ea-5e18-43ee-b0a8-2868e6ffd125",
   "metadata": {},
   "outputs": [
    {
     "data": {
      "text/plain": [
       "UNPLANNEDREADMISSION4    99.994184\n",
       "READMRELATED4            99.994184\n",
       "UNPLANNEDREADMISSION5    99.998449\n",
       "READMRELATED5            99.998449\n",
       "dtype: float64"
      ]
     },
     "execution_count": 14,
     "metadata": {},
     "output_type": "execute_result"
    }
   ],
   "source": [
    "other=['UNPLANNEDREADMISSION4', \n",
    "'READMRELATED4', \n",
    "'UNPLANNEDREADMISSION5', \n",
    "'READMRELATED5']\n",
    "\n",
    "df_clean[other].isnull().mean() * 100"
   ]
  },
  {
   "cell_type": "code",
   "execution_count": 15,
   "id": "ec83f263-3df7-4d7b-8213-b5e9e6c31711",
   "metadata": {},
   "outputs": [
    {
     "data": {
      "text/html": [
       "<div>\n",
       "<style scoped>\n",
       "    .dataframe tbody tr th:only-of-type {\n",
       "        vertical-align: middle;\n",
       "    }\n",
       "\n",
       "    .dataframe tbody tr th {\n",
       "        vertical-align: top;\n",
       "    }\n",
       "\n",
       "    .dataframe thead th {\n",
       "        text-align: right;\n",
       "    }\n",
       "</style>\n",
       "<table border=\"1\" class=\"dataframe\">\n",
       "  <thead>\n",
       "    <tr style=\"text-align: right;\">\n",
       "      <th></th>\n",
       "      <th>UNPLANNEDREADMISSION4</th>\n",
       "      <th>READMRELATED4</th>\n",
       "      <th>UNPLANNEDREADMISSION5</th>\n",
       "      <th>READMRELATED5</th>\n",
       "    </tr>\n",
       "  </thead>\n",
       "  <tbody>\n",
       "    <tr>\n",
       "      <th>NaN</th>\n",
       "      <td>0.999942</td>\n",
       "      <td>0.999942</td>\n",
       "      <td>0.999984</td>\n",
       "      <td>0.999984</td>\n",
       "    </tr>\n",
       "    <tr>\n",
       "      <th>1.0</th>\n",
       "      <td>0.000058</td>\n",
       "      <td>0.000058</td>\n",
       "      <td>0.000016</td>\n",
       "      <td>0.000016</td>\n",
       "    </tr>\n",
       "  </tbody>\n",
       "</table>\n",
       "</div>"
      ],
      "text/plain": [
       "     UNPLANNEDREADMISSION4  READMRELATED4  UNPLANNEDREADMISSION5  \\\n",
       "NaN               0.999942       0.999942               0.999984   \n",
       "1.0               0.000058       0.000058               0.000016   \n",
       "\n",
       "     READMRELATED5  \n",
       "NaN       0.999984  \n",
       "1.0       0.000016  "
      ]
     },
     "execution_count": 15,
     "metadata": {},
     "output_type": "execute_result"
    }
   ],
   "source": [
    "df_clean[other].apply(pd.Series.value_counts,dropna=False, normalize=True,)"
   ]
  },
  {
   "cell_type": "markdown",
   "id": "16a94017-53cc-45fa-b33c-ea226254dbbe",
   "metadata": {},
   "source": [
    "So seems like these are mostly blank because very few patients had 4-5 readmissions"
   ]
  },
  {
   "cell_type": "code",
   "execution_count": 16,
   "id": "38556ca4-6ae9-419c-91ec-a42cd3df1935",
   "metadata": {},
   "outputs": [
    {
     "data": {
      "text/plain": [
       "['READMISSION1',\n",
       " 'READMPODAYS1',\n",
       " 'UNPLANNEDREADMISSION1',\n",
       " 'READMRELATED1',\n",
       " 'READMSUSPREASON1',\n",
       " 'READMRELICD91',\n",
       " 'READMISSION2',\n",
       " 'READMPODAYS2',\n",
       " 'UNPLANNEDREADMISSION2',\n",
       " 'READMRELATED2',\n",
       " 'READMSUSPREASON2',\n",
       " 'READMRELICD92',\n",
       " 'READMISSION3',\n",
       " 'READMPODAYS3',\n",
       " 'UNPLANNEDREADMISSION3',\n",
       " 'READMRELATED3',\n",
       " 'READMSUSPREASON3',\n",
       " 'READMRELICD93',\n",
       " 'READMISSION4',\n",
       " 'READMPODAYS4',\n",
       " 'UNPLANNEDREADMISSION4',\n",
       " 'READMRELATED4',\n",
       " 'READMSUSPREASON4',\n",
       " 'READMRELICD94',\n",
       " 'READMISSION5',\n",
       " 'READMPODAYS5',\n",
       " 'UNPLANNEDREADMISSION5',\n",
       " 'READMRELATED5',\n",
       " 'READMSUSPREASON5',\n",
       " 'READMUNRELSUSP1',\n",
       " 'READMUNRELICD91',\n",
       " 'READMUNRELSUSP2',\n",
       " 'READMUNRELICD92',\n",
       " 'READMUNRELSUSP3',\n",
       " 'READMUNRELICD93',\n",
       " 'READMRELICD101',\n",
       " 'READMUNRELICD101',\n",
       " 'READMRELICD102',\n",
       " 'READMUNRELICD102',\n",
       " 'READMRELICD103',\n",
       " 'READMUNRELICD103',\n",
       " 'READMRELICD104',\n",
       " 'READMRELICD105']"
      ]
     },
     "execution_count": 16,
     "metadata": {},
     "output_type": "execute_result"
    }
   ],
   "source": [
    "readm = [c for c in df_clean if \"READM\" in c]\n",
    "\n",
    "readm"
   ]
  },
  {
   "cell_type": "markdown",
   "id": "1862b1dd-f083-4104-891c-c5ce64f7afc8",
   "metadata": {},
   "source": [
    "As there are only 5 related and unrelated readmission reasons, it makes sense why most of them are blank toward the end"
   ]
  },
  {
   "cell_type": "markdown",
   "id": "8ad70b59-9a95-4945-ac5c-f97510d06946",
   "metadata": {},
   "source": [
    "Next, its time to consider our target variables. Per our discussion, we agreed to make them a binary flag if there was any unplanned readmission"
   ]
  },
  {
   "cell_type": "code",
   "execution_count": 41,
   "id": "4d9c51b8-3cbf-4735-9b34-4a3ad8d5fbae",
   "metadata": {},
   "outputs": [
    {
     "data": {
      "text/plain": [
       "['UNPLANNEDREADMISSION1',\n",
       " 'UNPLANNEDREADMISSION2',\n",
       " 'UNPLANNEDREADMISSION3',\n",
       " 'UNPLANNEDREADMISSION4',\n",
       " 'UNPLANNEDREADMISSION5']"
      ]
     },
     "execution_count": 41,
     "metadata": {},
     "output_type": "execute_result"
    }
   ],
   "source": [
    "unplanned = [c for c in df_clean if \"UNPLANNEDREADMISSION\" in c]\n",
    "unplanned"
   ]
  },
  {
   "cell_type": "code",
   "execution_count": 42,
   "id": "cbb69625-0233-4a36-81b1-d2b84d740eb5",
   "metadata": {},
   "outputs": [],
   "source": [
    "df_clean['num_unplanned'] = df_clean[unplanned].sum(axis=1)\n",
    "\n",
    "df_clean['target'] = [1 if x>0 else 0 for x in df_clean['num_unplanned']]"
   ]
  },
  {
   "cell_type": "code",
   "execution_count": 43,
   "id": "3ac52f36-6b0d-4fbe-8db9-f1b57ef34ecc",
   "metadata": {},
   "outputs": [
    {
     "data": {
      "text/plain": [
       "0    0.900885\n",
       "1    0.099115\n",
       "Name: target, dtype: float64"
      ]
     },
     "execution_count": 43,
     "metadata": {},
     "output_type": "execute_result"
    }
   ],
   "source": [
    "df_clean['target'].value_counts(normalize=True)"
   ]
  },
  {
   "cell_type": "markdown",
   "id": "3cb04b75-f0c9-409e-9377-1ccfd24eba9b",
   "metadata": {},
   "source": [
    "Worth noting that it is about a 90-10 split of 0 to 1, meaning we have unbalanced data and need to model appropriately."
   ]
  },
  {
   "cell_type": "markdown",
   "id": "353a81cb-71d0-4cb1-a3f3-93530dfbe180",
   "metadata": {},
   "source": [
    "Just for sanity, let us also look at total readmissions to see if they line up (should be >= unplanned readmissions)"
   ]
  },
  {
   "cell_type": "code",
   "execution_count": 32,
   "id": "6b68f0df-2683-4556-9193-c04a376d8376",
   "metadata": {},
   "outputs": [
    {
     "data": {
      "text/plain": [
       "['READMISSION1',\n",
       " 'READMISSION2',\n",
       " 'READMISSION3',\n",
       " 'READMISSION4',\n",
       " 'READMISSION5']"
      ]
     },
     "execution_count": 32,
     "metadata": {},
     "output_type": "execute_result"
    }
   ],
   "source": [
    "total = [c for c in df_clean if \"UNPLANNED\" not in c and \"READMISSION\" in c]\n",
    "total"
   ]
  },
  {
   "cell_type": "code",
   "execution_count": 33,
   "id": "d2eea98a-7de4-4afd-8b91-17727edabede",
   "metadata": {},
   "outputs": [],
   "source": [
    "df_clean['num_total'] = df_clean[total].sum(axis=1)\n",
    "\n",
    "df_clean['target2'] = [1 if x>0 else 0 for x in df_clean['num_total']]"
   ]
  },
  {
   "cell_type": "code",
   "execution_count": 36,
   "id": "f0df29b1-0c26-49ad-9861-ed4c8bdbfdfa",
   "metadata": {},
   "outputs": [
    {
     "data": {
      "text/plain": [
       "0    0.899412\n",
       "1    0.100588\n",
       "Name: target2, dtype: float64"
      ]
     },
     "execution_count": 36,
     "metadata": {},
     "output_type": "execute_result"
    }
   ],
   "source": [
    "df_clean['target2'].value_counts(normalize=True)"
   ]
  },
  {
   "cell_type": "code",
   "execution_count": 37,
   "id": "ba2d70d0-805d-407e-b3db-2da6b1ce25ef",
   "metadata": {},
   "outputs": [],
   "source": [
    "df_clean['target_difference'] = df_clean['target2'] - df_clean['target']"
   ]
  },
  {
   "cell_type": "code",
   "execution_count": 38,
   "id": "c0533c1b-7619-4424-8b1e-2790451012b6",
   "metadata": {},
   "outputs": [
    {
     "data": {
      "text/plain": [
       "0    0.998527\n",
       "1    0.001473\n",
       "Name: target_difference, dtype: float64"
      ]
     },
     "execution_count": 38,
     "metadata": {},
     "output_type": "execute_result"
    }
   ],
   "source": [
    "df_clean['target_difference'].value_counts(normalize=True)"
   ]
  },
  {
   "cell_type": "code",
   "execution_count": 44,
   "id": "03d98381-d94b-461b-a30b-75ab57fb54f6",
   "metadata": {},
   "outputs": [
    {
     "data": {
      "text/plain": [
       "0.0    0.998461\n",
       "1.0    0.001520\n",
       "2.0    0.000019\n",
       "dtype: float64"
      ]
     },
     "execution_count": 44,
     "metadata": {},
     "output_type": "execute_result"
    }
   ],
   "source": [
    "(df_clean['num_total'] - df_clean['num_unplanned']).value_counts(normalize=True)"
   ]
  },
  {
   "cell_type": "markdown",
   "id": "79c9fed4-b210-4be0-8bcf-5087d975cc10",
   "metadata": {},
   "source": [
    "As can be seen above, total readmissions is always greater than or equal to unplanned readmissions"
   ]
  },
  {
   "cell_type": "code",
   "execution_count": null,
   "id": "8fa538d6-8ae0-4de9-a0e6-93a883d58495",
   "metadata": {},
   "outputs": [],
   "source": []
  }
 ],
 "metadata": {
  "kernelspec": {
   "display_name": "Python 3 (ipykernel)",
   "language": "python",
   "name": "python3"
  },
  "language_info": {
   "codemirror_mode": {
    "name": "ipython",
    "version": 3
   },
   "file_extension": ".py",
   "mimetype": "text/x-python",
   "name": "python",
   "nbconvert_exporter": "python",
   "pygments_lexer": "ipython3",
   "version": "3.9.1"
  }
 },
 "nbformat": 4,
 "nbformat_minor": 5
}
