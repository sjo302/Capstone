{
 "cells": [
  {
   "cell_type": "code",
   "execution_count": 78,
   "metadata": {},
   "outputs": [],
   "source": [
    "# Working directory set\n",
    "import sys\n",
    "sys.path.append(\"../scripts/\")"
   ]
  },
  {
   "cell_type": "code",
   "execution_count": 79,
   "metadata": {},
   "outputs": [],
   "source": [
    "import pandas as pd\n",
    "import numpy as np\n",
    "import json\n",
    "import seaborn as sns\n",
    "\n",
    "from clean_data import load_and_clean_data\n",
    "\n",
    "pd.set_option('display.max_rows', 400)"
   ]
  },
  {
   "cell_type": "code",
   "execution_count": 80,
   "metadata": {},
   "outputs": [
    {
     "name": "stderr",
     "output_type": "stream",
     "text": [
      "/Users/saraokun/opt/anaconda3/lib/python3.8/site-packages/IPython/core/interactiveshell.py:3263: DtypeWarning: Columns (10,17,19,23,25,27,28,29,30,32,33,36,37,38,39,40,41,42,43,50,51,83,86,89,92,94,95,97,100,103,106,110,113,116,121,124,127,130,133,136,188,190,201,212,231,232,242,244,247,249,256,262,267,273,279,280,281,282,283,284,286,287,288,289,290,291,292,293,294,295,296,297,298,299,300,301,305,318,320,333,334) have mixed types.Specify dtype option on import or set low_memory=False.\n",
      "  if (await self.run_code(code, result,  async_=asy)):\n",
      "/Users/saraokun/opt/anaconda3/lib/python3.8/site-packages/pandas/core/indexing.py:1637: SettingWithCopyWarning: \n",
      "A value is trying to be set on a copy of a slice from a DataFrame\n",
      "\n",
      "See the caveats in the documentation: https://pandas.pydata.org/pandas-docs/stable/user_guide/indexing.html#returning-a-view-versus-a-copy\n",
      "  self._setitem_single_block(indexer, value, name)\n"
     ]
    }
   ],
   "source": [
    "data = load_and_clean_data()"
   ]
  },
  {
   "cell_type": "code",
   "execution_count": 81,
   "metadata": {},
   "outputs": [
    {
     "data": {
      "text/plain": [
       "(222647, 291)"
      ]
     },
     "execution_count": 81,
     "metadata": {},
     "output_type": "execute_result"
    }
   ],
   "source": [
    "data.shape"
   ]
  },
  {
   "cell_type": "code",
   "execution_count": 82,
   "metadata": {},
   "outputs": [],
   "source": [
    "from sklearn.tree import DecisionTreeClassifier\n",
    "from sklearn.model_selection import train_test_split\n",
    "from sklearn.metrics import roc_curve, auc\n",
    "\n",
    "X = data.drop('target', axis = 1)\n",
    "y = data['target']\n",
    "\n",
    "# 70 20 10 split\n",
    "X_train, X_test, y_train, y_test = train_test_split(X, y, test_size = .1, random_state = 42)\n",
    "X_train, X_val, y_train, y_val = train_test_split(X_train, y_train, test_size = .25, random_state = 42)\n",
    "\n",
    "def run_baseline_dt(X_train, y_train, X_val, y_val):\n",
    "    dt = DecisionTreeClassifier()\n",
    "    dt.fit(X_train, y_train)\n",
    "    y_pred = dt.predict_proba(X_val)[:,1]\n",
    "    \n",
    "    fpr, tpr, thresholds = roc_curve(y_val, y_pred)\n",
    "    roc_auc = auc(fpr, tpr)\n",
    "    \n",
    "    importances = {}\n",
    "    for name, importance in zip(X_val.columns, dt.feature_importances_):\n",
    "        importances[name] = importance\n",
    "        \n",
    "    imp = pd.DataFrame.from_dict(importances, orient = 'index', columns = ['importance'])\n",
    "    imp.sort_values(by = 'importance', ascending = False, inplace = True)\n",
    "    \n",
    "    return fpr, tpr, roc_auc, imp"
   ]
  },
  {
   "cell_type": "code",
   "execution_count": 84,
   "metadata": {},
   "outputs": [],
   "source": [
    "fpr, tpr, roc_auc, imp = run_baseline_dt(X_train, y_train, X_val, y_val)"
   ]
  },
  {
   "cell_type": "code",
   "execution_count": 85,
   "metadata": {},
   "outputs": [
    {
     "name": "stdout",
     "output_type": "stream",
     "text": [
      "(150286, 290)\n",
      "(50096, 290)\n",
      "(22265, 290)\n"
     ]
    }
   ],
   "source": [
    "print(X_train.shape)\n",
    "print(X_val.shape)\n",
    "print(X_test.shape)"
   ]
  },
  {
   "cell_type": "markdown",
   "metadata": {},
   "source": [
    "# Feature Selection"
   ]
  },
  {
   "cell_type": "markdown",
   "metadata": {},
   "source": [
    "## Drop 0 feature importance features"
   ]
  },
  {
   "cell_type": "code",
   "execution_count": 86,
   "metadata": {},
   "outputs": [],
   "source": [
    "#drop columns that have 0 feature importance\n",
    "imp.reset_index(inplace = True)"
   ]
  },
  {
   "cell_type": "code",
   "execution_count": 87,
   "metadata": {},
   "outputs": [],
   "source": [
    "imp.drop(np.where(imp.importance == 0)[0], inplace = True)"
   ]
  },
  {
   "cell_type": "code",
   "execution_count": 88,
   "metadata": {},
   "outputs": [],
   "source": [
    "cols_to_keep = np.array(imp['index'])"
   ]
  },
  {
   "cell_type": "code",
   "execution_count": 89,
   "metadata": {},
   "outputs": [
    {
     "data": {
      "text/plain": [
       "258"
      ]
     },
     "execution_count": 89,
     "metadata": {},
     "output_type": "execute_result"
    }
   ],
   "source": [
    "len(cols_to_keep)"
   ]
  },
  {
   "cell_type": "code",
   "execution_count": 90,
   "metadata": {},
   "outputs": [],
   "source": [
    "X2_train = X_train[cols_to_keep]"
   ]
  },
  {
   "cell_type": "code",
   "execution_count": 91,
   "metadata": {},
   "outputs": [
    {
     "data": {
      "text/plain": [
       "(150286, 258)"
      ]
     },
     "execution_count": 91,
     "metadata": {},
     "output_type": "execute_result"
    }
   ],
   "source": [
    "X2_train.shape"
   ]
  },
  {
   "cell_type": "code",
   "execution_count": 92,
   "metadata": {},
   "outputs": [
    {
     "data": {
      "text/plain": [
       "(50096, 258)"
      ]
     },
     "execution_count": 92,
     "metadata": {},
     "output_type": "execute_result"
    }
   ],
   "source": [
    "X2_val = X_val[cols_to_keep]\n",
    "X2_val.shape"
   ]
  },
  {
   "cell_type": "markdown",
   "metadata": {},
   "source": [
    "## Remove Highly Correlated Features"
   ]
  },
  {
   "cell_type": "code",
   "execution_count": 93,
   "metadata": {},
   "outputs": [],
   "source": [
    "from sklearn.feature_selection import mutual_info_classif\n",
    "\n",
    "def mutual_information_ranking(X, y):\n",
    "    \"\"\"\n",
    "    Use mutual information to rank features by importance\n",
    "    \"\"\"\n",
    "    \n",
    "    mi_scores = mutual_info_classif(X, y)\n",
    "\n",
    "    mi_features = pd.Series(dict(zip(X.columns, mi_scores)))\n",
    "\n",
    "    return mi_features.sort_values(ascending=False)"
   ]
  },
  {
   "cell_type": "code",
   "execution_count": 94,
   "metadata": {},
   "outputs": [],
   "source": [
    "def pairwise_correlation_ranking(X, threshold):\n",
    "    \"\"\"\n",
    "    Returns pairwise correlation of features ranked by absolute value, if above a certain threshold\n",
    "    \"\"\"\n",
    "    \n",
    "    corr = X.corr()\n",
    "    \n",
    "    corrdict = {}\n",
    "    for i in range(len(corr)):\n",
    "        for j in range(len(corr.columns)):\n",
    "            if i != j and np.abs(corr.iloc[i,j] > threshold):\n",
    "                corrdict[tuple(sorted([corr.columns[i], corr.columns[j]]))] = corr.iloc[i,j]\n",
    "    return np.array(sorted(corrdict.items(), key=lambda x: np.abs(x[1]), reverse=True), dtype=object)"
   ]
  },
  {
   "cell_type": "code",
   "execution_count": 95,
   "metadata": {},
   "outputs": [],
   "source": [
    "def filter_by_correlation(X, y, hp=None):\n",
    "    \"\"\"\n",
    "    Greedy filtering of features by correlation\n",
    "    \"\"\"\n",
    "    threshold = 0.85\n",
    "    if hp is not None:\n",
    "        threshold = hp['threshold']\n",
    "    correlations = pairwise_correlation_ranking(X, threshold)\n",
    "    while len(correlations) > 0:\n",
    "        worst_feature = mutual_information_ranking(X[list(correlations[0][0])], y).idxmin()\n",
    "        X.drop(worst_feature, axis=1, inplace=True)\n",
    "        correlations = pairwise_correlation_ranking(X, threshold)\n",
    "    return X"
   ]
  },
  {
   "cell_type": "code",
   "execution_count": 96,
   "metadata": {},
   "outputs": [
    {
     "name": "stderr",
     "output_type": "stream",
     "text": [
      "/Users/saraokun/opt/anaconda3/lib/python3.8/site-packages/pandas/core/frame.py:4308: SettingWithCopyWarning: \n",
      "A value is trying to be set on a copy of a slice from a DataFrame\n",
      "\n",
      "See the caveats in the documentation: https://pandas.pydata.org/pandas-docs/stable/user_guide/indexing.html#returning-a-view-versus-a-copy\n",
      "  return super().drop(\n",
      "/Users/saraokun/opt/anaconda3/lib/python3.8/site-packages/pandas/core/frame.py:4308: SettingWithCopyWarning: \n",
      "A value is trying to be set on a copy of a slice from a DataFrame\n",
      "\n",
      "See the caveats in the documentation: https://pandas.pydata.org/pandas-docs/stable/user_guide/indexing.html#returning-a-view-versus-a-copy\n",
      "  return super().drop(\n",
      "/Users/saraokun/opt/anaconda3/lib/python3.8/site-packages/pandas/core/frame.py:4308: SettingWithCopyWarning: \n",
      "A value is trying to be set on a copy of a slice from a DataFrame\n",
      "\n",
      "See the caveats in the documentation: https://pandas.pydata.org/pandas-docs/stable/user_guide/indexing.html#returning-a-view-versus-a-copy\n",
      "  return super().drop(\n",
      "/Users/saraokun/opt/anaconda3/lib/python3.8/site-packages/pandas/core/frame.py:4308: SettingWithCopyWarning: \n",
      "A value is trying to be set on a copy of a slice from a DataFrame\n",
      "\n",
      "See the caveats in the documentation: https://pandas.pydata.org/pandas-docs/stable/user_guide/indexing.html#returning-a-view-versus-a-copy\n",
      "  return super().drop(\n",
      "/Users/saraokun/opt/anaconda3/lib/python3.8/site-packages/pandas/core/frame.py:4308: SettingWithCopyWarning: \n",
      "A value is trying to be set on a copy of a slice from a DataFrame\n",
      "\n",
      "See the caveats in the documentation: https://pandas.pydata.org/pandas-docs/stable/user_guide/indexing.html#returning-a-view-versus-a-copy\n",
      "  return super().drop(\n",
      "/Users/saraokun/opt/anaconda3/lib/python3.8/site-packages/pandas/core/frame.py:4308: SettingWithCopyWarning: \n",
      "A value is trying to be set on a copy of a slice from a DataFrame\n",
      "\n",
      "See the caveats in the documentation: https://pandas.pydata.org/pandas-docs/stable/user_guide/indexing.html#returning-a-view-versus-a-copy\n",
      "  return super().drop(\n",
      "/Users/saraokun/opt/anaconda3/lib/python3.8/site-packages/pandas/core/frame.py:4308: SettingWithCopyWarning: \n",
      "A value is trying to be set on a copy of a slice from a DataFrame\n",
      "\n",
      "See the caveats in the documentation: https://pandas.pydata.org/pandas-docs/stable/user_guide/indexing.html#returning-a-view-versus-a-copy\n",
      "  return super().drop(\n",
      "/Users/saraokun/opt/anaconda3/lib/python3.8/site-packages/pandas/core/frame.py:4308: SettingWithCopyWarning: \n",
      "A value is trying to be set on a copy of a slice from a DataFrame\n",
      "\n",
      "See the caveats in the documentation: https://pandas.pydata.org/pandas-docs/stable/user_guide/indexing.html#returning-a-view-versus-a-copy\n",
      "  return super().drop(\n"
     ]
    }
   ],
   "source": [
    "X3_train = filter_by_correlation(X2_train, y_train)"
   ]
  },
  {
   "cell_type": "code",
   "execution_count": 97,
   "metadata": {
    "scrolled": false
   },
   "outputs": [
    {
     "data": {
      "text/plain": [
       "Index(['OTHBLEED', 'DOPTODIS', 'MORBPROB', 'OTHSYSEP', 'OPTIME', 'MORTPROB',\n",
       "       'PRWBC', 'PRPLATE', 'bmi', 'PRHCT',\n",
       "       ...\n",
       "       'COL_NODESEVAL_73', 'COL_NODESEVAL_63', 'SURGSPEC_10', 'ANESTHES_6',\n",
       "       'VENTPATOS', 'COL_NODESEVAL_52', 'SURGSPEC_5', 'COL_NODESEVAL_59',\n",
       "       'COL_NODESEVAL_66', 'COL_APPROACH_3'],\n",
       "      dtype='object', length=250)"
      ]
     },
     "execution_count": 97,
     "metadata": {},
     "output_type": "execute_result"
    }
   ],
   "source": [
    "X3_train.columns"
   ]
  },
  {
   "cell_type": "code",
   "execution_count": 98,
   "metadata": {},
   "outputs": [],
   "source": [
    "X3_val = X2_val[X3_train.columns]"
   ]
  },
  {
   "cell_type": "code",
   "execution_count": 99,
   "metadata": {},
   "outputs": [
    {
     "data": {
      "text/plain": [
       "(50096, 250)"
      ]
     },
     "execution_count": 99,
     "metadata": {},
     "output_type": "execute_result"
    }
   ],
   "source": [
    "X3_val.shape"
   ]
  },
  {
   "cell_type": "markdown",
   "metadata": {},
   "source": [
    "## Recursive Feature Elimination (RFE)"
   ]
  },
  {
   "cell_type": "code",
   "execution_count": 100,
   "metadata": {},
   "outputs": [],
   "source": [
    "from sklearn.feature_selection import RFE\n",
    "from xgboost import XGBClassifier"
   ]
  },
  {
   "cell_type": "code",
   "execution_count": 101,
   "metadata": {},
   "outputs": [],
   "source": [
    "estimator = DecisionTreeClassifier()\n",
    "num_features = 125\n",
    "step = 5\n",
    "rfe_dt = RFE(estimator, n_features_to_select = num_features, step = step).fit(X3_train, y_train)"
   ]
  },
  {
   "cell_type": "code",
   "execution_count": 102,
   "metadata": {},
   "outputs": [
    {
     "data": {
      "text/plain": [
       "Index(['OTHBLEED', 'DOPTODIS', 'MORBPROB', 'OTHSYSEP', 'OPTIME', 'MORTPROB',\n",
       "       'PRWBC', 'PRPLATE', 'bmi', 'PRHCT',\n",
       "       ...\n",
       "       'DISCHDEST_6', 'COL_NODESEVAL_26', 'COL_NODESEVAL_23',\n",
       "       'WOUND_CLOSURE_3', 'COL_MALIGNANCYT_6', 'COL_NODESEVAL_20',\n",
       "       'COL_MARGINS_2', 'COL_MALIGNANCYT_5', 'COL_MALIGNANCYN_7', 'DYSPNEA_2'],\n",
       "      dtype='object', length=125)"
      ]
     },
     "execution_count": 102,
     "metadata": {},
     "output_type": "execute_result"
    }
   ],
   "source": [
    "dt_feat = X3_train.columns[rfe_dt.support_]\n",
    "dt_feat"
   ]
  },
  {
   "cell_type": "code",
   "execution_count": 103,
   "metadata": {},
   "outputs": [
    {
     "name": "stderr",
     "output_type": "stream",
     "text": [
      "/Users/saraokun/opt/anaconda3/lib/python3.8/site-packages/xgboost/sklearn.py:1224: UserWarning: The use of label encoder in XGBClassifier is deprecated and will be removed in a future release. To remove this warning, do the following: 1) Pass option use_label_encoder=False when constructing XGBClassifier object; and 2) Encode your labels (y) as integers starting with 0, i.e. 0, 1, 2, ..., [num_class - 1].\n",
      "  warnings.warn(label_encoder_deprecation_msg, UserWarning)\n"
     ]
    },
    {
     "name": "stdout",
     "output_type": "stream",
     "text": [
      "[12:32:35] WARNING: /Users/travis/build/dmlc/xgboost/src/learner.cc:1115: Starting in XGBoost 1.3.0, the default evaluation metric used with the objective 'binary:logistic' was changed from 'error' to 'logloss'. Explicitly set eval_metric if you'd like to restore the old behavior.\n"
     ]
    },
    {
     "name": "stderr",
     "output_type": "stream",
     "text": [
      "/Users/saraokun/opt/anaconda3/lib/python3.8/site-packages/xgboost/sklearn.py:1224: UserWarning: The use of label encoder in XGBClassifier is deprecated and will be removed in a future release. To remove this warning, do the following: 1) Pass option use_label_encoder=False when constructing XGBClassifier object; and 2) Encode your labels (y) as integers starting with 0, i.e. 0, 1, 2, ..., [num_class - 1].\n",
      "  warnings.warn(label_encoder_deprecation_msg, UserWarning)\n"
     ]
    },
    {
     "name": "stdout",
     "output_type": "stream",
     "text": [
      "[12:33:26] WARNING: /Users/travis/build/dmlc/xgboost/src/learner.cc:1115: Starting in XGBoost 1.3.0, the default evaluation metric used with the objective 'binary:logistic' was changed from 'error' to 'logloss'. Explicitly set eval_metric if you'd like to restore the old behavior.\n"
     ]
    },
    {
     "name": "stderr",
     "output_type": "stream",
     "text": [
      "/Users/saraokun/opt/anaconda3/lib/python3.8/site-packages/xgboost/sklearn.py:1224: UserWarning: The use of label encoder in XGBClassifier is deprecated and will be removed in a future release. To remove this warning, do the following: 1) Pass option use_label_encoder=False when constructing XGBClassifier object; and 2) Encode your labels (y) as integers starting with 0, i.e. 0, 1, 2, ..., [num_class - 1].\n",
      "  warnings.warn(label_encoder_deprecation_msg, UserWarning)\n"
     ]
    },
    {
     "name": "stdout",
     "output_type": "stream",
     "text": [
      "[12:34:15] WARNING: /Users/travis/build/dmlc/xgboost/src/learner.cc:1115: Starting in XGBoost 1.3.0, the default evaluation metric used with the objective 'binary:logistic' was changed from 'error' to 'logloss'. Explicitly set eval_metric if you'd like to restore the old behavior.\n"
     ]
    },
    {
     "name": "stderr",
     "output_type": "stream",
     "text": [
      "/Users/saraokun/opt/anaconda3/lib/python3.8/site-packages/xgboost/sklearn.py:1224: UserWarning: The use of label encoder in XGBClassifier is deprecated and will be removed in a future release. To remove this warning, do the following: 1) Pass option use_label_encoder=False when constructing XGBClassifier object; and 2) Encode your labels (y) as integers starting with 0, i.e. 0, 1, 2, ..., [num_class - 1].\n",
      "  warnings.warn(label_encoder_deprecation_msg, UserWarning)\n"
     ]
    },
    {
     "name": "stdout",
     "output_type": "stream",
     "text": [
      "[12:35:02] WARNING: /Users/travis/build/dmlc/xgboost/src/learner.cc:1115: Starting in XGBoost 1.3.0, the default evaluation metric used with the objective 'binary:logistic' was changed from 'error' to 'logloss'. Explicitly set eval_metric if you'd like to restore the old behavior.\n"
     ]
    },
    {
     "name": "stderr",
     "output_type": "stream",
     "text": [
      "/Users/saraokun/opt/anaconda3/lib/python3.8/site-packages/xgboost/sklearn.py:1224: UserWarning: The use of label encoder in XGBClassifier is deprecated and will be removed in a future release. To remove this warning, do the following: 1) Pass option use_label_encoder=False when constructing XGBClassifier object; and 2) Encode your labels (y) as integers starting with 0, i.e. 0, 1, 2, ..., [num_class - 1].\n",
      "  warnings.warn(label_encoder_deprecation_msg, UserWarning)\n"
     ]
    },
    {
     "name": "stdout",
     "output_type": "stream",
     "text": [
      "[12:35:45] WARNING: /Users/travis/build/dmlc/xgboost/src/learner.cc:1115: Starting in XGBoost 1.3.0, the default evaluation metric used with the objective 'binary:logistic' was changed from 'error' to 'logloss'. Explicitly set eval_metric if you'd like to restore the old behavior.\n"
     ]
    },
    {
     "name": "stderr",
     "output_type": "stream",
     "text": [
      "/Users/saraokun/opt/anaconda3/lib/python3.8/site-packages/xgboost/sklearn.py:1224: UserWarning: The use of label encoder in XGBClassifier is deprecated and will be removed in a future release. To remove this warning, do the following: 1) Pass option use_label_encoder=False when constructing XGBClassifier object; and 2) Encode your labels (y) as integers starting with 0, i.e. 0, 1, 2, ..., [num_class - 1].\n",
      "  warnings.warn(label_encoder_deprecation_msg, UserWarning)\n"
     ]
    },
    {
     "name": "stdout",
     "output_type": "stream",
     "text": [
      "[12:36:27] WARNING: /Users/travis/build/dmlc/xgboost/src/learner.cc:1115: Starting in XGBoost 1.3.0, the default evaluation metric used with the objective 'binary:logistic' was changed from 'error' to 'logloss'. Explicitly set eval_metric if you'd like to restore the old behavior.\n"
     ]
    },
    {
     "name": "stderr",
     "output_type": "stream",
     "text": [
      "/Users/saraokun/opt/anaconda3/lib/python3.8/site-packages/xgboost/sklearn.py:1224: UserWarning: The use of label encoder in XGBClassifier is deprecated and will be removed in a future release. To remove this warning, do the following: 1) Pass option use_label_encoder=False when constructing XGBClassifier object; and 2) Encode your labels (y) as integers starting with 0, i.e. 0, 1, 2, ..., [num_class - 1].\n",
      "  warnings.warn(label_encoder_deprecation_msg, UserWarning)\n"
     ]
    },
    {
     "name": "stdout",
     "output_type": "stream",
     "text": [
      "[12:37:09] WARNING: /Users/travis/build/dmlc/xgboost/src/learner.cc:1115: Starting in XGBoost 1.3.0, the default evaluation metric used with the objective 'binary:logistic' was changed from 'error' to 'logloss'. Explicitly set eval_metric if you'd like to restore the old behavior.\n"
     ]
    },
    {
     "name": "stderr",
     "output_type": "stream",
     "text": [
      "/Users/saraokun/opt/anaconda3/lib/python3.8/site-packages/xgboost/sklearn.py:1224: UserWarning: The use of label encoder in XGBClassifier is deprecated and will be removed in a future release. To remove this warning, do the following: 1) Pass option use_label_encoder=False when constructing XGBClassifier object; and 2) Encode your labels (y) as integers starting with 0, i.e. 0, 1, 2, ..., [num_class - 1].\n",
      "  warnings.warn(label_encoder_deprecation_msg, UserWarning)\n"
     ]
    },
    {
     "name": "stdout",
     "output_type": "stream",
     "text": [
      "[12:37:50] WARNING: /Users/travis/build/dmlc/xgboost/src/learner.cc:1115: Starting in XGBoost 1.3.0, the default evaluation metric used with the objective 'binary:logistic' was changed from 'error' to 'logloss'. Explicitly set eval_metric if you'd like to restore the old behavior.\n"
     ]
    },
    {
     "name": "stderr",
     "output_type": "stream",
     "text": [
      "/Users/saraokun/opt/anaconda3/lib/python3.8/site-packages/xgboost/sklearn.py:1224: UserWarning: The use of label encoder in XGBClassifier is deprecated and will be removed in a future release. To remove this warning, do the following: 1) Pass option use_label_encoder=False when constructing XGBClassifier object; and 2) Encode your labels (y) as integers starting with 0, i.e. 0, 1, 2, ..., [num_class - 1].\n",
      "  warnings.warn(label_encoder_deprecation_msg, UserWarning)\n"
     ]
    },
    {
     "name": "stdout",
     "output_type": "stream",
     "text": [
      "[12:38:30] WARNING: /Users/travis/build/dmlc/xgboost/src/learner.cc:1115: Starting in XGBoost 1.3.0, the default evaluation metric used with the objective 'binary:logistic' was changed from 'error' to 'logloss'. Explicitly set eval_metric if you'd like to restore the old behavior.\n"
     ]
    },
    {
     "name": "stderr",
     "output_type": "stream",
     "text": [
      "/Users/saraokun/opt/anaconda3/lib/python3.8/site-packages/xgboost/sklearn.py:1224: UserWarning: The use of label encoder in XGBClassifier is deprecated and will be removed in a future release. To remove this warning, do the following: 1) Pass option use_label_encoder=False when constructing XGBClassifier object; and 2) Encode your labels (y) as integers starting with 0, i.e. 0, 1, 2, ..., [num_class - 1].\n",
      "  warnings.warn(label_encoder_deprecation_msg, UserWarning)\n"
     ]
    },
    {
     "name": "stdout",
     "output_type": "stream",
     "text": [
      "[12:39:10] WARNING: /Users/travis/build/dmlc/xgboost/src/learner.cc:1115: Starting in XGBoost 1.3.0, the default evaluation metric used with the objective 'binary:logistic' was changed from 'error' to 'logloss'. Explicitly set eval_metric if you'd like to restore the old behavior.\n"
     ]
    },
    {
     "name": "stderr",
     "output_type": "stream",
     "text": [
      "/Users/saraokun/opt/anaconda3/lib/python3.8/site-packages/xgboost/sklearn.py:1224: UserWarning: The use of label encoder in XGBClassifier is deprecated and will be removed in a future release. To remove this warning, do the following: 1) Pass option use_label_encoder=False when constructing XGBClassifier object; and 2) Encode your labels (y) as integers starting with 0, i.e. 0, 1, 2, ..., [num_class - 1].\n",
      "  warnings.warn(label_encoder_deprecation_msg, UserWarning)\n"
     ]
    },
    {
     "name": "stdout",
     "output_type": "stream",
     "text": [
      "[12:39:49] WARNING: /Users/travis/build/dmlc/xgboost/src/learner.cc:1115: Starting in XGBoost 1.3.0, the default evaluation metric used with the objective 'binary:logistic' was changed from 'error' to 'logloss'. Explicitly set eval_metric if you'd like to restore the old behavior.\n"
     ]
    },
    {
     "name": "stderr",
     "output_type": "stream",
     "text": [
      "/Users/saraokun/opt/anaconda3/lib/python3.8/site-packages/xgboost/sklearn.py:1224: UserWarning: The use of label encoder in XGBClassifier is deprecated and will be removed in a future release. To remove this warning, do the following: 1) Pass option use_label_encoder=False when constructing XGBClassifier object; and 2) Encode your labels (y) as integers starting with 0, i.e. 0, 1, 2, ..., [num_class - 1].\n",
      "  warnings.warn(label_encoder_deprecation_msg, UserWarning)\n"
     ]
    },
    {
     "name": "stdout",
     "output_type": "stream",
     "text": [
      "[12:40:27] WARNING: /Users/travis/build/dmlc/xgboost/src/learner.cc:1115: Starting in XGBoost 1.3.0, the default evaluation metric used with the objective 'binary:logistic' was changed from 'error' to 'logloss'. Explicitly set eval_metric if you'd like to restore the old behavior.\n"
     ]
    },
    {
     "name": "stderr",
     "output_type": "stream",
     "text": [
      "/Users/saraokun/opt/anaconda3/lib/python3.8/site-packages/xgboost/sklearn.py:1224: UserWarning: The use of label encoder in XGBClassifier is deprecated and will be removed in a future release. To remove this warning, do the following: 1) Pass option use_label_encoder=False when constructing XGBClassifier object; and 2) Encode your labels (y) as integers starting with 0, i.e. 0, 1, 2, ..., [num_class - 1].\n",
      "  warnings.warn(label_encoder_deprecation_msg, UserWarning)\n"
     ]
    },
    {
     "name": "stdout",
     "output_type": "stream",
     "text": [
      "[12:41:04] WARNING: /Users/travis/build/dmlc/xgboost/src/learner.cc:1115: Starting in XGBoost 1.3.0, the default evaluation metric used with the objective 'binary:logistic' was changed from 'error' to 'logloss'. Explicitly set eval_metric if you'd like to restore the old behavior.\n"
     ]
    },
    {
     "name": "stderr",
     "output_type": "stream",
     "text": [
      "/Users/saraokun/opt/anaconda3/lib/python3.8/site-packages/xgboost/sklearn.py:1224: UserWarning: The use of label encoder in XGBClassifier is deprecated and will be removed in a future release. To remove this warning, do the following: 1) Pass option use_label_encoder=False when constructing XGBClassifier object; and 2) Encode your labels (y) as integers starting with 0, i.e. 0, 1, 2, ..., [num_class - 1].\n",
      "  warnings.warn(label_encoder_deprecation_msg, UserWarning)\n"
     ]
    },
    {
     "name": "stdout",
     "output_type": "stream",
     "text": [
      "[12:41:41] WARNING: /Users/travis/build/dmlc/xgboost/src/learner.cc:1115: Starting in XGBoost 1.3.0, the default evaluation metric used with the objective 'binary:logistic' was changed from 'error' to 'logloss'. Explicitly set eval_metric if you'd like to restore the old behavior.\n"
     ]
    },
    {
     "name": "stderr",
     "output_type": "stream",
     "text": [
      "/Users/saraokun/opt/anaconda3/lib/python3.8/site-packages/xgboost/sklearn.py:1224: UserWarning: The use of label encoder in XGBClassifier is deprecated and will be removed in a future release. To remove this warning, do the following: 1) Pass option use_label_encoder=False when constructing XGBClassifier object; and 2) Encode your labels (y) as integers starting with 0, i.e. 0, 1, 2, ..., [num_class - 1].\n",
      "  warnings.warn(label_encoder_deprecation_msg, UserWarning)\n"
     ]
    },
    {
     "name": "stdout",
     "output_type": "stream",
     "text": [
      "[12:42:17] WARNING: /Users/travis/build/dmlc/xgboost/src/learner.cc:1115: Starting in XGBoost 1.3.0, the default evaluation metric used with the objective 'binary:logistic' was changed from 'error' to 'logloss'. Explicitly set eval_metric if you'd like to restore the old behavior.\n"
     ]
    },
    {
     "name": "stderr",
     "output_type": "stream",
     "text": [
      "/Users/saraokun/opt/anaconda3/lib/python3.8/site-packages/xgboost/sklearn.py:1224: UserWarning: The use of label encoder in XGBClassifier is deprecated and will be removed in a future release. To remove this warning, do the following: 1) Pass option use_label_encoder=False when constructing XGBClassifier object; and 2) Encode your labels (y) as integers starting with 0, i.e. 0, 1, 2, ..., [num_class - 1].\n",
      "  warnings.warn(label_encoder_deprecation_msg, UserWarning)\n"
     ]
    },
    {
     "name": "stdout",
     "output_type": "stream",
     "text": [
      "[12:42:51] WARNING: /Users/travis/build/dmlc/xgboost/src/learner.cc:1115: Starting in XGBoost 1.3.0, the default evaluation metric used with the objective 'binary:logistic' was changed from 'error' to 'logloss'. Explicitly set eval_metric if you'd like to restore the old behavior.\n"
     ]
    },
    {
     "name": "stderr",
     "output_type": "stream",
     "text": [
      "/Users/saraokun/opt/anaconda3/lib/python3.8/site-packages/xgboost/sklearn.py:1224: UserWarning: The use of label encoder in XGBClassifier is deprecated and will be removed in a future release. To remove this warning, do the following: 1) Pass option use_label_encoder=False when constructing XGBClassifier object; and 2) Encode your labels (y) as integers starting with 0, i.e. 0, 1, 2, ..., [num_class - 1].\n",
      "  warnings.warn(label_encoder_deprecation_msg, UserWarning)\n"
     ]
    },
    {
     "name": "stdout",
     "output_type": "stream",
     "text": [
      "[12:43:25] WARNING: /Users/travis/build/dmlc/xgboost/src/learner.cc:1115: Starting in XGBoost 1.3.0, the default evaluation metric used with the objective 'binary:logistic' was changed from 'error' to 'logloss'. Explicitly set eval_metric if you'd like to restore the old behavior.\n"
     ]
    },
    {
     "name": "stderr",
     "output_type": "stream",
     "text": [
      "/Users/saraokun/opt/anaconda3/lib/python3.8/site-packages/xgboost/sklearn.py:1224: UserWarning: The use of label encoder in XGBClassifier is deprecated and will be removed in a future release. To remove this warning, do the following: 1) Pass option use_label_encoder=False when constructing XGBClassifier object; and 2) Encode your labels (y) as integers starting with 0, i.e. 0, 1, 2, ..., [num_class - 1].\n",
      "  warnings.warn(label_encoder_deprecation_msg, UserWarning)\n"
     ]
    },
    {
     "name": "stdout",
     "output_type": "stream",
     "text": [
      "[12:43:58] WARNING: /Users/travis/build/dmlc/xgboost/src/learner.cc:1115: Starting in XGBoost 1.3.0, the default evaluation metric used with the objective 'binary:logistic' was changed from 'error' to 'logloss'. Explicitly set eval_metric if you'd like to restore the old behavior.\n"
     ]
    },
    {
     "name": "stderr",
     "output_type": "stream",
     "text": [
      "/Users/saraokun/opt/anaconda3/lib/python3.8/site-packages/xgboost/sklearn.py:1224: UserWarning: The use of label encoder in XGBClassifier is deprecated and will be removed in a future release. To remove this warning, do the following: 1) Pass option use_label_encoder=False when constructing XGBClassifier object; and 2) Encode your labels (y) as integers starting with 0, i.e. 0, 1, 2, ..., [num_class - 1].\n",
      "  warnings.warn(label_encoder_deprecation_msg, UserWarning)\n"
     ]
    },
    {
     "name": "stdout",
     "output_type": "stream",
     "text": [
      "[12:44:30] WARNING: /Users/travis/build/dmlc/xgboost/src/learner.cc:1115: Starting in XGBoost 1.3.0, the default evaluation metric used with the objective 'binary:logistic' was changed from 'error' to 'logloss'. Explicitly set eval_metric if you'd like to restore the old behavior.\n"
     ]
    },
    {
     "name": "stderr",
     "output_type": "stream",
     "text": [
      "/Users/saraokun/opt/anaconda3/lib/python3.8/site-packages/xgboost/sklearn.py:1224: UserWarning: The use of label encoder in XGBClassifier is deprecated and will be removed in a future release. To remove this warning, do the following: 1) Pass option use_label_encoder=False when constructing XGBClassifier object; and 2) Encode your labels (y) as integers starting with 0, i.e. 0, 1, 2, ..., [num_class - 1].\n",
      "  warnings.warn(label_encoder_deprecation_msg, UserWarning)\n"
     ]
    },
    {
     "name": "stdout",
     "output_type": "stream",
     "text": [
      "[12:45:02] WARNING: /Users/travis/build/dmlc/xgboost/src/learner.cc:1115: Starting in XGBoost 1.3.0, the default evaluation metric used with the objective 'binary:logistic' was changed from 'error' to 'logloss'. Explicitly set eval_metric if you'd like to restore the old behavior.\n"
     ]
    },
    {
     "name": "stderr",
     "output_type": "stream",
     "text": [
      "/Users/saraokun/opt/anaconda3/lib/python3.8/site-packages/xgboost/sklearn.py:1224: UserWarning: The use of label encoder in XGBClassifier is deprecated and will be removed in a future release. To remove this warning, do the following: 1) Pass option use_label_encoder=False when constructing XGBClassifier object; and 2) Encode your labels (y) as integers starting with 0, i.e. 0, 1, 2, ..., [num_class - 1].\n",
      "  warnings.warn(label_encoder_deprecation_msg, UserWarning)\n"
     ]
    },
    {
     "name": "stdout",
     "output_type": "stream",
     "text": [
      "[12:45:32] WARNING: /Users/travis/build/dmlc/xgboost/src/learner.cc:1115: Starting in XGBoost 1.3.0, the default evaluation metric used with the objective 'binary:logistic' was changed from 'error' to 'logloss'. Explicitly set eval_metric if you'd like to restore the old behavior.\n"
     ]
    },
    {
     "name": "stderr",
     "output_type": "stream",
     "text": [
      "/Users/saraokun/opt/anaconda3/lib/python3.8/site-packages/xgboost/sklearn.py:1224: UserWarning: The use of label encoder in XGBClassifier is deprecated and will be removed in a future release. To remove this warning, do the following: 1) Pass option use_label_encoder=False when constructing XGBClassifier object; and 2) Encode your labels (y) as integers starting with 0, i.e. 0, 1, 2, ..., [num_class - 1].\n",
      "  warnings.warn(label_encoder_deprecation_msg, UserWarning)\n"
     ]
    },
    {
     "name": "stdout",
     "output_type": "stream",
     "text": [
      "[12:46:02] WARNING: /Users/travis/build/dmlc/xgboost/src/learner.cc:1115: Starting in XGBoost 1.3.0, the default evaluation metric used with the objective 'binary:logistic' was changed from 'error' to 'logloss'. Explicitly set eval_metric if you'd like to restore the old behavior.\n"
     ]
    },
    {
     "name": "stderr",
     "output_type": "stream",
     "text": [
      "/Users/saraokun/opt/anaconda3/lib/python3.8/site-packages/xgboost/sklearn.py:1224: UserWarning: The use of label encoder in XGBClassifier is deprecated and will be removed in a future release. To remove this warning, do the following: 1) Pass option use_label_encoder=False when constructing XGBClassifier object; and 2) Encode your labels (y) as integers starting with 0, i.e. 0, 1, 2, ..., [num_class - 1].\n",
      "  warnings.warn(label_encoder_deprecation_msg, UserWarning)\n"
     ]
    },
    {
     "name": "stdout",
     "output_type": "stream",
     "text": [
      "[12:46:30] WARNING: /Users/travis/build/dmlc/xgboost/src/learner.cc:1115: Starting in XGBoost 1.3.0, the default evaluation metric used with the objective 'binary:logistic' was changed from 'error' to 'logloss'. Explicitly set eval_metric if you'd like to restore the old behavior.\n"
     ]
    },
    {
     "name": "stderr",
     "output_type": "stream",
     "text": [
      "/Users/saraokun/opt/anaconda3/lib/python3.8/site-packages/xgboost/sklearn.py:1224: UserWarning: The use of label encoder in XGBClassifier is deprecated and will be removed in a future release. To remove this warning, do the following: 1) Pass option use_label_encoder=False when constructing XGBClassifier object; and 2) Encode your labels (y) as integers starting with 0, i.e. 0, 1, 2, ..., [num_class - 1].\n",
      "  warnings.warn(label_encoder_deprecation_msg, UserWarning)\n"
     ]
    },
    {
     "name": "stdout",
     "output_type": "stream",
     "text": [
      "[12:46:58] WARNING: /Users/travis/build/dmlc/xgboost/src/learner.cc:1115: Starting in XGBoost 1.3.0, the default evaluation metric used with the objective 'binary:logistic' was changed from 'error' to 'logloss'. Explicitly set eval_metric if you'd like to restore the old behavior.\n"
     ]
    },
    {
     "name": "stderr",
     "output_type": "stream",
     "text": [
      "/Users/saraokun/opt/anaconda3/lib/python3.8/site-packages/xgboost/sklearn.py:1224: UserWarning: The use of label encoder in XGBClassifier is deprecated and will be removed in a future release. To remove this warning, do the following: 1) Pass option use_label_encoder=False when constructing XGBClassifier object; and 2) Encode your labels (y) as integers starting with 0, i.e. 0, 1, 2, ..., [num_class - 1].\n",
      "  warnings.warn(label_encoder_deprecation_msg, UserWarning)\n"
     ]
    },
    {
     "name": "stdout",
     "output_type": "stream",
     "text": [
      "[12:47:25] WARNING: /Users/travis/build/dmlc/xgboost/src/learner.cc:1115: Starting in XGBoost 1.3.0, the default evaluation metric used with the objective 'binary:logistic' was changed from 'error' to 'logloss'. Explicitly set eval_metric if you'd like to restore the old behavior.\n"
     ]
    },
    {
     "name": "stderr",
     "output_type": "stream",
     "text": [
      "/Users/saraokun/opt/anaconda3/lib/python3.8/site-packages/xgboost/sklearn.py:1224: UserWarning: The use of label encoder in XGBClassifier is deprecated and will be removed in a future release. To remove this warning, do the following: 1) Pass option use_label_encoder=False when constructing XGBClassifier object; and 2) Encode your labels (y) as integers starting with 0, i.e. 0, 1, 2, ..., [num_class - 1].\n",
      "  warnings.warn(label_encoder_deprecation_msg, UserWarning)\n"
     ]
    },
    {
     "name": "stdout",
     "output_type": "stream",
     "text": [
      "[12:47:51] WARNING: /Users/travis/build/dmlc/xgboost/src/learner.cc:1115: Starting in XGBoost 1.3.0, the default evaluation metric used with the objective 'binary:logistic' was changed from 'error' to 'logloss'. Explicitly set eval_metric if you'd like to restore the old behavior.\n"
     ]
    }
   ],
   "source": [
    "estimator = XGBClassifier()\n",
    "rfe_xgb = RFE(estimator, n_features_to_select = num_features, step = step).fit(X3_train, y_train)"
   ]
  },
  {
   "cell_type": "code",
   "execution_count": 106,
   "metadata": {},
   "outputs": [
    {
     "name": "stdout",
     "output_type": "stream",
     "text": [
      "There are 160 features in the union of the 2 RFEs\n"
     ]
    }
   ],
   "source": [
    "xgb_feat = X3_train.columns[rfe_xgb.support_]\n",
    "\n",
    "#see how many features these two have in common by using set\n",
    "all_feat_rfe = set().union(dt_feat, xgb_feat)\n",
    "print(f\"There are {len(all_feat_rfe)} features in the union of the 2 RFEs\")"
   ]
  },
  {
   "cell_type": "code",
   "execution_count": 107,
   "metadata": {},
   "outputs": [
    {
     "data": {
      "text/plain": [
       "['COL_MALIGNANCYM_2',\n",
       " 'COL_NODESEVAL_13',\n",
       " 'DISCHDEST_8',\n",
       " 'COL_MALIGNANCYM_1',\n",
       " 'COL_NODESEVAL_18',\n",
       " 'ASACLAS_2',\n",
       " 'COL_NODESEVAL_9',\n",
       " 'COL_MECH_BOWEL_PREP_2',\n",
       " 'SUPINFEC',\n",
       " 'COL_MALIGNANCYT_3',\n",
       " 'COL_MALIGNANCYM_4',\n",
       " 'COL_NODESEVAL_15',\n",
       " 'ASCITES',\n",
       " 'DOPTODIS',\n",
       " 'COL_NODESEVAL_5',\n",
       " 'BLEEDIS_1',\n",
       " 'OPRENAFL',\n",
       " 'PRNCPTX_3',\n",
       " 'COL_MECH_BOWEL_PREP_1',\n",
       " 'PRPLATE',\n",
       " 'COL_MALIGNANCYM_5',\n",
       " 'COL_NODESEVAL_16',\n",
       " 'COL_NODESEVAL_20',\n",
       " 'OTHCDIFF_1',\n",
       " 'COL_NODESEVAL_17',\n",
       " 'COL_ANASTOMOTIC_2',\n",
       " 'COL_NODESEVAL_8',\n",
       " 'COL_ANASTOMOTIC_3',\n",
       " 'OTHCDIFF_2',\n",
       " 'COL_ORAL_ANTIBIOTIC_1',\n",
       " 'SSSIPATOS',\n",
       " 'COL_MALIGNANCYN_4',\n",
       " 'COL_NODESEVAL_36',\n",
       " 'HXCOPD',\n",
       " 'num_concurr_procs',\n",
       " 'COL_ORAL_ANTIBIOTIC_2',\n",
       " 'PULEMBOL',\n",
       " 'PRNCPTX_2',\n",
       " 'PRSODM',\n",
       " 'COL_ANASTOMOTIC_5',\n",
       " 'ASACLAS_3',\n",
       " 'COL_NODESEVAL_10',\n",
       " 'COL_NODESEVAL_26',\n",
       " 'COL_MALIGNANCYN_2',\n",
       " 'ANESTHES_5',\n",
       " 'REINTUB',\n",
       " 'COL_NODESEVAL_2',\n",
       " 'ADMQTR',\n",
       " 'COL_NODESEVAL_69',\n",
       " 'URNINFEC',\n",
       " 'female',\n",
       " 'FNSTATUS2_2',\n",
       " 'UTIPATOS',\n",
       " 'COL_MALIGNANCYT_2',\n",
       " 'COL_ILEUS_1',\n",
       " 'EMERGNCY',\n",
       " 'OTHDVT',\n",
       " 'COL_ANASTOMOTIC_7',\n",
       " 'COL_NODESEVAL_41',\n",
       " 'PRNCPTX_7',\n",
       " 'COL_NODESEVAL_7',\n",
       " 'ORGSPCSSI',\n",
       " 'COL_MALIGNANCYT_9',\n",
       " 'COL_NODESEVAL_47',\n",
       " 'ASACLAS_1',\n",
       " 'inpatient',\n",
       " 'TRANST_2',\n",
       " 'STILLINHOSP',\n",
       " 'STEROID',\n",
       " 'SEPSISPATOS',\n",
       " 'DISCHDEST_3',\n",
       " 'WNDCLAS_2',\n",
       " 'PRNCPTX_8',\n",
       " 'RETURNOR',\n",
       " 'WNDCLAS_3',\n",
       " 'MORTPROB',\n",
       " 'ELECTSURG_1',\n",
       " 'VENTILAT',\n",
       " 'DISCHDEST_6',\n",
       " 'COL_NODESEVAL_23',\n",
       " 'HXCHF',\n",
       " 'TRANST_5',\n",
       " 'CPT',\n",
       " 'DISCHDEST_4',\n",
       " 'REOPERATION1',\n",
       " 'DYSPNEA_2',\n",
       " 'COL_MALIGNANCYT_5',\n",
       " 'COL_NODESEVAL_25',\n",
       " 'AGE',\n",
       " 'DISCHDEST_7',\n",
       " 'PRHCT',\n",
       " 'CDMI',\n",
       " 'DEHIS',\n",
       " 'PRNCPTX_5',\n",
       " 'FAILWEAN',\n",
       " 'WNDINF',\n",
       " 'OTHSYSEP',\n",
       " 'COL_APPROACH_2',\n",
       " 'WORKRVU',\n",
       " 'WTLOSS',\n",
       " 'WOUND_CLOSURE_3',\n",
       " 'COL_ANASTOMOTIC_8',\n",
       " 'WNDCLAS_1',\n",
       " 'COL_CHEMO_1',\n",
       " 'COL_MALIGNANCYT_1',\n",
       " 'RETORRELATED_2',\n",
       " 'OPTIME',\n",
       " 'num_other_procs',\n",
       " 'COL_NODESEVAL_11',\n",
       " 'MORBPROB',\n",
       " 'COL_NODESEVAL_3',\n",
       " 'PRSEPIS_4',\n",
       " 'PRWBC',\n",
       " 'COL_NODESEVAL_58',\n",
       " 'COL_MALIGNANCYN_8',\n",
       " 'PRNCPTX_9',\n",
       " 'OSSIPATOS',\n",
       " 'COL_MALIGNANCYN_3',\n",
       " 'TRANST_4',\n",
       " 'CNSCVA',\n",
       " 'DYSPNEA_1',\n",
       " 'COL_ANASTOMOTIC_1',\n",
       " 'WOUND_CLOSURE_2',\n",
       " 'FNSTATUS2_1',\n",
       " 'COL_NODESEVAL_14',\n",
       " 'REOPERATION2',\n",
       " 'RENAINSF',\n",
       " 'DISCHDEST_1',\n",
       " 'COL_MALIGNANCYT_6',\n",
       " 'COL_NODESEVAL_1',\n",
       " 'TRANST_1',\n",
       " 'HTOODAY',\n",
       " 'DISCANCR',\n",
       " 'COL_MALIGNANCYN_7',\n",
       " 'PRSEPIS_1',\n",
       " 'COL_NODESEVAL_6',\n",
       " 'COL_ANASTOMOTIC_6',\n",
       " 'COL_NODESEVAL_91',\n",
       " 'SEPSHOCKPATOS',\n",
       " 'COL_NODESEVAL_12',\n",
       " 'ADMYR',\n",
       " 'OTHBLEED',\n",
       " 'PRCREAT',\n",
       " 'PRSEPIS_2',\n",
       " 'HYPERMED',\n",
       " 'COL_CHEMO_2',\n",
       " 'OUPNEUMO',\n",
       " 'VENTPATOS',\n",
       " 'DSSIPATOS',\n",
       " 'COL_NODESEVAL_57',\n",
       " 'COL_MALIGNANCYN_1',\n",
       " 'SMOKE',\n",
       " 'COL_MARGINS_2',\n",
       " 'COL_ANASTOMOTIC_4',\n",
       " 'COL_NODESEVAL_80',\n",
       " 'WNDINFD',\n",
       " 'PRBUN',\n",
       " 'OTHSESHOCK',\n",
       " 'insulin',\n",
       " 'bmi']"
      ]
     },
     "execution_count": 107,
     "metadata": {},
     "output_type": "execute_result"
    }
   ],
   "source": [
    "rfe_feat = list(all_feat_rfe)\n",
    "rfe_feat"
   ]
  },
  {
   "cell_type": "code",
   "execution_count": 108,
   "metadata": {},
   "outputs": [
    {
     "data": {
      "text/plain": [
       "(150286, 160)"
      ]
     },
     "execution_count": 108,
     "metadata": {},
     "output_type": "execute_result"
    }
   ],
   "source": [
    "X4_train = X3_train[rfe_feat]\n",
    "X4_train.shape"
   ]
  },
  {
   "cell_type": "code",
   "execution_count": 109,
   "metadata": {},
   "outputs": [
    {
     "data": {
      "text/plain": [
       "(50096, 160)"
      ]
     },
     "execution_count": 109,
     "metadata": {},
     "output_type": "execute_result"
    }
   ],
   "source": [
    "X4_val = X2_val[rfe_feat]\n",
    "X4_val.shape"
   ]
  },
  {
   "cell_type": "code",
   "execution_count": 110,
   "metadata": {},
   "outputs": [
    {
     "data": {
      "text/plain": [
       "0.7128919900190069"
      ]
     },
     "execution_count": 110,
     "metadata": {},
     "output_type": "execute_result"
    }
   ],
   "source": [
    "dt = DecisionTreeClassifier()\n",
    "dt.fit(X4_train, y_train)\n",
    "y_pred = dt.predict_proba(X4_val)[:,1]\n",
    "\n",
    "fpr, tpr, thresholds = roc_curve(y_val, y_pred)\n",
    "roc_auc = auc(fpr, tpr)\n",
    "roc_auc"
   ]
  },
  {
   "cell_type": "markdown",
   "metadata": {},
   "source": [
    "## Select K Best"
   ]
  },
  {
   "cell_type": "code",
   "execution_count": 111,
   "metadata": {},
   "outputs": [],
   "source": [
    "from sklearn.feature_selection import SelectKBest, f_classif\n",
    "from collections import defaultdict"
   ]
  },
  {
   "cell_type": "code",
   "execution_count": 112,
   "metadata": {},
   "outputs": [
    {
     "name": "stderr",
     "output_type": "stream",
     "text": [
      "/Users/saraokun/opt/anaconda3/lib/python3.8/site-packages/sklearn/utils/validation.py:68: FutureWarning: Pass k=125 as keyword args. From version 0.25 passing these as positional arguments will result in an error\n",
      "  warnings.warn(\"Pass {} as keyword args. From version 0.25 \"\n",
      "/Users/saraokun/opt/anaconda3/lib/python3.8/site-packages/sklearn/utils/validation.py:68: FutureWarning: Pass k=110 as keyword args. From version 0.25 passing these as positional arguments will result in an error\n",
      "  warnings.warn(\"Pass {} as keyword args. From version 0.25 \"\n",
      "/Users/saraokun/opt/anaconda3/lib/python3.8/site-packages/sklearn/utils/validation.py:68: FutureWarning: Pass k=100 as keyword args. From version 0.25 passing these as positional arguments will result in an error\n",
      "  warnings.warn(\"Pass {} as keyword args. From version 0.25 \"\n",
      "/Users/saraokun/opt/anaconda3/lib/python3.8/site-packages/sklearn/utils/validation.py:68: FutureWarning: Pass k=90 as keyword args. From version 0.25 passing these as positional arguments will result in an error\n",
      "  warnings.warn(\"Pass {} as keyword args. From version 0.25 \"\n",
      "/Users/saraokun/opt/anaconda3/lib/python3.8/site-packages/sklearn/utils/validation.py:68: FutureWarning: Pass k=85 as keyword args. From version 0.25 passing these as positional arguments will result in an error\n",
      "  warnings.warn(\"Pass {} as keyword args. From version 0.25 \"\n",
      "/Users/saraokun/opt/anaconda3/lib/python3.8/site-packages/sklearn/utils/validation.py:68: FutureWarning: Pass k=75 as keyword args. From version 0.25 passing these as positional arguments will result in an error\n",
      "  warnings.warn(\"Pass {} as keyword args. From version 0.25 \"\n",
      "/Users/saraokun/opt/anaconda3/lib/python3.8/site-packages/sklearn/utils/validation.py:68: FutureWarning: Pass k=65 as keyword args. From version 0.25 passing these as positional arguments will result in an error\n",
      "  warnings.warn(\"Pass {} as keyword args. From version 0.25 \"\n",
      "/Users/saraokun/opt/anaconda3/lib/python3.8/site-packages/sklearn/utils/validation.py:68: FutureWarning: Pass k=50 as keyword args. From version 0.25 passing these as positional arguments will result in an error\n",
      "  warnings.warn(\"Pass {} as keyword args. From version 0.25 \"\n"
     ]
    }
   ],
   "source": [
    "k_best = defaultdict(list)\n",
    "k_vals = [125, 110, 100, 90, 85, 75, 65, 50]\n",
    "cols = X4_train.columns\n",
    "for k in k_vals:\n",
    "    train = SelectKBest(f_classif, k).fit(X4_train, y_train)\n",
    "    mask = train.get_support()\n",
    "    columns = cols[mask]\n",
    "    train = X4_train[columns]\n",
    "    val = X4_val[columns]\n",
    "    fpr, tpr, roc_auc, imp = run_baseline_dt(train, y_train, val, y_val)\n",
    "    roc_auc = auc(fpr, tpr)\n",
    "    k_best[k] = [roc_auc, columns]"
   ]
  },
  {
   "cell_type": "code",
   "execution_count": 113,
   "metadata": {},
   "outputs": [
    {
     "data": {
      "text/plain": [
       "defaultdict(list,\n",
       "            {125: [0.7132282911334042,\n",
       "              Index(['COL_MALIGNANCYM_2', 'DISCHDEST_8', 'COL_MALIGNANCYM_1', 'ASACLAS_2',\n",
       "                     'COL_NODESEVAL_9', 'COL_MECH_BOWEL_PREP_2', 'SUPINFEC',\n",
       "                     'COL_MALIGNANCYT_3', 'COL_MALIGNANCYM_4', 'ASCITES',\n",
       "                     ...\n",
       "                     'VENTPATOS', 'DSSIPATOS', 'COL_NODESEVAL_57', 'SMOKE', 'COL_MARGINS_2',\n",
       "                     'COL_ANASTOMOTIC_4', 'WNDINFD', 'PRBUN', 'OTHSESHOCK', 'insulin'],\n",
       "                    dtype='object', length=125)],\n",
       "             110: [0.7063255851721969,\n",
       "              Index(['COL_MALIGNANCYM_2', 'DISCHDEST_8', 'COL_MALIGNANCYM_1', 'ASACLAS_2',\n",
       "                     'COL_MECH_BOWEL_PREP_2', 'SUPINFEC', 'COL_MALIGNANCYT_3',\n",
       "                     'COL_MALIGNANCYM_4', 'ASCITES', 'DOPTODIS',\n",
       "                     ...\n",
       "                     'OUPNEUMO', 'VENTPATOS', 'DSSIPATOS', 'COL_NODESEVAL_57', 'SMOKE',\n",
       "                     'COL_ANASTOMOTIC_4', 'WNDINFD', 'PRBUN', 'OTHSESHOCK', 'insulin'],\n",
       "                    dtype='object', length=110)],\n",
       "             100: [0.7105465529651891,\n",
       "              Index(['DISCHDEST_8', 'COL_MALIGNANCYM_1', 'ASACLAS_2',\n",
       "                     'COL_MECH_BOWEL_PREP_2', 'SUPINFEC', 'ASCITES', 'DOPTODIS', 'BLEEDIS_1',\n",
       "                     'OPRENAFL', 'PRNCPTX_3', 'COL_MECH_BOWEL_PREP_1', 'COL_MALIGNANCYM_5',\n",
       "                     'OTHCDIFF_1', 'COL_ANASTOMOTIC_2', 'COL_ANASTOMOTIC_3', 'OTHCDIFF_2',\n",
       "                     'COL_ORAL_ANTIBIOTIC_1', 'SSSIPATOS', 'HXCOPD', 'num_concurr_procs',\n",
       "                     'COL_ORAL_ANTIBIOTIC_2', 'PULEMBOL', 'PRNCPTX_2', 'PRSODM',\n",
       "                     'COL_ANASTOMOTIC_5', 'ASACLAS_3', 'REINTUB', 'URNINFEC', 'FNSTATUS2_2',\n",
       "                     'UTIPATOS', 'COL_ILEUS_1', 'EMERGNCY', 'OTHDVT', 'COL_ANASTOMOTIC_7',\n",
       "                     'PRNCPTX_7', 'ORGSPCSSI', 'ASACLAS_1', 'TRANST_2', 'STILLINHOSP',\n",
       "                     'STEROID', 'SEPSISPATOS', 'DISCHDEST_3', 'WNDCLAS_2', 'PRNCPTX_8',\n",
       "                     'RETURNOR', 'WNDCLAS_3', 'MORTPROB', 'ELECTSURG_1', 'VENTILAT',\n",
       "                     'DISCHDEST_6', 'HXCHF', 'CPT', 'DISCHDEST_4', 'REOPERATION1',\n",
       "                     'DYSPNEA_2', 'PRHCT', 'CDMI', 'DEHIS', 'PRNCPTX_5', 'FAILWEAN',\n",
       "                     'WNDINF', 'OTHSYSEP', 'COL_APPROACH_2', 'WTLOSS', 'COL_ANASTOMOTIC_8',\n",
       "                     'WNDCLAS_1', 'COL_CHEMO_1', 'COL_MALIGNANCYT_1', 'RETORRELATED_2',\n",
       "                     'OPTIME', 'num_other_procs', 'MORBPROB', 'PRWBC', 'OSSIPATOS', 'CNSCVA',\n",
       "                     'DYSPNEA_1', 'COL_ANASTOMOTIC_1', 'WOUND_CLOSURE_2', 'FNSTATUS2_1',\n",
       "                     'REOPERATION2', 'RENAINSF', 'DISCHDEST_1', 'COL_MALIGNANCYT_6',\n",
       "                     'TRANST_1', 'HTOODAY', 'DISCANCR', 'PRSEPIS_1', 'COL_ANASTOMOTIC_6',\n",
       "                     'OTHBLEED', 'PRCREAT', 'PRSEPIS_2', 'HYPERMED', 'OUPNEUMO', 'DSSIPATOS',\n",
       "                     'SMOKE', 'COL_ANASTOMOTIC_4', 'WNDINFD', 'PRBUN', 'OTHSESHOCK',\n",
       "                     'insulin'],\n",
       "                    dtype='object')],\n",
       "             90: [0.7093531725987879,\n",
       "              Index(['DISCHDEST_8', 'COL_MALIGNANCYM_1', 'ASACLAS_2', 'SUPINFEC', 'DOPTODIS',\n",
       "                     'BLEEDIS_1', 'OPRENAFL', 'PRNCPTX_3', 'COL_MECH_BOWEL_PREP_1',\n",
       "                     'OTHCDIFF_1', 'COL_ANASTOMOTIC_2', 'COL_ANASTOMOTIC_3', 'OTHCDIFF_2',\n",
       "                     'COL_ORAL_ANTIBIOTIC_1', 'SSSIPATOS', 'HXCOPD', 'PULEMBOL', 'PRNCPTX_2',\n",
       "                     'PRSODM', 'COL_ANASTOMOTIC_5', 'ASACLAS_3', 'REINTUB', 'URNINFEC',\n",
       "                     'FNSTATUS2_2', 'UTIPATOS', 'COL_ILEUS_1', 'EMERGNCY', 'OTHDVT',\n",
       "                     'COL_ANASTOMOTIC_7', 'PRNCPTX_7', 'ORGSPCSSI', 'ASACLAS_1', 'TRANST_2',\n",
       "                     'STILLINHOSP', 'STEROID', 'SEPSISPATOS', 'DISCHDEST_3', 'WNDCLAS_2',\n",
       "                     'PRNCPTX_8', 'RETURNOR', 'WNDCLAS_3', 'MORTPROB', 'ELECTSURG_1',\n",
       "                     'DISCHDEST_6', 'HXCHF', 'CPT', 'DISCHDEST_4', 'REOPERATION1',\n",
       "                     'DYSPNEA_2', 'PRHCT', 'CDMI', 'DEHIS', 'PRNCPTX_5', 'FAILWEAN',\n",
       "                     'WNDINF', 'OTHSYSEP', 'COL_APPROACH_2', 'WTLOSS', 'COL_ANASTOMOTIC_8',\n",
       "                     'WNDCLAS_1', 'COL_CHEMO_1', 'RETORRELATED_2', 'OPTIME',\n",
       "                     'num_other_procs', 'MORBPROB', 'PRWBC', 'OSSIPATOS', 'CNSCVA',\n",
       "                     'DYSPNEA_1', 'COL_ANASTOMOTIC_1', 'FNSTATUS2_1', 'REOPERATION2',\n",
       "                     'RENAINSF', 'DISCHDEST_1', 'TRANST_1', 'HTOODAY', 'DISCANCR',\n",
       "                     'PRSEPIS_1', 'COL_ANASTOMOTIC_6', 'OTHBLEED', 'PRCREAT', 'PRSEPIS_2',\n",
       "                     'HYPERMED', 'OUPNEUMO', 'DSSIPATOS', 'SMOKE', 'WNDINFD', 'PRBUN',\n",
       "                     'OTHSESHOCK', 'insulin'],\n",
       "                    dtype='object')],\n",
       "             85: [0.6728865570390637,\n",
       "              Index(['DISCHDEST_8', 'ASACLAS_2', 'SUPINFEC', 'BLEEDIS_1', 'OPRENAFL',\n",
       "                     'PRNCPTX_3', 'COL_MECH_BOWEL_PREP_1', 'OTHCDIFF_1', 'COL_ANASTOMOTIC_2',\n",
       "                     'COL_ANASTOMOTIC_3', 'OTHCDIFF_2', 'COL_ORAL_ANTIBIOTIC_1', 'SSSIPATOS',\n",
       "                     'HXCOPD', 'PULEMBOL', 'PRNCPTX_2', 'PRSODM', 'COL_ANASTOMOTIC_5',\n",
       "                     'ASACLAS_3', 'REINTUB', 'URNINFEC', 'UTIPATOS', 'COL_ILEUS_1',\n",
       "                     'EMERGNCY', 'OTHDVT', 'COL_ANASTOMOTIC_7', 'PRNCPTX_7', 'ORGSPCSSI',\n",
       "                     'ASACLAS_1', 'TRANST_2', 'STILLINHOSP', 'STEROID', 'SEPSISPATOS',\n",
       "                     'DISCHDEST_3', 'WNDCLAS_2', 'RETURNOR', 'WNDCLAS_3', 'MORTPROB',\n",
       "                     'ELECTSURG_1', 'DISCHDEST_6', 'HXCHF', 'CPT', 'REOPERATION1',\n",
       "                     'DYSPNEA_2', 'PRHCT', 'CDMI', 'DEHIS', 'PRNCPTX_5', 'FAILWEAN',\n",
       "                     'WNDINF', 'OTHSYSEP', 'COL_APPROACH_2', 'WTLOSS', 'COL_ANASTOMOTIC_8',\n",
       "                     'WNDCLAS_1', 'COL_CHEMO_1', 'RETORRELATED_2', 'OPTIME',\n",
       "                     'num_other_procs', 'MORBPROB', 'PRWBC', 'OSSIPATOS', 'CNSCVA',\n",
       "                     'DYSPNEA_1', 'COL_ANASTOMOTIC_1', 'FNSTATUS2_1', 'REOPERATION2',\n",
       "                     'RENAINSF', 'DISCHDEST_1', 'TRANST_1', 'HTOODAY', 'DISCANCR',\n",
       "                     'PRSEPIS_1', 'COL_ANASTOMOTIC_6', 'OTHBLEED', 'PRCREAT', 'PRSEPIS_2',\n",
       "                     'HYPERMED', 'OUPNEUMO', 'DSSIPATOS', 'SMOKE', 'WNDINFD', 'PRBUN',\n",
       "                     'OTHSESHOCK', 'insulin'],\n",
       "                    dtype='object')],\n",
       "             75: [0.6745494308273958,\n",
       "              Index(['DISCHDEST_8', 'ASACLAS_2', 'SUPINFEC', 'BLEEDIS_1', 'OPRENAFL',\n",
       "                     'PRNCPTX_3', 'COL_MECH_BOWEL_PREP_1', 'OTHCDIFF_1', 'COL_ANASTOMOTIC_2',\n",
       "                     'COL_ANASTOMOTIC_3', 'OTHCDIFF_2', 'COL_ORAL_ANTIBIOTIC_1', 'SSSIPATOS',\n",
       "                     'HXCOPD', 'PULEMBOL', 'PRNCPTX_2', 'PRSODM', 'COL_ANASTOMOTIC_5',\n",
       "                     'ASACLAS_3', 'REINTUB', 'URNINFEC', 'UTIPATOS', 'COL_ILEUS_1', 'OTHDVT',\n",
       "                     'COL_ANASTOMOTIC_7', 'PRNCPTX_7', 'ORGSPCSSI', 'ASACLAS_1',\n",
       "                     'STILLINHOSP', 'STEROID', 'SEPSISPATOS', 'DISCHDEST_3', 'RETURNOR',\n",
       "                     'WNDCLAS_3', 'MORTPROB', 'ELECTSURG_1', 'DISCHDEST_6', 'CPT',\n",
       "                     'REOPERATION1', 'DYSPNEA_2', 'PRHCT', 'CDMI', 'DEHIS', 'PRNCPTX_5',\n",
       "                     'FAILWEAN', 'OTHSYSEP', 'COL_APPROACH_2', 'WTLOSS', 'COL_ANASTOMOTIC_8',\n",
       "                     'WNDCLAS_1', 'COL_CHEMO_1', 'RETORRELATED_2', 'OPTIME',\n",
       "                     'num_other_procs', 'MORBPROB', 'OSSIPATOS', 'CNSCVA', 'DYSPNEA_1',\n",
       "                     'COL_ANASTOMOTIC_1', 'FNSTATUS2_1', 'REOPERATION2', 'RENAINSF',\n",
       "                     'DISCHDEST_1', 'TRANST_1', 'HTOODAY', 'DISCANCR', 'OTHBLEED', 'PRCREAT',\n",
       "                     'PRSEPIS_2', 'HYPERMED', 'OUPNEUMO', 'SMOKE', 'WNDINFD', 'OTHSESHOCK',\n",
       "                     'insulin'],\n",
       "                    dtype='object')],\n",
       "             65: [0.670524036549263,\n",
       "              Index(['DISCHDEST_8', 'ASACLAS_2', 'SUPINFEC', 'BLEEDIS_1', 'OPRENAFL',\n",
       "                     'PRNCPTX_3', 'OTHCDIFF_1', 'COL_ANASTOMOTIC_2', 'COL_ANASTOMOTIC_3',\n",
       "                     'OTHCDIFF_2', 'HXCOPD', 'PULEMBOL', 'PRNCPTX_2', 'PRSODM',\n",
       "                     'COL_ANASTOMOTIC_5', 'ASACLAS_3', 'REINTUB', 'URNINFEC', 'COL_ILEUS_1',\n",
       "                     'OTHDVT', 'COL_ANASTOMOTIC_7', 'PRNCPTX_7', 'ORGSPCSSI', 'ASACLAS_1',\n",
       "                     'STILLINHOSP', 'STEROID', 'SEPSISPATOS', 'DISCHDEST_3', 'RETURNOR',\n",
       "                     'ELECTSURG_1', 'DISCHDEST_6', 'CPT', 'REOPERATION1', 'DYSPNEA_2',\n",
       "                     'PRHCT', 'CDMI', 'DEHIS', 'PRNCPTX_5', 'FAILWEAN', 'OTHSYSEP',\n",
       "                     'COL_APPROACH_2', 'COL_ANASTOMOTIC_8', 'WNDCLAS_1', 'COL_CHEMO_1',\n",
       "                     'RETORRELATED_2', 'OPTIME', 'num_other_procs', 'MORBPROB', 'OSSIPATOS',\n",
       "                     'CNSCVA', 'DYSPNEA_1', 'COL_ANASTOMOTIC_1', 'REOPERATION2', 'RENAINSF',\n",
       "                     'DISCHDEST_1', 'TRANST_1', 'HTOODAY', 'DISCANCR', 'OTHBLEED', 'PRCREAT',\n",
       "                     'HYPERMED', 'OUPNEUMO', 'WNDINFD', 'OTHSESHOCK', 'insulin'],\n",
       "                    dtype='object')],\n",
       "             50: [0.6700020885489711,\n",
       "              Index(['DISCHDEST_8', 'ASACLAS_2', 'SUPINFEC', 'OPRENAFL', 'PRNCPTX_3',\n",
       "                     'OTHCDIFF_1', 'COL_ANASTOMOTIC_2', 'COL_ANASTOMOTIC_3', 'OTHCDIFF_2',\n",
       "                     'PULEMBOL', 'PRNCPTX_2', 'COL_ANASTOMOTIC_5', 'ASACLAS_3', 'REINTUB',\n",
       "                     'URNINFEC', 'COL_ILEUS_1', 'OTHDVT', 'ORGSPCSSI', 'ASACLAS_1',\n",
       "                     'STEROID', 'SEPSISPATOS', 'RETURNOR', 'ELECTSURG_1', 'CPT',\n",
       "                     'REOPERATION1', 'PRHCT', 'CDMI', 'DEHIS', 'PRNCPTX_5', 'FAILWEAN',\n",
       "                     'OTHSYSEP', 'COL_APPROACH_2', 'COL_CHEMO_1', 'RETORRELATED_2', 'OPTIME',\n",
       "                     'num_other_procs', 'MORBPROB', 'OSSIPATOS', 'CNSCVA',\n",
       "                     'COL_ANASTOMOTIC_1', 'REOPERATION2', 'RENAINSF', 'DISCHDEST_1',\n",
       "                     'DISCANCR', 'OTHBLEED', 'HYPERMED', 'OUPNEUMO', 'WNDINFD', 'OTHSESHOCK',\n",
       "                     'insulin'],\n",
       "                    dtype='object')]})"
      ]
     },
     "execution_count": 113,
     "metadata": {},
     "output_type": "execute_result"
    }
   ],
   "source": [
    "k_best"
   ]
  },
  {
   "cell_type": "code",
   "execution_count": 114,
   "metadata": {},
   "outputs": [],
   "source": [
    "best_cols = k_best[125][1]\n",
    "X5_train = X4_train[best_cols]"
   ]
  },
  {
   "cell_type": "code",
   "execution_count": 115,
   "metadata": {},
   "outputs": [
    {
     "data": {
      "text/plain": [
       "(150286, 125)"
      ]
     },
     "execution_count": 115,
     "metadata": {},
     "output_type": "execute_result"
    }
   ],
   "source": [
    "X5_train.shape"
   ]
  },
  {
   "cell_type": "code",
   "execution_count": 116,
   "metadata": {},
   "outputs": [
    {
     "data": {
      "text/plain": [
       "0.7132282911334042"
      ]
     },
     "execution_count": 116,
     "metadata": {},
     "output_type": "execute_result"
    }
   ],
   "source": [
    "k_best[125][0]"
   ]
  },
  {
   "cell_type": "code",
   "execution_count": 117,
   "metadata": {},
   "outputs": [
    {
     "data": {
      "text/plain": [
       "0.7105465529651891"
      ]
     },
     "execution_count": 117,
     "metadata": {},
     "output_type": "execute_result"
    }
   ],
   "source": [
    "k_best[100][0]"
   ]
  },
  {
   "cell_type": "code",
   "execution_count": null,
   "metadata": {},
   "outputs": [],
   "source": []
  }
 ],
 "metadata": {
  "kernelspec": {
   "display_name": "Python 3",
   "language": "python",
   "name": "python3"
  },
  "language_info": {
   "codemirror_mode": {
    "name": "ipython",
    "version": 3
   },
   "file_extension": ".py",
   "mimetype": "text/x-python",
   "name": "python",
   "nbconvert_exporter": "python",
   "pygments_lexer": "ipython3",
   "version": "3.8.3"
  }
 },
 "nbformat": 4,
 "nbformat_minor": 4
}
