{
 "cells": [
  {
   "cell_type": "code",
   "execution_count": 1,
   "metadata": {},
   "outputs": [],
   "source": [
    "# Working directory set\n",
    "import sys\n",
    "sys.path.append(\"../scripts/\")"
   ]
  },
  {
   "cell_type": "code",
   "execution_count": 2,
   "metadata": {},
   "outputs": [],
   "source": [
    "import pandas as pd\n",
    "import numpy as np\n",
    "import json\n",
    "import seaborn as sns\n",
    "\n",
    "from clean_data import load_and_clean_data\n",
    "\n",
    "pd.set_option('display.max_rows', 400)"
   ]
  },
  {
   "cell_type": "code",
   "execution_count": 3,
   "metadata": {},
   "outputs": [
    {
     "name": "stderr",
     "output_type": "stream",
     "text": [
      "/Users/saraokun/opt/anaconda3/lib/python3.8/site-packages/IPython/core/interactiveshell.py:3263: DtypeWarning: Columns (10,17,19,23,25,27,28,29,30,32,33,36,37,38,39,40,41,42,43,50,51,83,86,89,92,94,95,97,100,103,106,110,113,116,121,124,127,130,133,136,188,190,201,212,231,232,242,244,247,249,256,262,267,273,279,280,281,282,283,284,286,287,288,289,290,291,292,293,294,295,296,297,298,299,300,301,305,318,320,333,334) have mixed types.Specify dtype option on import or set low_memory=False.\n",
      "  if (await self.run_code(code, result,  async_=asy)):\n",
      "/Users/saraokun/opt/anaconda3/lib/python3.8/site-packages/pandas/core/indexing.py:1637: SettingWithCopyWarning: \n",
      "A value is trying to be set on a copy of a slice from a DataFrame\n",
      "\n",
      "See the caveats in the documentation: https://pandas.pydata.org/pandas-docs/stable/user_guide/indexing.html#returning-a-view-versus-a-copy\n",
      "  self._setitem_single_block(indexer, value, name)\n"
     ]
    }
   ],
   "source": [
    "data = load_and_clean_data()"
   ]
  },
  {
   "cell_type": "code",
   "execution_count": 4,
   "metadata": {},
   "outputs": [
    {
     "data": {
      "text/plain": [
       "(222647, 298)"
      ]
     },
     "execution_count": 4,
     "metadata": {},
     "output_type": "execute_result"
    }
   ],
   "source": [
    "data.shape"
   ]
  },
  {
   "cell_type": "code",
   "execution_count": 47,
   "metadata": {},
   "outputs": [],
   "source": [
    "from sklearn.tree import DecisionTreeClassifier\n",
    "from sklearn.model_selection import train_test_split\n",
    "from sklearn.metrics import roc_curve, auc\n",
    "\n",
    "X = data.drop('target', axis = 1)\n",
    "y = data['target']\n",
    "\n",
    "# 70 20 10 split\n",
    "X_train, X_test, y_train, y_test = train_test_split(X, y, test_size = .1, random_state = 42)\n",
    "X_train, X_val, y_train, y_val = train_test_split(X_train, y_train, test_size = .25, random_state = 42)\n",
    "\n",
    "def run_baseline_dt(X_train, y_train, X_val, y_val):\n",
    "    dt = DecisionTreeClassifier()\n",
    "    dt.fit(X_train, y_train)\n",
    "    y_pred = dt.predict_proba(X_val)[:,1]\n",
    "    \n",
    "    fpr, tpr, thresholds = roc_curve(y_val, y_pred)\n",
    "    roc_auc = auc(fpr, tpr)\n",
    "    \n",
    "    importances = {}\n",
    "    for name, importance in zip(X_val.columns, dt.feature_importances_):\n",
    "        importances[name] = importance\n",
    "        \n",
    "    imp = pd.DataFrame.from_dict(importances, orient = 'index', columns = ['importance'])\n",
    "    imp.sort_values(by = 'importance', ascending = False, inplace = True)\n",
    "    \n",
    "    return fpr, tpr, roc_auc, imp"
   ]
  },
  {
   "cell_type": "code",
   "execution_count": 6,
   "metadata": {},
   "outputs": [],
   "source": [
    "fpr, tpr, roc_auc, imp = run_baseline_dt(data)"
   ]
  },
  {
   "cell_type": "code",
   "execution_count": 7,
   "metadata": {},
   "outputs": [
    {
     "name": "stdout",
     "output_type": "stream",
     "text": [
      "(150286, 297)\n",
      "(50096, 297)\n",
      "(22265, 297)\n"
     ]
    }
   ],
   "source": [
    "print(X_train.shape)\n",
    "print(X_val.shape)\n",
    "print(X_test.shape)"
   ]
  },
  {
   "cell_type": "markdown",
   "metadata": {},
   "source": [
    "# Feature Selection"
   ]
  },
  {
   "cell_type": "markdown",
   "metadata": {},
   "source": [
    "## Drop 0 feature importance features"
   ]
  },
  {
   "cell_type": "code",
   "execution_count": 8,
   "metadata": {},
   "outputs": [],
   "source": [
    "#drop columns that have 0 feature importance\n",
    "imp.reset_index(inplace = True)"
   ]
  },
  {
   "cell_type": "code",
   "execution_count": 9,
   "metadata": {},
   "outputs": [],
   "source": [
    "imp.drop(np.where(imp.importance == 0)[0], inplace = True)"
   ]
  },
  {
   "cell_type": "code",
   "execution_count": 10,
   "metadata": {},
   "outputs": [],
   "source": [
    "cols_to_keep = np.array(imp['index'])"
   ]
  },
  {
   "cell_type": "code",
   "execution_count": 11,
   "metadata": {},
   "outputs": [
    {
     "data": {
      "text/plain": [
       "263"
      ]
     },
     "execution_count": 11,
     "metadata": {},
     "output_type": "execute_result"
    }
   ],
   "source": [
    "len(cols_to_keep)"
   ]
  },
  {
   "cell_type": "code",
   "execution_count": 12,
   "metadata": {},
   "outputs": [],
   "source": [
    "X2_train = X_train[cols_to_keep]"
   ]
  },
  {
   "cell_type": "code",
   "execution_count": 13,
   "metadata": {},
   "outputs": [
    {
     "data": {
      "text/plain": [
       "(150286, 263)"
      ]
     },
     "execution_count": 13,
     "metadata": {},
     "output_type": "execute_result"
    }
   ],
   "source": [
    "X2_train.shape"
   ]
  },
  {
   "cell_type": "markdown",
   "metadata": {},
   "source": [
    "## Recursive Feature Elimination (RFE)"
   ]
  },
  {
   "cell_type": "code",
   "execution_count": 14,
   "metadata": {},
   "outputs": [],
   "source": [
    "from sklearn.feature_selection import RFE\n",
    "from xgboost import XGBClassifier"
   ]
  },
  {
   "cell_type": "code",
   "execution_count": 15,
   "metadata": {},
   "outputs": [],
   "source": [
    "estimator = DecisionTreeClassifier()\n",
    "num_features = 125\n",
    "step = 5\n",
    "rfe_dt = RFE(estimator, n_features_to_select = num_features, step = step).fit(X2_train, y_train)"
   ]
  },
  {
   "cell_type": "code",
   "execution_count": 16,
   "metadata": {},
   "outputs": [
    {
     "data": {
      "text/plain": [
       "Index(['OTHBLEED', 'DOPTODIS', 'OTHSYSEP', 'MORBPROB', 'OPTIME', 'PRHCT',\n",
       "       'bmi', 'PRPLATE', 'MORTPROB', 'PRWBC',\n",
       "       ...\n",
       "       'COL_MALIGNANCYN_6', 'COL_NODESEVAL_9', 'TRANST_1', 'FNSTATUS2_1',\n",
       "       'DISCHDEST_6', 'DYSPNEA_2', 'COL_NODESEVAL_20', 'RACE_NEW_1',\n",
       "       'COL_MALIGNANCYN_7', 'COL_MALIGNANCYT_5'],\n",
       "      dtype='object', length=125)"
      ]
     },
     "execution_count": 16,
     "metadata": {},
     "output_type": "execute_result"
    }
   ],
   "source": [
    "dt_feat = X2_train.columns[rfe_dt.support_]\n",
    "dt_feat"
   ]
  },
  {
   "cell_type": "code",
   "execution_count": 17,
   "metadata": {},
   "outputs": [
    {
     "name": "stderr",
     "output_type": "stream",
     "text": [
      "/Users/saraokun/opt/anaconda3/lib/python3.8/site-packages/xgboost/sklearn.py:1224: UserWarning: The use of label encoder in XGBClassifier is deprecated and will be removed in a future release. To remove this warning, do the following: 1) Pass option use_label_encoder=False when constructing XGBClassifier object; and 2) Encode your labels (y) as integers starting with 0, i.e. 0, 1, 2, ..., [num_class - 1].\n",
      "  warnings.warn(label_encoder_deprecation_msg, UserWarning)\n"
     ]
    },
    {
     "name": "stdout",
     "output_type": "stream",
     "text": [
      "[10:38:14] WARNING: /Users/travis/build/dmlc/xgboost/src/learner.cc:1115: Starting in XGBoost 1.3.0, the default evaluation metric used with the objective 'binary:logistic' was changed from 'error' to 'logloss'. Explicitly set eval_metric if you'd like to restore the old behavior.\n"
     ]
    },
    {
     "name": "stderr",
     "output_type": "stream",
     "text": [
      "/Users/saraokun/opt/anaconda3/lib/python3.8/site-packages/xgboost/sklearn.py:1224: UserWarning: The use of label encoder in XGBClassifier is deprecated and will be removed in a future release. To remove this warning, do the following: 1) Pass option use_label_encoder=False when constructing XGBClassifier object; and 2) Encode your labels (y) as integers starting with 0, i.e. 0, 1, 2, ..., [num_class - 1].\n",
      "  warnings.warn(label_encoder_deprecation_msg, UserWarning)\n"
     ]
    },
    {
     "name": "stdout",
     "output_type": "stream",
     "text": [
      "[10:39:02] WARNING: /Users/travis/build/dmlc/xgboost/src/learner.cc:1115: Starting in XGBoost 1.3.0, the default evaluation metric used with the objective 'binary:logistic' was changed from 'error' to 'logloss'. Explicitly set eval_metric if you'd like to restore the old behavior.\n"
     ]
    },
    {
     "name": "stderr",
     "output_type": "stream",
     "text": [
      "/Users/saraokun/opt/anaconda3/lib/python3.8/site-packages/xgboost/sklearn.py:1224: UserWarning: The use of label encoder in XGBClassifier is deprecated and will be removed in a future release. To remove this warning, do the following: 1) Pass option use_label_encoder=False when constructing XGBClassifier object; and 2) Encode your labels (y) as integers starting with 0, i.e. 0, 1, 2, ..., [num_class - 1].\n",
      "  warnings.warn(label_encoder_deprecation_msg, UserWarning)\n"
     ]
    },
    {
     "name": "stdout",
     "output_type": "stream",
     "text": [
      "[10:39:49] WARNING: /Users/travis/build/dmlc/xgboost/src/learner.cc:1115: Starting in XGBoost 1.3.0, the default evaluation metric used with the objective 'binary:logistic' was changed from 'error' to 'logloss'. Explicitly set eval_metric if you'd like to restore the old behavior.\n"
     ]
    },
    {
     "name": "stderr",
     "output_type": "stream",
     "text": [
      "/Users/saraokun/opt/anaconda3/lib/python3.8/site-packages/xgboost/sklearn.py:1224: UserWarning: The use of label encoder in XGBClassifier is deprecated and will be removed in a future release. To remove this warning, do the following: 1) Pass option use_label_encoder=False when constructing XGBClassifier object; and 2) Encode your labels (y) as integers starting with 0, i.e. 0, 1, 2, ..., [num_class - 1].\n",
      "  warnings.warn(label_encoder_deprecation_msg, UserWarning)\n"
     ]
    },
    {
     "name": "stdout",
     "output_type": "stream",
     "text": [
      "[10:40:34] WARNING: /Users/travis/build/dmlc/xgboost/src/learner.cc:1115: Starting in XGBoost 1.3.0, the default evaluation metric used with the objective 'binary:logistic' was changed from 'error' to 'logloss'. Explicitly set eval_metric if you'd like to restore the old behavior.\n"
     ]
    },
    {
     "name": "stderr",
     "output_type": "stream",
     "text": [
      "/Users/saraokun/opt/anaconda3/lib/python3.8/site-packages/xgboost/sklearn.py:1224: UserWarning: The use of label encoder in XGBClassifier is deprecated and will be removed in a future release. To remove this warning, do the following: 1) Pass option use_label_encoder=False when constructing XGBClassifier object; and 2) Encode your labels (y) as integers starting with 0, i.e. 0, 1, 2, ..., [num_class - 1].\n",
      "  warnings.warn(label_encoder_deprecation_msg, UserWarning)\n"
     ]
    },
    {
     "name": "stdout",
     "output_type": "stream",
     "text": [
      "[10:41:18] WARNING: /Users/travis/build/dmlc/xgboost/src/learner.cc:1115: Starting in XGBoost 1.3.0, the default evaluation metric used with the objective 'binary:logistic' was changed from 'error' to 'logloss'. Explicitly set eval_metric if you'd like to restore the old behavior.\n"
     ]
    },
    {
     "name": "stderr",
     "output_type": "stream",
     "text": [
      "/Users/saraokun/opt/anaconda3/lib/python3.8/site-packages/xgboost/sklearn.py:1224: UserWarning: The use of label encoder in XGBClassifier is deprecated and will be removed in a future release. To remove this warning, do the following: 1) Pass option use_label_encoder=False when constructing XGBClassifier object; and 2) Encode your labels (y) as integers starting with 0, i.e. 0, 1, 2, ..., [num_class - 1].\n",
      "  warnings.warn(label_encoder_deprecation_msg, UserWarning)\n"
     ]
    },
    {
     "name": "stdout",
     "output_type": "stream",
     "text": [
      "[10:42:00] WARNING: /Users/travis/build/dmlc/xgboost/src/learner.cc:1115: Starting in XGBoost 1.3.0, the default evaluation metric used with the objective 'binary:logistic' was changed from 'error' to 'logloss'. Explicitly set eval_metric if you'd like to restore the old behavior.\n"
     ]
    },
    {
     "name": "stderr",
     "output_type": "stream",
     "text": [
      "/Users/saraokun/opt/anaconda3/lib/python3.8/site-packages/xgboost/sklearn.py:1224: UserWarning: The use of label encoder in XGBClassifier is deprecated and will be removed in a future release. To remove this warning, do the following: 1) Pass option use_label_encoder=False when constructing XGBClassifier object; and 2) Encode your labels (y) as integers starting with 0, i.e. 0, 1, 2, ..., [num_class - 1].\n",
      "  warnings.warn(label_encoder_deprecation_msg, UserWarning)\n"
     ]
    },
    {
     "name": "stdout",
     "output_type": "stream",
     "text": [
      "[10:42:42] WARNING: /Users/travis/build/dmlc/xgboost/src/learner.cc:1115: Starting in XGBoost 1.3.0, the default evaluation metric used with the objective 'binary:logistic' was changed from 'error' to 'logloss'. Explicitly set eval_metric if you'd like to restore the old behavior.\n"
     ]
    },
    {
     "name": "stderr",
     "output_type": "stream",
     "text": [
      "/Users/saraokun/opt/anaconda3/lib/python3.8/site-packages/xgboost/sklearn.py:1224: UserWarning: The use of label encoder in XGBClassifier is deprecated and will be removed in a future release. To remove this warning, do the following: 1) Pass option use_label_encoder=False when constructing XGBClassifier object; and 2) Encode your labels (y) as integers starting with 0, i.e. 0, 1, 2, ..., [num_class - 1].\n",
      "  warnings.warn(label_encoder_deprecation_msg, UserWarning)\n"
     ]
    },
    {
     "name": "stdout",
     "output_type": "stream",
     "text": [
      "[10:43:23] WARNING: /Users/travis/build/dmlc/xgboost/src/learner.cc:1115: Starting in XGBoost 1.3.0, the default evaluation metric used with the objective 'binary:logistic' was changed from 'error' to 'logloss'. Explicitly set eval_metric if you'd like to restore the old behavior.\n"
     ]
    },
    {
     "name": "stderr",
     "output_type": "stream",
     "text": [
      "/Users/saraokun/opt/anaconda3/lib/python3.8/site-packages/xgboost/sklearn.py:1224: UserWarning: The use of label encoder in XGBClassifier is deprecated and will be removed in a future release. To remove this warning, do the following: 1) Pass option use_label_encoder=False when constructing XGBClassifier object; and 2) Encode your labels (y) as integers starting with 0, i.e. 0, 1, 2, ..., [num_class - 1].\n",
      "  warnings.warn(label_encoder_deprecation_msg, UserWarning)\n"
     ]
    },
    {
     "name": "stdout",
     "output_type": "stream",
     "text": [
      "[10:44:03] WARNING: /Users/travis/build/dmlc/xgboost/src/learner.cc:1115: Starting in XGBoost 1.3.0, the default evaluation metric used with the objective 'binary:logistic' was changed from 'error' to 'logloss'. Explicitly set eval_metric if you'd like to restore the old behavior.\n"
     ]
    },
    {
     "name": "stderr",
     "output_type": "stream",
     "text": [
      "/Users/saraokun/opt/anaconda3/lib/python3.8/site-packages/xgboost/sklearn.py:1224: UserWarning: The use of label encoder in XGBClassifier is deprecated and will be removed in a future release. To remove this warning, do the following: 1) Pass option use_label_encoder=False when constructing XGBClassifier object; and 2) Encode your labels (y) as integers starting with 0, i.e. 0, 1, 2, ..., [num_class - 1].\n",
      "  warnings.warn(label_encoder_deprecation_msg, UserWarning)\n"
     ]
    },
    {
     "name": "stdout",
     "output_type": "stream",
     "text": [
      "[10:44:43] WARNING: /Users/travis/build/dmlc/xgboost/src/learner.cc:1115: Starting in XGBoost 1.3.0, the default evaluation metric used with the objective 'binary:logistic' was changed from 'error' to 'logloss'. Explicitly set eval_metric if you'd like to restore the old behavior.\n"
     ]
    },
    {
     "name": "stderr",
     "output_type": "stream",
     "text": [
      "/Users/saraokun/opt/anaconda3/lib/python3.8/site-packages/xgboost/sklearn.py:1224: UserWarning: The use of label encoder in XGBClassifier is deprecated and will be removed in a future release. To remove this warning, do the following: 1) Pass option use_label_encoder=False when constructing XGBClassifier object; and 2) Encode your labels (y) as integers starting with 0, i.e. 0, 1, 2, ..., [num_class - 1].\n",
      "  warnings.warn(label_encoder_deprecation_msg, UserWarning)\n"
     ]
    },
    {
     "name": "stdout",
     "output_type": "stream",
     "text": [
      "[10:45:22] WARNING: /Users/travis/build/dmlc/xgboost/src/learner.cc:1115: Starting in XGBoost 1.3.0, the default evaluation metric used with the objective 'binary:logistic' was changed from 'error' to 'logloss'. Explicitly set eval_metric if you'd like to restore the old behavior.\n"
     ]
    },
    {
     "name": "stderr",
     "output_type": "stream",
     "text": [
      "/Users/saraokun/opt/anaconda3/lib/python3.8/site-packages/xgboost/sklearn.py:1224: UserWarning: The use of label encoder in XGBClassifier is deprecated and will be removed in a future release. To remove this warning, do the following: 1) Pass option use_label_encoder=False when constructing XGBClassifier object; and 2) Encode your labels (y) as integers starting with 0, i.e. 0, 1, 2, ..., [num_class - 1].\n",
      "  warnings.warn(label_encoder_deprecation_msg, UserWarning)\n"
     ]
    },
    {
     "name": "stdout",
     "output_type": "stream",
     "text": [
      "[10:46:00] WARNING: /Users/travis/build/dmlc/xgboost/src/learner.cc:1115: Starting in XGBoost 1.3.0, the default evaluation metric used with the objective 'binary:logistic' was changed from 'error' to 'logloss'. Explicitly set eval_metric if you'd like to restore the old behavior.\n"
     ]
    },
    {
     "name": "stderr",
     "output_type": "stream",
     "text": [
      "/Users/saraokun/opt/anaconda3/lib/python3.8/site-packages/xgboost/sklearn.py:1224: UserWarning: The use of label encoder in XGBClassifier is deprecated and will be removed in a future release. To remove this warning, do the following: 1) Pass option use_label_encoder=False when constructing XGBClassifier object; and 2) Encode your labels (y) as integers starting with 0, i.e. 0, 1, 2, ..., [num_class - 1].\n",
      "  warnings.warn(label_encoder_deprecation_msg, UserWarning)\n"
     ]
    },
    {
     "name": "stdout",
     "output_type": "stream",
     "text": [
      "[10:46:38] WARNING: /Users/travis/build/dmlc/xgboost/src/learner.cc:1115: Starting in XGBoost 1.3.0, the default evaluation metric used with the objective 'binary:logistic' was changed from 'error' to 'logloss'. Explicitly set eval_metric if you'd like to restore the old behavior.\n"
     ]
    },
    {
     "name": "stderr",
     "output_type": "stream",
     "text": [
      "/Users/saraokun/opt/anaconda3/lib/python3.8/site-packages/xgboost/sklearn.py:1224: UserWarning: The use of label encoder in XGBClassifier is deprecated and will be removed in a future release. To remove this warning, do the following: 1) Pass option use_label_encoder=False when constructing XGBClassifier object; and 2) Encode your labels (y) as integers starting with 0, i.e. 0, 1, 2, ..., [num_class - 1].\n",
      "  warnings.warn(label_encoder_deprecation_msg, UserWarning)\n"
     ]
    },
    {
     "name": "stdout",
     "output_type": "stream",
     "text": [
      "[10:47:15] WARNING: /Users/travis/build/dmlc/xgboost/src/learner.cc:1115: Starting in XGBoost 1.3.0, the default evaluation metric used with the objective 'binary:logistic' was changed from 'error' to 'logloss'. Explicitly set eval_metric if you'd like to restore the old behavior.\n"
     ]
    },
    {
     "name": "stderr",
     "output_type": "stream",
     "text": [
      "/Users/saraokun/opt/anaconda3/lib/python3.8/site-packages/xgboost/sklearn.py:1224: UserWarning: The use of label encoder in XGBClassifier is deprecated and will be removed in a future release. To remove this warning, do the following: 1) Pass option use_label_encoder=False when constructing XGBClassifier object; and 2) Encode your labels (y) as integers starting with 0, i.e. 0, 1, 2, ..., [num_class - 1].\n",
      "  warnings.warn(label_encoder_deprecation_msg, UserWarning)\n"
     ]
    },
    {
     "name": "stdout",
     "output_type": "stream",
     "text": [
      "[10:47:51] WARNING: /Users/travis/build/dmlc/xgboost/src/learner.cc:1115: Starting in XGBoost 1.3.0, the default evaluation metric used with the objective 'binary:logistic' was changed from 'error' to 'logloss'. Explicitly set eval_metric if you'd like to restore the old behavior.\n"
     ]
    },
    {
     "name": "stderr",
     "output_type": "stream",
     "text": [
      "/Users/saraokun/opt/anaconda3/lib/python3.8/site-packages/xgboost/sklearn.py:1224: UserWarning: The use of label encoder in XGBClassifier is deprecated and will be removed in a future release. To remove this warning, do the following: 1) Pass option use_label_encoder=False when constructing XGBClassifier object; and 2) Encode your labels (y) as integers starting with 0, i.e. 0, 1, 2, ..., [num_class - 1].\n",
      "  warnings.warn(label_encoder_deprecation_msg, UserWarning)\n"
     ]
    },
    {
     "name": "stdout",
     "output_type": "stream",
     "text": [
      "[10:48:26] WARNING: /Users/travis/build/dmlc/xgboost/src/learner.cc:1115: Starting in XGBoost 1.3.0, the default evaluation metric used with the objective 'binary:logistic' was changed from 'error' to 'logloss'. Explicitly set eval_metric if you'd like to restore the old behavior.\n"
     ]
    },
    {
     "name": "stderr",
     "output_type": "stream",
     "text": [
      "/Users/saraokun/opt/anaconda3/lib/python3.8/site-packages/xgboost/sklearn.py:1224: UserWarning: The use of label encoder in XGBClassifier is deprecated and will be removed in a future release. To remove this warning, do the following: 1) Pass option use_label_encoder=False when constructing XGBClassifier object; and 2) Encode your labels (y) as integers starting with 0, i.e. 0, 1, 2, ..., [num_class - 1].\n",
      "  warnings.warn(label_encoder_deprecation_msg, UserWarning)\n"
     ]
    },
    {
     "name": "stdout",
     "output_type": "stream",
     "text": [
      "[10:49:01] WARNING: /Users/travis/build/dmlc/xgboost/src/learner.cc:1115: Starting in XGBoost 1.3.0, the default evaluation metric used with the objective 'binary:logistic' was changed from 'error' to 'logloss'. Explicitly set eval_metric if you'd like to restore the old behavior.\n"
     ]
    },
    {
     "name": "stderr",
     "output_type": "stream",
     "text": [
      "/Users/saraokun/opt/anaconda3/lib/python3.8/site-packages/xgboost/sklearn.py:1224: UserWarning: The use of label encoder in XGBClassifier is deprecated and will be removed in a future release. To remove this warning, do the following: 1) Pass option use_label_encoder=False when constructing XGBClassifier object; and 2) Encode your labels (y) as integers starting with 0, i.e. 0, 1, 2, ..., [num_class - 1].\n",
      "  warnings.warn(label_encoder_deprecation_msg, UserWarning)\n"
     ]
    },
    {
     "name": "stdout",
     "output_type": "stream",
     "text": [
      "[10:49:35] WARNING: /Users/travis/build/dmlc/xgboost/src/learner.cc:1115: Starting in XGBoost 1.3.0, the default evaluation metric used with the objective 'binary:logistic' was changed from 'error' to 'logloss'. Explicitly set eval_metric if you'd like to restore the old behavior.\n"
     ]
    },
    {
     "name": "stderr",
     "output_type": "stream",
     "text": [
      "/Users/saraokun/opt/anaconda3/lib/python3.8/site-packages/xgboost/sklearn.py:1224: UserWarning: The use of label encoder in XGBClassifier is deprecated and will be removed in a future release. To remove this warning, do the following: 1) Pass option use_label_encoder=False when constructing XGBClassifier object; and 2) Encode your labels (y) as integers starting with 0, i.e. 0, 1, 2, ..., [num_class - 1].\n",
      "  warnings.warn(label_encoder_deprecation_msg, UserWarning)\n"
     ]
    },
    {
     "name": "stdout",
     "output_type": "stream",
     "text": [
      "[10:50:09] WARNING: /Users/travis/build/dmlc/xgboost/src/learner.cc:1115: Starting in XGBoost 1.3.0, the default evaluation metric used with the objective 'binary:logistic' was changed from 'error' to 'logloss'. Explicitly set eval_metric if you'd like to restore the old behavior.\n"
     ]
    },
    {
     "name": "stderr",
     "output_type": "stream",
     "text": [
      "/Users/saraokun/opt/anaconda3/lib/python3.8/site-packages/xgboost/sklearn.py:1224: UserWarning: The use of label encoder in XGBClassifier is deprecated and will be removed in a future release. To remove this warning, do the following: 1) Pass option use_label_encoder=False when constructing XGBClassifier object; and 2) Encode your labels (y) as integers starting with 0, i.e. 0, 1, 2, ..., [num_class - 1].\n",
      "  warnings.warn(label_encoder_deprecation_msg, UserWarning)\n"
     ]
    },
    {
     "name": "stdout",
     "output_type": "stream",
     "text": [
      "[10:50:42] WARNING: /Users/travis/build/dmlc/xgboost/src/learner.cc:1115: Starting in XGBoost 1.3.0, the default evaluation metric used with the objective 'binary:logistic' was changed from 'error' to 'logloss'. Explicitly set eval_metric if you'd like to restore the old behavior.\n"
     ]
    },
    {
     "name": "stderr",
     "output_type": "stream",
     "text": [
      "/Users/saraokun/opt/anaconda3/lib/python3.8/site-packages/xgboost/sklearn.py:1224: UserWarning: The use of label encoder in XGBClassifier is deprecated and will be removed in a future release. To remove this warning, do the following: 1) Pass option use_label_encoder=False when constructing XGBClassifier object; and 2) Encode your labels (y) as integers starting with 0, i.e. 0, 1, 2, ..., [num_class - 1].\n",
      "  warnings.warn(label_encoder_deprecation_msg, UserWarning)\n"
     ]
    },
    {
     "name": "stdout",
     "output_type": "stream",
     "text": [
      "[10:51:14] WARNING: /Users/travis/build/dmlc/xgboost/src/learner.cc:1115: Starting in XGBoost 1.3.0, the default evaluation metric used with the objective 'binary:logistic' was changed from 'error' to 'logloss'. Explicitly set eval_metric if you'd like to restore the old behavior.\n"
     ]
    },
    {
     "name": "stderr",
     "output_type": "stream",
     "text": [
      "/Users/saraokun/opt/anaconda3/lib/python3.8/site-packages/xgboost/sklearn.py:1224: UserWarning: The use of label encoder in XGBClassifier is deprecated and will be removed in a future release. To remove this warning, do the following: 1) Pass option use_label_encoder=False when constructing XGBClassifier object; and 2) Encode your labels (y) as integers starting with 0, i.e. 0, 1, 2, ..., [num_class - 1].\n",
      "  warnings.warn(label_encoder_deprecation_msg, UserWarning)\n"
     ]
    },
    {
     "name": "stdout",
     "output_type": "stream",
     "text": [
      "[10:51:45] WARNING: /Users/travis/build/dmlc/xgboost/src/learner.cc:1115: Starting in XGBoost 1.3.0, the default evaluation metric used with the objective 'binary:logistic' was changed from 'error' to 'logloss'. Explicitly set eval_metric if you'd like to restore the old behavior.\n"
     ]
    },
    {
     "name": "stderr",
     "output_type": "stream",
     "text": [
      "/Users/saraokun/opt/anaconda3/lib/python3.8/site-packages/xgboost/sklearn.py:1224: UserWarning: The use of label encoder in XGBClassifier is deprecated and will be removed in a future release. To remove this warning, do the following: 1) Pass option use_label_encoder=False when constructing XGBClassifier object; and 2) Encode your labels (y) as integers starting with 0, i.e. 0, 1, 2, ..., [num_class - 1].\n",
      "  warnings.warn(label_encoder_deprecation_msg, UserWarning)\n"
     ]
    },
    {
     "name": "stdout",
     "output_type": "stream",
     "text": [
      "[10:52:15] WARNING: /Users/travis/build/dmlc/xgboost/src/learner.cc:1115: Starting in XGBoost 1.3.0, the default evaluation metric used with the objective 'binary:logistic' was changed from 'error' to 'logloss'. Explicitly set eval_metric if you'd like to restore the old behavior.\n"
     ]
    },
    {
     "name": "stderr",
     "output_type": "stream",
     "text": [
      "/Users/saraokun/opt/anaconda3/lib/python3.8/site-packages/xgboost/sklearn.py:1224: UserWarning: The use of label encoder in XGBClassifier is deprecated and will be removed in a future release. To remove this warning, do the following: 1) Pass option use_label_encoder=False when constructing XGBClassifier object; and 2) Encode your labels (y) as integers starting with 0, i.e. 0, 1, 2, ..., [num_class - 1].\n",
      "  warnings.warn(label_encoder_deprecation_msg, UserWarning)\n"
     ]
    },
    {
     "name": "stdout",
     "output_type": "stream",
     "text": [
      "[10:52:45] WARNING: /Users/travis/build/dmlc/xgboost/src/learner.cc:1115: Starting in XGBoost 1.3.0, the default evaluation metric used with the objective 'binary:logistic' was changed from 'error' to 'logloss'. Explicitly set eval_metric if you'd like to restore the old behavior.\n"
     ]
    },
    {
     "name": "stderr",
     "output_type": "stream",
     "text": [
      "/Users/saraokun/opt/anaconda3/lib/python3.8/site-packages/xgboost/sklearn.py:1224: UserWarning: The use of label encoder in XGBClassifier is deprecated and will be removed in a future release. To remove this warning, do the following: 1) Pass option use_label_encoder=False when constructing XGBClassifier object; and 2) Encode your labels (y) as integers starting with 0, i.e. 0, 1, 2, ..., [num_class - 1].\n",
      "  warnings.warn(label_encoder_deprecation_msg, UserWarning)\n"
     ]
    },
    {
     "name": "stdout",
     "output_type": "stream",
     "text": [
      "[10:53:13] WARNING: /Users/travis/build/dmlc/xgboost/src/learner.cc:1115: Starting in XGBoost 1.3.0, the default evaluation metric used with the objective 'binary:logistic' was changed from 'error' to 'logloss'. Explicitly set eval_metric if you'd like to restore the old behavior.\n"
     ]
    },
    {
     "name": "stderr",
     "output_type": "stream",
     "text": [
      "/Users/saraokun/opt/anaconda3/lib/python3.8/site-packages/xgboost/sklearn.py:1224: UserWarning: The use of label encoder in XGBClassifier is deprecated and will be removed in a future release. To remove this warning, do the following: 1) Pass option use_label_encoder=False when constructing XGBClassifier object; and 2) Encode your labels (y) as integers starting with 0, i.e. 0, 1, 2, ..., [num_class - 1].\n",
      "  warnings.warn(label_encoder_deprecation_msg, UserWarning)\n"
     ]
    },
    {
     "name": "stdout",
     "output_type": "stream",
     "text": [
      "[10:53:41] WARNING: /Users/travis/build/dmlc/xgboost/src/learner.cc:1115: Starting in XGBoost 1.3.0, the default evaluation metric used with the objective 'binary:logistic' was changed from 'error' to 'logloss'. Explicitly set eval_metric if you'd like to restore the old behavior.\n"
     ]
    },
    {
     "name": "stderr",
     "output_type": "stream",
     "text": [
      "/Users/saraokun/opt/anaconda3/lib/python3.8/site-packages/xgboost/sklearn.py:1224: UserWarning: The use of label encoder in XGBClassifier is deprecated and will be removed in a future release. To remove this warning, do the following: 1) Pass option use_label_encoder=False when constructing XGBClassifier object; and 2) Encode your labels (y) as integers starting with 0, i.e. 0, 1, 2, ..., [num_class - 1].\n",
      "  warnings.warn(label_encoder_deprecation_msg, UserWarning)\n"
     ]
    },
    {
     "name": "stdout",
     "output_type": "stream",
     "text": [
      "[10:54:08] WARNING: /Users/travis/build/dmlc/xgboost/src/learner.cc:1115: Starting in XGBoost 1.3.0, the default evaluation metric used with the objective 'binary:logistic' was changed from 'error' to 'logloss'. Explicitly set eval_metric if you'd like to restore the old behavior.\n"
     ]
    },
    {
     "name": "stderr",
     "output_type": "stream",
     "text": [
      "/Users/saraokun/opt/anaconda3/lib/python3.8/site-packages/xgboost/sklearn.py:1224: UserWarning: The use of label encoder in XGBClassifier is deprecated and will be removed in a future release. To remove this warning, do the following: 1) Pass option use_label_encoder=False when constructing XGBClassifier object; and 2) Encode your labels (y) as integers starting with 0, i.e. 0, 1, 2, ..., [num_class - 1].\n",
      "  warnings.warn(label_encoder_deprecation_msg, UserWarning)\n"
     ]
    },
    {
     "name": "stdout",
     "output_type": "stream",
     "text": [
      "[10:54:34] WARNING: /Users/travis/build/dmlc/xgboost/src/learner.cc:1115: Starting in XGBoost 1.3.0, the default evaluation metric used with the objective 'binary:logistic' was changed from 'error' to 'logloss'. Explicitly set eval_metric if you'd like to restore the old behavior.\n"
     ]
    },
    {
     "name": "stderr",
     "output_type": "stream",
     "text": [
      "/Users/saraokun/opt/anaconda3/lib/python3.8/site-packages/xgboost/sklearn.py:1224: UserWarning: The use of label encoder in XGBClassifier is deprecated and will be removed in a future release. To remove this warning, do the following: 1) Pass option use_label_encoder=False when constructing XGBClassifier object; and 2) Encode your labels (y) as integers starting with 0, i.e. 0, 1, 2, ..., [num_class - 1].\n",
      "  warnings.warn(label_encoder_deprecation_msg, UserWarning)\n"
     ]
    },
    {
     "name": "stdout",
     "output_type": "stream",
     "text": [
      "[10:54:59] WARNING: /Users/travis/build/dmlc/xgboost/src/learner.cc:1115: Starting in XGBoost 1.3.0, the default evaluation metric used with the objective 'binary:logistic' was changed from 'error' to 'logloss'. Explicitly set eval_metric if you'd like to restore the old behavior.\n"
     ]
    }
   ],
   "source": [
    "estimator = XGBClassifier()\n",
    "rfe_xgb = RFE(estimator, n_features_to_select = num_features, step = step).fit(X2_train, y_train)"
   ]
  },
  {
   "cell_type": "code",
   "execution_count": 18,
   "metadata": {},
   "outputs": [
    {
     "name": "stdout",
     "output_type": "stream",
     "text": [
      "There are 162 features in the union of the 2 RFEs\n"
     ]
    }
   ],
   "source": [
    "xgb_feat = X2_train.columns[rfe_xgb.support_]\n",
    "\n",
    "#see how many features these two have in common by using set\n",
    "all_feat_rfe = set().union(dt_feat, xgb_feat)\n",
    "print(f\"There are {len(all_feat_rfe)} features in the union of the 2 RFEs\")"
   ]
  },
  {
   "cell_type": "code",
   "execution_count": 19,
   "metadata": {},
   "outputs": [
    {
     "data": {
      "text/plain": [
       "['TOTHLOS',\n",
       " 'COL_MALIGNANCYM_2',\n",
       " 'COL_NODESEVAL_13',\n",
       " 'DISCHDEST_8',\n",
       " 'COL_MALIGNANCYM_1',\n",
       " 'TRANSFUS',\n",
       " 'COL_NODESEVAL_18',\n",
       " 'ASACLAS_2',\n",
       " 'COL_NODESEVAL_9',\n",
       " 'COL_MECH_BOWEL_PREP_2',\n",
       " 'SUPINFEC',\n",
       " 'COL_MALIGNANCYT_3',\n",
       " 'BLEEDIS_2',\n",
       " 'COL_MALIGNANCYM_4',\n",
       " 'COL_NODESEVAL_15',\n",
       " 'DOPTODIS',\n",
       " 'COL_NODESEVAL_5',\n",
       " 'RACE_NEW_1',\n",
       " 'BLEEDIS_1',\n",
       " 'OPRENAFL',\n",
       " 'PRNCPTX_3',\n",
       " 'COL_MECH_BOWEL_PREP_1',\n",
       " 'PRPLATE',\n",
       " 'COL_MALIGNANCYM_5',\n",
       " 'COL_NODESEVAL_16',\n",
       " 'COL_NODESEVAL_20',\n",
       " 'OTHCDIFF_1',\n",
       " 'COL_NODESEVAL_17',\n",
       " 'COL_ANASTOMOTIC_2',\n",
       " 'COL_NODESEVAL_8',\n",
       " 'COL_ANASTOMOTIC_3',\n",
       " 'OTHCDIFF_2',\n",
       " 'COL_ORAL_ANTIBIOTIC_1',\n",
       " 'SSSIPATOS',\n",
       " 'COL_MALIGNANCYN_4',\n",
       " 'COL_NODESEVAL_36',\n",
       " 'HXCOPD',\n",
       " 'ETHNICITY_HISPANIC_1',\n",
       " 'num_concurr_procs',\n",
       " 'COL_ORAL_ANTIBIOTIC_2',\n",
       " 'PULEMBOL',\n",
       " 'COL_ANASTOMOTIC_5',\n",
       " 'PRSODM',\n",
       " 'PRNCPTX_2',\n",
       " 'ASACLAS_3',\n",
       " 'COL_NODESEVAL_10',\n",
       " 'COL_NODESEVAL_26',\n",
       " 'COL_MALIGNANCYN_2',\n",
       " 'ANESTHES_5',\n",
       " 'REINTUB',\n",
       " 'COL_NODESEVAL_2',\n",
       " 'ADMQTR',\n",
       " 'COL_NODESEVAL_69',\n",
       " 'URNINFEC',\n",
       " 'female',\n",
       " 'diabetes',\n",
       " 'FNSTATUS2_2',\n",
       " 'UTIPATOS',\n",
       " 'COL_MALIGNANCYT_2',\n",
       " 'COL_ILEUS_1',\n",
       " 'EMERGNCY',\n",
       " 'OTHDVT',\n",
       " 'COL_ANASTOMOTIC_7',\n",
       " 'PRNCPTX_7',\n",
       " 'COL_NODESEVAL_7',\n",
       " 'ORGSPCSSI',\n",
       " 'COL_MALIGNANCYT_9',\n",
       " 'COL_NODESEVAL_47',\n",
       " 'ASACLAS_1',\n",
       " 'inpatient',\n",
       " 'TRANST_2',\n",
       " 'STEROID',\n",
       " 'SEPSISPATOS',\n",
       " 'DISCHDEST_3',\n",
       " 'WNDCLAS_2',\n",
       " 'PRNCPTX_8',\n",
       " 'PUFYEAR',\n",
       " 'RETURNOR',\n",
       " 'WNDCLAS_3',\n",
       " 'MORTPROB',\n",
       " 'ELECTSURG_1',\n",
       " 'VENTILAT',\n",
       " 'DISCHDEST_6',\n",
       " 'HXCHF',\n",
       " 'CPT',\n",
       " 'DISCHDEST_4',\n",
       " 'REOPERATION1',\n",
       " 'DYSPNEA_2',\n",
       " 'COL_MALIGNANCYT_5',\n",
       " 'RACE_NEW_2',\n",
       " 'AGE',\n",
       " 'DISCHDEST_7',\n",
       " 'PRHCT',\n",
       " 'CDMI',\n",
       " 'DEHIS',\n",
       " 'PRNCPTX_5',\n",
       " 'FAILWEAN',\n",
       " 'WNDINF',\n",
       " 'OTHSYSEP',\n",
       " 'WTLOSS',\n",
       " 'WORKRVU',\n",
       " 'COL_APPROACH_2',\n",
       " 'COL_ANASTOMOTIC_8',\n",
       " 'WNDCLAS_1',\n",
       " 'COL_CHEMO_1',\n",
       " 'COL_MALIGNANCYT_1',\n",
       " 'RACE_NEW_4',\n",
       " 'COL_MALIGNANCYN_6',\n",
       " 'RETORRELATED_2',\n",
       " 'OPTIME',\n",
       " 'num_other_procs',\n",
       " 'COL_NODESEVAL_11',\n",
       " 'MORBPROB',\n",
       " 'PRSEPIS_4',\n",
       " 'PRWBC',\n",
       " 'COL_NODESEVAL_58',\n",
       " 'PRNCPTX_9',\n",
       " 'OSSIPATOS',\n",
       " 'COL_MALIGNANCYN_3',\n",
       " 'OPERYR',\n",
       " 'TRANST_4',\n",
       " 'CNSCVA',\n",
       " 'COL_ANASTOMOTIC_1',\n",
       " 'WOUND_CLOSURE_2',\n",
       " 'FNSTATUS2_1',\n",
       " 'COL_NODESEVAL_14',\n",
       " 'REOPERATION2',\n",
       " 'RENAINSF',\n",
       " 'DISCHDEST_1',\n",
       " 'COL_MALIGNANCYT_6',\n",
       " 'COL_NODESEVAL_1',\n",
       " 'TRANST_1',\n",
       " 'HTOODAY',\n",
       " 'DISCANCR',\n",
       " 'COL_MALIGNANCYN_7',\n",
       " 'PRSEPIS_1',\n",
       " 'COL_NODESEVAL_6',\n",
       " 'DISCHDEST_2',\n",
       " 'ETHNICITY_HISPANIC_2',\n",
       " 'COL_ANASTOMOTIC_6',\n",
       " 'COL_NODESEVAL_91',\n",
       " 'SEPSHOCKPATOS',\n",
       " 'COL_NODESEVAL_12',\n",
       " 'ADMYR',\n",
       " 'OTHBLEED',\n",
       " 'PRCREAT',\n",
       " 'PRSEPIS_2',\n",
       " 'HYPERMED',\n",
       " 'OUPNEUMO',\n",
       " 'DSSIPATOS',\n",
       " 'COL_MALIGNANCYN_9',\n",
       " 'COL_MALIGNANCYN_1',\n",
       " 'COL_NODESEVAL_57',\n",
       " 'SMOKE',\n",
       " 'COL_ANASTOMOTIC_4',\n",
       " 'COL_NODESEVAL_80',\n",
       " 'RACE_NEW_5',\n",
       " 'WNDINFD',\n",
       " 'PRBUN',\n",
       " 'OTHSESHOCK',\n",
       " 'insulin',\n",
       " 'bmi']"
      ]
     },
     "execution_count": 19,
     "metadata": {},
     "output_type": "execute_result"
    }
   ],
   "source": [
    "rfe_feat = list(all_feat_rfe)\n",
    "rfe_feat"
   ]
  },
  {
   "cell_type": "code",
   "execution_count": 20,
   "metadata": {},
   "outputs": [
    {
     "data": {
      "text/plain": [
       "(150286, 162)"
      ]
     },
     "execution_count": 20,
     "metadata": {},
     "output_type": "execute_result"
    }
   ],
   "source": [
    "X3_train = X2_train[rfe_feat]\n",
    "X3_train.shape"
   ]
  },
  {
   "cell_type": "code",
   "execution_count": 21,
   "metadata": {},
   "outputs": [
    {
     "data": {
      "text/plain": [
       "(50096, 162)"
      ]
     },
     "execution_count": 21,
     "metadata": {},
     "output_type": "execute_result"
    }
   ],
   "source": [
    "X2_val = X_val[cols_to_keep]\n",
    "X3_val = X2_val[rfe_feat]\n",
    "X3_val.shape"
   ]
  },
  {
   "cell_type": "code",
   "execution_count": 22,
   "metadata": {},
   "outputs": [
    {
     "data": {
      "text/plain": [
       "0.7119848303217398"
      ]
     },
     "execution_count": 22,
     "metadata": {},
     "output_type": "execute_result"
    }
   ],
   "source": [
    "dt = DecisionTreeClassifier()\n",
    "dt.fit(X3_train, y_train)\n",
    "y_pred = dt.predict_proba(X3_val)[:,1]\n",
    "\n",
    "fpr, tpr, thresholds = roc_curve(y_val, y_pred)\n",
    "roc_auc = auc(fpr, tpr)\n",
    "roc_auc"
   ]
  },
  {
   "cell_type": "markdown",
   "metadata": {},
   "source": [
    "## Select K Best"
   ]
  },
  {
   "cell_type": "code",
   "execution_count": 44,
   "metadata": {},
   "outputs": [],
   "source": [
    "from sklearn.feature_selection import SelectKBest, f_classif\n",
    "from collections import defaultdict"
   ]
  },
  {
   "cell_type": "code",
   "execution_count": null,
   "metadata": {},
   "outputs": [],
   "source": [
    "k_best = defaultdict(list)\n",
    "k_vals = [125, 100, 90, 75, 65, 50]\n",
    "cols = X3_train.columns\n",
    "for k in k_vals:\n",
    "    train = SelectKBest(chi2, k = k).fit(X3_train, y_train)\n",
    "    mask = train.get_support()\n",
    "    columns = cols[mask]\n",
    "    val = X3_val[columns]\n",
    "    run_baseline_dt(train, y_train, val, y_val)"
   ]
  },
  {
   "cell_type": "code",
   "execution_count": 38,
   "metadata": {},
   "outputs": [],
   "source": [
    "train = SelectKBest(f_classif, k = 50).fit(X3_train, y_train)"
   ]
  },
  {
   "cell_type": "code",
   "execution_count": 40,
   "metadata": {},
   "outputs": [
    {
     "data": {
      "text/plain": [
       "array([False, False, False,  True, False, False, False,  True, False,\n",
       "       False,  True, False, False, False, False, False, False, False,\n",
       "       False,  True,  True, False, False, False, False, False,  True,\n",
       "       False,  True, False,  True,  True, False, False, False, False,\n",
       "       False, False, False, False,  True,  True, False,  True,  True,\n",
       "       False, False, False, False,  True, False, False, False,  True,\n",
       "       False,  True, False, False, False,  True, False,  True, False,\n",
       "       False, False,  True, False, False,  True, False, False,  True,\n",
       "        True, False, False, False, False,  True, False, False,  True,\n",
       "       False, False, False,  True, False,  True, False, False, False,\n",
       "       False, False,  True,  True,  True,  True,  True, False,  True,\n",
       "       False, False,  True, False, False,  True, False, False, False,\n",
       "        True,  True,  True, False,  True, False, False, False, False,\n",
       "        True, False, False, False,  True,  True, False, False, False,\n",
       "        True,  True,  True, False, False, False, False,  True, False,\n",
       "       False, False, False, False, False, False, False, False, False,\n",
       "        True, False, False, False,  True, False, False, False, False,\n",
       "       False, False, False, False,  True, False,  True,  True, False])"
      ]
     },
     "execution_count": 40,
     "metadata": {},
     "output_type": "execute_result"
    }
   ],
   "source": [
    "train.get_support()"
   ]
  },
  {
   "cell_type": "code",
   "execution_count": 43,
   "metadata": {},
   "outputs": [
    {
     "data": {
      "text/plain": [
       "Index(['DISCHDEST_8', 'ASACLAS_2', 'SUPINFEC', 'OPRENAFL', 'PRNCPTX_3',\n",
       "       'OTHCDIFF_1', 'COL_ANASTOMOTIC_2', 'COL_ANASTOMOTIC_3', 'OTHCDIFF_2',\n",
       "       'PULEMBOL', 'COL_ANASTOMOTIC_5', 'PRNCPTX_2', 'ASACLAS_3', 'REINTUB',\n",
       "       'URNINFEC', 'diabetes', 'COL_ILEUS_1', 'OTHDVT', 'ORGSPCSSI',\n",
       "       'ASACLAS_1', 'STEROID', 'SEPSISPATOS', 'RETURNOR', 'ELECTSURG_1', 'CPT',\n",
       "       'REOPERATION1', 'PRHCT', 'CDMI', 'DEHIS', 'PRNCPTX_5', 'FAILWEAN',\n",
       "       'OTHSYSEP', 'COL_APPROACH_2', 'COL_CHEMO_1', 'RETORRELATED_2', 'OPTIME',\n",
       "       'num_other_procs', 'MORBPROB', 'OSSIPATOS', 'CNSCVA',\n",
       "       'COL_ANASTOMOTIC_1', 'REOPERATION2', 'RENAINSF', 'DISCHDEST_1',\n",
       "       'DISCANCR', 'OTHBLEED', 'OUPNEUMO', 'WNDINFD', 'OTHSESHOCK', 'insulin'],\n",
       "      dtype='object')"
      ]
     },
     "execution_count": 43,
     "metadata": {},
     "output_type": "execute_result"
    }
   ],
   "source": [
    "X3_train.columns[mask]"
   ]
  },
  {
   "cell_type": "markdown",
   "metadata": {},
   "source": [
    "## Remove Highly Correlated Features"
   ]
  },
  {
   "cell_type": "code",
   "execution_count": 96,
   "metadata": {},
   "outputs": [
    {
     "name": "stderr",
     "output_type": "stream",
     "text": [
      "<ipython-input-96-6b1467abdb5d>:4: DeprecationWarning: `np.bool` is a deprecated alias for the builtin `bool`. To silence this warning, use `bool` by itself. Doing this will not modify any behavior and is safe. If you specifically wanted the numpy scalar type, use `np.bool_` here.\n",
      "Deprecated in NumPy 1.20; for more details and guidance: https://numpy.org/devdocs/release/1.20.0-notes.html#deprecations\n",
      "  upper_tri = corr.where(np.triu(np.ones(corr.shape),k=1).astype(np.bool))\n"
     ]
    }
   ],
   "source": [
    "#correlation matrix\n",
    "corr = X4_train.corr().abs()\n",
    "#upper triangle\n",
    "upper_tri = corr.where(np.triu(np.ones(corr.shape),k=1).astype(np.bool))"
   ]
  },
  {
   "cell_type": "code",
   "execution_count": 99,
   "metadata": {},
   "outputs": [],
   "source": [
    "correlation = .85\n",
    "to_drop = [c for c in upper_tri.columns if any(upper_tri[c] > correlation)]"
   ]
  },
  {
   "cell_type": "code",
   "execution_count": 100,
   "metadata": {},
   "outputs": [
    {
     "data": {
      "text/plain": [
       "['TOTHLOS',\n",
       " 'ADMYR',\n",
       " 'DYSPNEA_1',\n",
       " 'COL_MALIGNANCYM_5',\n",
       " 'PUFYEAR',\n",
       " 'WOUND_CLOSURE_3',\n",
       " 'BLEEDIS_2',\n",
       " 'COL_MALIGNANCYT_9',\n",
       " 'REOPERATION1']"
      ]
     },
     "execution_count": 100,
     "metadata": {},
     "output_type": "execute_result"
    }
   ],
   "source": [
    "to_drop"
   ]
  },
  {
   "cell_type": "code",
   "execution_count": 105,
   "metadata": {},
   "outputs": [
    {
     "data": {
      "text/plain": [
       "REOPERATION1             1.000000\n",
       "RETORRELATED_2           0.973509\n",
       "RETURNOR                 0.778066\n",
       "COL_ANASTOMOTIC_3        0.362728\n",
       "DOPTODIS                 0.235411\n",
       "TOTHLOS                  0.201349\n",
       "COL_ANASTOMOTIC_8        0.198129\n",
       "COL_ANASTOMOTIC_5        0.186951\n",
       "COL_ILEUS_1              0.174729\n",
       "DISCHDEST_3              0.110311\n",
       "ORGSPCSSI                0.105135\n",
       "MORBPROB                 0.097193\n",
       "STILLINHOSP              0.094063\n",
       "DEHIS                    0.092742\n",
       "REOPERATION2             0.091668\n",
       "BLEEDIS_2                0.086678\n",
       "OTHCDIFF_2               0.085973\n",
       "OSSIPATOS                0.084908\n",
       "OTHBLEED                 0.082583\n",
       "DISCHDEST_1              0.076188\n",
       "COL_NODESEVAL_102        0.068068\n",
       "WOUND_CLOSURE_3          0.068068\n",
       "OTHSYSEP                 0.066596\n",
       "MORTPROB                 0.062967\n",
       "OTHSESHOCK               0.060110\n",
       "ELECTSURG_1              0.059499\n",
       "EMERGNCY                 0.058867\n",
       "CPT                      0.057512\n",
       "DISCHDEST_8              0.057504\n",
       "COL_APPROACH_2           0.057361\n",
       "SEPSHOCKPATOS            0.055469\n",
       "ASACLAS_3                0.054544\n",
       "FAILWEAN                 0.052491\n",
       "WNDINFD                  0.048544\n",
       "DISCHDEST_6              0.047754\n",
       "WNDCLAS_1                0.047396\n",
       "VENTILAT                 0.043543\n",
       "SUPINFEC                 0.043168\n",
       "TRANST_1                 0.042519\n",
       "COL_MECH_BOWEL_PREP_1    0.041551\n",
       "COL_ORAL_ANTIBIOTIC_1    0.041358\n",
       "PRWBC                    0.041122\n",
       "ASACLAS_1                0.040888\n",
       "PRBUN                    0.040047\n",
       "WNDCLAS_3                0.039745\n",
       "OUPNEUMO                 0.039154\n",
       "PRSEPIS_2                0.035236\n",
       "WOUND_CLOSURE_1          0.034022\n",
       "DISCHDEST_7              0.032863\n",
       "WNDINF                   0.032568\n",
       "HXCOPD                   0.031552\n",
       "DSSIPATOS                0.030853\n",
       "HTOODAY                  0.030150\n",
       "REINTUB                  0.029767\n",
       "PRHCT                    0.028663\n",
       "PRCREAT                  0.028338\n",
       "PRSODM                   0.027250\n",
       "num_other_procs          0.026679\n",
       "FNSTATUS2_1              0.026615\n",
       "SMOKE                    0.025851\n",
       "TRANSFUS                 0.024942\n",
       "OTHDVT                   0.024700\n",
       "ASACLAS_4                0.024432\n",
       "COL_MALIGNANCYM_1        0.024125\n",
       "female                   0.023411\n",
       "DIALYSIS                 0.023242\n",
       "SEPSISPATOS              0.022992\n",
       "PRSEPIS_4                0.022833\n",
       "COL_MALIGNANCYT_9        0.022766\n",
       "COL_MALIGNANCYN_9        0.022687\n",
       "URNINFEC                 0.022511\n",
       "TRANST_3                 0.022097\n",
       "PRNCPTX_8                0.021833\n",
       "COL_MALIGNANCYM_5        0.021479\n",
       "WNDCLAS_2                0.021156\n",
       "STEROID                  0.021006\n",
       "RENAINSF                 0.020471\n",
       "TRANST_2                 0.019989\n",
       "OPRENAFL                 0.019929\n",
       "DYSPNEA_2                0.019602\n",
       "PRNCPTX_2                0.019452\n",
       "ADMYR                    0.018777\n",
       "PRNCPTX_5                0.018763\n",
       "PRSEPIS_1                0.018454\n",
       "OPERYR                   0.018438\n",
       "PUFYEAR                  0.018438\n",
       "PULEMBOL                 0.017756\n",
       "WOUND_CLOSURE_2          0.016694\n",
       "WTLOSS                   0.016398\n",
       "FNSTATUS2_2              0.016016\n",
       "COL_MALIGNANCYT_3        0.015654\n",
       "HXCHF                    0.015557\n",
       "DYSPNEA_1                0.015251\n",
       "SSSIPATOS                0.015156\n",
       "COL_MARGINS_2            0.014795\n",
       "HYPERMED                 0.014701\n",
       "CDMI                     0.014666\n",
       "UTIPATOS                 0.014618\n",
       "PRNCPTX_7                0.014547\n",
       "OPTIME                   0.013961\n",
       "insulin                  0.012449\n",
       "CNSCVA                   0.012303\n",
       "DISCANCR                 0.011242\n",
       "PRNCPTX_1                0.011068\n",
       "COL_ANASTOMOTIC_4        0.010609\n",
       "COL_ANASTOMOTIC_7        0.010523\n",
       "COL_ANASTOMOTIC_1        0.010474\n",
       "OTHCDIFF_1               0.010420\n",
       "PRNCPTX_3                0.010335\n",
       "COL_NODESEVAL_19         0.010131\n",
       "COL_NODESEVAL_12         0.009897\n",
       "DISCHDEST_4              0.009649\n",
       "PRNCPTX_9                0.009459\n",
       "COL_MALIGNANCYT_2        0.009417\n",
       "COL_NODESEVAL_11         0.009160\n",
       "COL_NODESEVAL_8          0.008891\n",
       "COL_NODESEVAL_17         0.008633\n",
       "COL_NODESEVAL_9          0.008489\n",
       "COL_NODESEVAL_10         0.008472\n",
       "COL_MALIGNANCYN_3        0.008433\n",
       "RACE_NEW_1               0.008008\n",
       "COL_NODESEVAL_20         0.007909\n",
       "COL_NODESEVAL_13         0.007630\n",
       "COL_NODESEVAL_6          0.007560\n",
       "COL_MALIGNANCYT_1        0.007030\n",
       "COL_NODESEVAL_16         0.007012\n",
       "COL_MALIGNANCYN_6        0.007009\n",
       "COL_NODESEVAL_7          0.006947\n",
       "COL_NODESEVAL_36         0.006802\n",
       "COL_MALIGNANCYN_2        0.006726\n",
       "ETHNICITY_HISPANIC_1     0.006532\n",
       "BLEEDIS_1                0.006505\n",
       "COL_NODESEVAL_18         0.006427\n",
       "ASACLAS_2                0.006347\n",
       "COL_NODESEVAL_26         0.006342\n",
       "TRANST_4                 0.005938\n",
       "COL_NODESEVAL_15         0.005838\n",
       "COL_MALIGNANCYT_4        0.005733\n",
       "COL_NODESEVAL_21         0.005710\n",
       "COL_ANASTOMOTIC_6        0.005688\n",
       "ETHNICITY_HISPANIC_2     0.005606\n",
       "COL_NODESEVAL_23         0.005425\n",
       "COL_ANASTOMOTIC_9        0.005424\n",
       "WORKRVU                  0.005236\n",
       "COL_CHEMO_1              0.005184\n",
       "RACE_NEW_2               0.004934\n",
       "COL_MALIGNANCYT_5        0.004907\n",
       "COL_MALIGNANCYM_4        0.004767\n",
       "COL_MALIGNANCYN_4        0.004722\n",
       "COL_MALIGNANCYN_1        0.004689\n",
       "inpatient                0.004466\n",
       "COL_NODESEVAL_58         0.004410\n",
       "ADMQTR                   0.004191\n",
       "TRANST_5                 0.004059\n",
       "num_concurr_procs        0.003904\n",
       "COL_NODESEVAL_22         0.003729\n",
       "COL_NODESEVAL_47         0.003622\n",
       "COL_NODESEVAL_3          0.003590\n",
       "COL_NODESEVAL_41         0.003397\n",
       "COL_MALIGNANCYN_7        0.003350\n",
       "PRPLATE                  0.003218\n",
       "COL_NODESEVAL_14         0.003163\n",
       "COL_NODESEVAL_1          0.003008\n",
       "SURGSPEC_1               0.002937\n",
       "COL_CHEMO_2              0.002885\n",
       "RACE_NEW_4               0.002725\n",
       "ANESTHES_5               0.002423\n",
       "AGE                      0.002351\n",
       "COL_MALIGNANCYN_5        0.002270\n",
       "COL_NODESEVAL_80         0.002228\n",
       "PRNCPTX_10               0.002206\n",
       "COL_ORAL_ANTIBIOTIC_2    0.002175\n",
       "PRNCPTX_6                0.002008\n",
       "RACE_NEW_5               0.001694\n",
       "COL_MECH_BOWEL_PREP_2    0.001325\n",
       "COL_NODESEVAL_57         0.001258\n",
       "bmi                      0.001172\n",
       "COL_MALIGNANCYT_6        0.001163\n",
       "COL_MALIGNANCYM_2        0.000825\n",
       "COL_NODESEVAL_25         0.000768\n",
       "COL_NODESEVAL_91         0.000615\n",
       "COL_NODESEVAL_2          0.000534\n",
       "COL_NODESEVAL_69         0.000465\n",
       "COL_NODESEVAL_5          0.000360\n",
       "COL_ANASTOMOTIC_2        0.000263\n",
       "Name: REOPERATION1, dtype: float64"
      ]
     },
     "execution_count": 105,
     "metadata": {},
     "output_type": "execute_result"
    }
   ],
   "source": [
    "corr['REOPERATION1'].sort_values(ascending = False)"
   ]
  },
  {
   "cell_type": "code",
   "execution_count": null,
   "metadata": {},
   "outputs": [],
   "source": []
  }
 ],
 "metadata": {
  "kernelspec": {
   "display_name": "Python 3",
   "language": "python",
   "name": "python3"
  },
  "language_info": {
   "codemirror_mode": {
    "name": "ipython",
    "version": 3
   },
   "file_extension": ".py",
   "mimetype": "text/x-python",
   "name": "python",
   "nbconvert_exporter": "python",
   "pygments_lexer": "ipython3",
   "version": "3.8.3"
  }
 },
 "nbformat": 4,
 "nbformat_minor": 4
}
